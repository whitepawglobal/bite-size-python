{
 "cells": [
  {
   "cell_type": "code",
   "execution_count": 6,
   "id": "874f8b88-2add-4e54-ad95-6d304c539548",
   "metadata": {
    "tags": []
   },
   "outputs": [],
   "source": [
    "def reverse_value(value: int) -> int:\n",
    "\n",
    "    reverse = 0\n",
    "    while(value > 0):\n",
    "        \n",
    "        remain = value % 10\n",
    "        \n",
    "        reverse = reverse * 10 + remain\n",
    "        \n",
    "        value = int(value / 10)\n",
    "        \n",
    "    \n",
    "    return reverse"
   ]
  },
  {
   "cell_type": "code",
   "execution_count": 10,
   "id": "cf6aaaf0-c1fd-43b0-b976-dd8195a1e54b",
   "metadata": {
    "tags": []
   },
   "outputs": [
    {
     "data": {
      "text/plain": [
       "21201"
      ]
     },
     "execution_count": 10,
     "metadata": {},
     "output_type": "execute_result"
    }
   ],
   "source": [
    "reverse_value(10212)"
   ]
  },
  {
   "cell_type": "code",
   "execution_count": null,
   "id": "6bfb92ff-67bf-4ab3-ace4-ec3f6e7ab05e",
   "metadata": {},
   "outputs": [],
   "source": []
  }
 ],
 "metadata": {
  "kernelspec": {
   "display_name": "Python 3 (ipykernel)",
   "language": "python",
   "name": "python3"
  },
  "language_info": {
   "codemirror_mode": {
    "name": "ipython",
    "version": 3
   },
   "file_extension": ".py",
   "mimetype": "text/x-python",
   "name": "python",
   "nbconvert_exporter": "python",
   "pygments_lexer": "ipython3",
   "version": "3.10.4"
  }
 },
 "nbformat": 4,
 "nbformat_minor": 5
}
