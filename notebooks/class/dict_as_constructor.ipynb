{
 "cells": [
  {
   "cell_type": "code",
   "execution_count": 3,
   "id": "446780c4-c83f-4ac0-a013-5692641ac588",
   "metadata": {
    "tags": []
   },
   "outputs": [
    {
     "data": {
      "text/plain": [
       "DictClass(a=123, b=456, c='temp', d=True)"
      ]
     },
     "execution_count": 3,
     "metadata": {},
     "output_type": "execute_result"
    }
   ],
   "source": [
    "### user dict to build class\n",
    "from pydantic import BaseModel\n",
    "\n",
    "inputvalue = dict(a = 123, b = 456, c = \"temp\", d = True)\n",
    "\n",
    "class DictClass(BaseModel):\n",
    "    \n",
    "    a : int\n",
    "    b : int\n",
    "    c : str\n",
    "    d : bool\n",
    "    \n",
    "    \n",
    "DictClass(**inputvalue)"
   ]
  },
  {
   "cell_type": "code",
   "execution_count": null,
   "id": "8c2f57f6-5353-469a-97db-30f2e07ca60b",
   "metadata": {},
   "outputs": [],
   "source": []
  }
 ],
 "metadata": {
  "kernelspec": {
   "display_name": "Python 3 (ipykernel)",
   "language": "python",
   "name": "python3"
  },
  "language_info": {
   "codemirror_mode": {
    "name": "ipython",
    "version": 3
   },
   "file_extension": ".py",
   "mimetype": "text/x-python",
   "name": "python",
   "nbconvert_exporter": "python",
   "pygments_lexer": "ipython3",
   "version": "3.10.4"
  }
 },
 "nbformat": 4,
 "nbformat_minor": 5
}
