{
 "cells": [
  {
   "cell_type": "markdown",
   "id": "9e7175c8-e8ea-4edc-8cb1-5fd6456e92ee",
   "metadata": {},
   "source": [
    "### For python 3.6+ but below python 3.11\n",
    "\n",
    "```\n",
    "pip install StrEnum\n",
    "```\n",
    "\n",
    "### References\n",
    "- https://stackoverflow.com/questions/58608361/string-based-enum-in-python"
   ]
  },
  {
   "cell_type": "code",
   "execution_count": 1,
   "id": "7fa6f151-5f59-4b84-986b-028de25a2609",
   "metadata": {
    "tags": []
   },
   "outputs": [],
   "source": [
    "from strenum import StrEnum\n",
    "\n",
    "class Directions(StrEnum):\n",
    "    NORTH = 'north',    # notice the trailing comma\n",
    "    SOUTH = 'south'"
   ]
  },
  {
   "cell_type": "code",
   "execution_count": 2,
   "id": "f301fbb0-86d9-4301-9396-f16d96b93f29",
   "metadata": {
    "tags": []
   },
   "outputs": [
    {
     "data": {
      "text/plain": [
       "<Directions.SOUTH: 'south'>"
      ]
     },
     "execution_count": 2,
     "metadata": {},
     "output_type": "execute_result"
    }
   ],
   "source": [
    "Directions.SOUTH"
   ]
  },
  {
   "cell_type": "code",
   "execution_count": null,
   "id": "4d69dfbd-892f-4bbe-aedd-81055df79a5e",
   "metadata": {},
   "outputs": [],
   "source": []
  }
 ],
 "metadata": {
  "kernelspec": {
   "display_name": "Python 3 (ipykernel)",
   "language": "python",
   "name": "python3"
  },
  "language_info": {
   "codemirror_mode": {
    "name": "ipython",
    "version": 3
   },
   "file_extension": ".py",
   "mimetype": "text/x-python",
   "name": "python",
   "nbconvert_exporter": "python",
   "pygments_lexer": "ipython3",
   "version": "3.10.9"
  }
 },
 "nbformat": 4,
 "nbformat_minor": 5
}
