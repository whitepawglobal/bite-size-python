{
 "cells": [
  {
   "cell_type": "markdown",
   "id": "30f9942d-bbe4-441f-b660-b35e40cdf289",
   "metadata": {},
   "source": [
    "### When creating function \n",
    "- Which is better if the functionalities not being successfully execute?\n",
    "  - to return boolean of true/false\n",
    "  - raise exception in function\n",
    "\n",
    "\n",
    "### TLDR:\n",
    "- if it's of high priority to get it right (and not executing in the desirable way would divert the execution of the program) \n",
    "  - go for exception \n",
    "  - and remember to try-catch when using the function\n",
    "- if not executing as desirable is more of a subbranch of execution rather than an error, then can consider go with true/false\n",
    "  \n",
    "#### Return boolean of true/false\n",
    "- drawback: very subtle hint\n",
    "    - true/false is not explicit, it might be true use of true/false to show one or another\n",
    "        - User might not able to differentiate is the true/false to mean one or another or function not executed as desired\n",
    "        - weaker documentation\n",
    "\n",
    "#### Return of exception\n",
    "- strength: strong indication\n",
    "- drawback: have to catch exception when return\n",
    "    - If have the potential to happen then must catch exception when use the function, else the program will terminates"
   ]
  },
  {
   "cell_type": "code",
   "execution_count": 8,
   "id": "1e296252-0e19-41f8-866a-fd51301dcb50",
   "metadata": {
    "tags": []
   },
   "outputs": [],
   "source": [
    "import os\n",
    "from typing import Union"
   ]
  },
  {
   "cell_type": "code",
   "execution_count": 16,
   "id": "b04e9dc3-b7a4-4e7a-9326-962014ea383d",
   "metadata": {
    "tags": []
   },
   "outputs": [
    {
     "name": "stdout",
     "output_type": "stream",
     "text": [
      "Folder cannot be created\n"
     ]
    }
   ],
   "source": [
    "def makedir(inpath : str) -> Union[Exception, None]:\n",
    "\n",
    "    if not os.path.exists(inpath):\n",
    "        pass#os.makedirs(inpath)\n",
    "        \n",
    "        if not os.path.exists(inpath):\n",
    "\n",
    "            raise Exception(\"Folder cannot be created\")\n",
    "\n",
    "        else:\n",
    "\n",
    "            print(f\"Folders {inpath} successfully created\")\n",
    "        \n",
    "    else:\n",
    "        print(f\"Folders {inpath} already exist. Creation of folder skipped\")\n",
    "        \n",
    "    return None\n",
    "        \n",
    "try: \n",
    "    \n",
    "    makedir(\"./a/b/c\")\n",
    "    \n",
    "except Exception as e:\n",
    "    \n",
    "    print(e)"
   ]
  },
  {
   "cell_type": "code",
   "execution_count": null,
   "id": "1c0d537a-4070-45c2-9ff5-25a5e15d30da",
   "metadata": {},
   "outputs": [],
   "source": []
  }
 ],
 "metadata": {
  "kernelspec": {
   "display_name": "Python 3 (ipykernel)",
   "language": "python",
   "name": "python3"
  },
  "language_info": {
   "codemirror_mode": {
    "name": "ipython",
    "version": 3
   },
   "file_extension": ".py",
   "mimetype": "text/x-python",
   "name": "python",
   "nbconvert_exporter": "python",
   "pygments_lexer": "ipython3",
   "version": "3.10.9"
  }
 },
 "nbformat": 4,
 "nbformat_minor": 5
}
