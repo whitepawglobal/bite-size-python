{
 "cells": [
  {
   "cell_type": "markdown",
   "id": "f2f0ef4e-589c-4589-9cb6-69a46a9c80d6",
   "metadata": {},
   "source": [
    "## References\n",
    "- https://boto3.amazonaws.com/v1/documentation/api/latest/reference/services/s3/client/delete_object.html\n",
    "- https://saturncloud.io/blog/how-to-delete-a-folder-in-amazon-s3-using-boto/"
   ]
  },
  {
   "cell_type": "code",
   "execution_count": 8,
   "id": "bd705dd5-5e2b-40c2-a9e0-e1d31d65da95",
   "metadata": {
    "tags": []
   },
   "outputs": [],
   "source": [
    "import boto3\n",
    "import pandas as pd\n",
    "import io\n",
    "import json\n",
    "\n",
    "configfilepath = \"awscredential.json\"\n",
    "with open(configfilepath, 'r') as openfile:\n",
    " \n",
    "    # Reading from json file\n",
    "    config = json.load(openfile)\n",
    "    \n",
    "s3 = boto3.client('s3', aws_access_key_id=config[\"aws_access_key_id\"], aws_secret_access_key= config[\"aws_secret_access_key\"], region_name = config[\"region_name\"])\n",
    "                                                                                                     \n"
   ]
  },
  {
   "cell_type": "markdown",
   "id": "c5bf8032-4d42-4f35-a2c6-9bfa1be17dc5",
   "metadata": {},
   "source": [
    "### delete single file (Returns 204, no error even file not exist)"
   ]
  },
  {
   "cell_type": "code",
   "execution_count": 4,
   "id": "433bf8cb-fe47-437e-9f1f-ed9d16e1fbc8",
   "metadata": {
    "tags": []
   },
   "outputs": [
    {
     "data": {
      "text/plain": [
       "{'ResponseMetadata': {'RequestId': 'YJ0WDVA5PARSN2Y3',\n",
       "  'HostId': 'AwnIx7Q5szPhzuGW06imr9ZNPCqJcK1UnWd0/Vcjd5Omo+JmCsExU8DSbV7B55NLS4IBGuMvpaGOXszCqSDuFA==',\n",
       "  'HTTPStatusCode': 204,\n",
       "  'HTTPHeaders': {'x-amz-id-2': 'AwnIx7Q5szPhzuGW06imr9ZNPCqJcK1UnWd0/Vcjd5Omo+JmCsExU8DSbV7B55NLS4IBGuMvpaGOXszCqSDuFA==',\n",
       "   'x-amz-request-id': 'YJ0WDVA5PARSN2Y3',\n",
       "   'date': 'Mon, 04 Sep 2023 07:56:48 GMT',\n",
       "   'server': 'AmazonS3'},\n",
       "  'RetryAttempts': 0}}"
      ]
     },
     "execution_count": 4,
     "metadata": {},
     "output_type": "execute_result"
    }
   ],
   "source": [
    "bucket_name = \"face-distance\"\n",
    "object_name = \"chiaweilim/john_doe/cat3.jpg\"\n",
    "s3.delete_object(Bucket = bucket_name, Key = object_name)"
   ]
  },
  {
   "cell_type": "markdown",
   "id": "d829dd53-ea43-4226-9020-f268f1ae6878",
   "metadata": {
    "tags": []
   },
   "source": [
    "### delete all objects in a folder\n",
    "\n",
    "- need to list the objects\n",
    "- then delete one by one"
   ]
  },
  {
   "cell_type": "markdown",
   "id": "462b7026-6ae3-4c46-82bb-effc10e5827e",
   "metadata": {},
   "source": [
    "### delete subfolder (only works if the folder is empty"
   ]
  },
  {
   "cell_type": "code",
   "execution_count": 10,
   "id": "6121cdc2-37f4-43fe-8a89-d6d683aba115",
   "metadata": {
    "tags": []
   },
   "outputs": [
    {
     "data": {
      "text/plain": [
       "{'ResponseMetadata': {'RequestId': 'DGAP3V148H0HB8NH',\n",
       "  'HostId': 'N04MXT5zdBC8m0lHQT1fYAPA6ZYchGl5vBv5wB/h5W4VTdwiJLOt5cmBxCoBbuXyOzUKsUm0Xj8=',\n",
       "  'HTTPStatusCode': 204,\n",
       "  'HTTPHeaders': {'x-amz-id-2': 'N04MXT5zdBC8m0lHQT1fYAPA6ZYchGl5vBv5wB/h5W4VTdwiJLOt5cmBxCoBbuXyOzUKsUm0Xj8=',\n",
       "   'x-amz-request-id': 'DGAP3V148H0HB8NH',\n",
       "   'date': 'Mon, 04 Sep 2023 08:04:38 GMT',\n",
       "   'server': 'AmazonS3'},\n",
       "  'RetryAttempts': 0}}"
      ]
     },
     "execution_count": 10,
     "metadata": {},
     "output_type": "execute_result"
    }
   ],
   "source": [
    "bucket_name = \"face-distance\"\n",
    "object_name = \"chiaweilim/temp/\"\n",
    "\n",
    "s3.delete_object(Bucket = bucket_name, Key = object_name)"
   ]
  },
  {
   "cell_type": "code",
   "execution_count": null,
   "id": "76211aa2-634a-4382-9a21-df5056b7d4a6",
   "metadata": {},
   "outputs": [],
   "source": []
  }
 ],
 "metadata": {
  "kernelspec": {
   "display_name": "Python 3 (ipykernel)",
   "language": "python",
   "name": "python3"
  },
  "language_info": {
   "codemirror_mode": {
    "name": "ipython",
    "version": 3
   },
   "file_extension": ".py",
   "mimetype": "text/x-python",
   "name": "python",
   "nbconvert_exporter": "python",
   "pygments_lexer": "ipython3",
   "version": "3.10.4"
  }
 },
 "nbformat": 4,
 "nbformat_minor": 5
}
