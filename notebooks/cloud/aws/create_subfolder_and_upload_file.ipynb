{
 "cells": [
  {
   "cell_type": "markdown",
   "id": "ca729d52-7207-41f8-89c9-ee63e69d5540",
   "metadata": {},
   "source": [
    "### create subfolder and upload txt file"
   ]
  },
  {
   "cell_type": "code",
   "execution_count": 13,
   "id": "1d9d5642-50f5-457e-9adf-9371901d6893",
   "metadata": {
    "tags": []
   },
   "outputs": [],
   "source": [
    "import boto3\n",
    "import json\n",
    "\n",
    "configfilepath = \"awscredential.json\"\n",
    "filename = \"test.txt\"#\"beef.jpg\"\n",
    "bucketname = \"face-distance\"\n",
    "keyfilename = \"subfolder/{fname}\".format(fname=filename) \n",
    "# multiple subfolder works too\n",
    "# KeyFileName = \"/a/b/c/d/{fname}\".format(fname=myfilename) \n",
    "with open(configfilepath, 'r') as openfile:\n",
    " \n",
    "    # Reading from json file\n",
    "    config = json.load(openfile)\n",
    "    \n",
    "s3client = boto3.client('s3', aws_access_key_id=config[\"aws_access_key_id\"], aws_secret_access_key= config[\"aws_secret_access_key\"])"
   ]
  },
  {
   "cell_type": "code",
   "execution_count": 14,
   "id": "24f51d50-4ea6-4631-92a9-4a0878b4d06b",
   "metadata": {
    "tags": []
   },
   "outputs": [],
   "source": [
    "with open(filename) as f: \n",
    "    object_data = f.read()\n",
    "    s3client.put_object(Body=object_data, \n",
    "                        Bucket=bucketname, \n",
    "                        Key=keyfilename)"
   ]
  },
  {
   "cell_type": "code",
   "execution_count": null,
   "id": "c6b91297-6e1b-4af3-b40b-5b353fadc8bd",
   "metadata": {},
   "outputs": [],
   "source": []
  }
 ],
 "metadata": {
  "kernelspec": {
   "display_name": "Python 3 (ipykernel)",
   "language": "python",
   "name": "python3"
  },
  "language_info": {
   "codemirror_mode": {
    "name": "ipython",
    "version": 3
   },
   "file_extension": ".py",
   "mimetype": "text/x-python",
   "name": "python",
   "nbconvert_exporter": "python",
   "pygments_lexer": "ipython3",
   "version": "3.10.4"
  }
 },
 "nbformat": 4,
 "nbformat_minor": 5
}
