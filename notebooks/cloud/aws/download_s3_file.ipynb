{
 "cells": [
  {
   "cell_type": "code",
   "execution_count": 51,
   "metadata": {},
   "outputs": [],
   "source": [
    "import requests\n",
    "from requests.exceptions import ConnectionError\n",
    "from requests.exceptions import MissingSchema\n",
    "import os\n",
    "import re\n",
    "import logging\n",
    "def download_s3_file(url : str, localpath2save : str):\n",
    "    \"\"\"\n",
    "    Download file from URL\n",
    "    Return absolute path \n",
    "    \"\"\"\n",
    "    if not os.path.exists(localpath2save):\n",
    "        raise FileNotFoundError(f\"Path not found. Download file abort. {localpath2save}\")    \n",
    "    \n",
    "    response = requests.get(url)\n",
    "\n",
    "    if response.ok:\n",
    "        \n",
    "        #prerequisite is made where in s3 url it ends with the filename\n",
    "        filename = url.split(\"/\")[-1]\n",
    "\n",
    "        abspath2file = os.path.join(localpath2save, filename) \n",
    "        \n",
    "        if not os.path.exists(abspath2file):\n",
    "            \n",
    "            open(abspath2file, \"wb\").write(response.content)\n",
    "        \n",
    "        else:\n",
    "            \n",
    "            print(f\"Download skipped. Path to file {abspath2file} already exists\")\n",
    "        \n",
    "        return abspath2file\n",
    "    else:\n",
    "\n",
    "        raise MissingSchema(f\"{url} not found\")"
   ]
  },
  {
   "cell_type": "code",
   "execution_count": 39,
   "metadata": {},
   "outputs": [
    {
     "name": "stdout",
     "output_type": "stream",
     "text": [
      "<class 'TypeError'>\n",
      "stat: path should be string, bytes, os.PathLike or integer, not NoneType\n"
     ]
    }
   ],
   "source": [
    "url1 = \"a\"\n",
    "try:\n",
    "    download_s3_file(url1, None)\n",
    "except Exception as e:\n",
    "    \n",
    "    print(type(e))\n",
    "    print(e)"
   ]
  },
  {
   "cell_type": "code",
   "execution_count": 40,
   "metadata": {},
   "outputs": [
    {
     "name": "stdout",
     "output_type": "stream",
     "text": [
      "<class 'TypeError'>\n",
      "stat: path should be string, bytes, os.PathLike or integer, not NoneType\n"
     ]
    }
   ],
   "source": [
    "url2 = \"https://badurl\"\n",
    "try:\n",
    "    download_s3_file(url2, None)\n",
    "except Exception as e:\n",
    "    \n",
    "    print(type(e))\n",
    "    print(e)"
   ]
  },
  {
   "cell_type": "markdown",
   "metadata": {},
   "source": [
    "### final version "
   ]
  },
  {
   "cell_type": "code",
   "execution_count": null,
   "metadata": {},
   "outputs": [],
   "source": [
    "url = \"https://foldername.s3.ap-northeast-2.amazonaws.com/bear-face.1024x962.png\"\n",
    "\n",
    "path2save = r\"C:\\Users\\codenamewei\\Downloads\\temp\"\n",
    "\n",
    "try:\n",
    "    filepath = download_s3_file(url, path2save)\n",
    "    \n",
    "    print(filepath)\n",
    "    \n",
    "except (MissingSchema, ConnectionError, FileNotFoundError, TypeError) as e:\n",
    "    \n",
    "    print(e)"
   ]
  },
  {
   "cell_type": "code",
   "execution_count": null,
   "metadata": {},
   "outputs": [],
   "source": []
  }
 ],
 "metadata": {
  "kernelspec": {
   "display_name": "Python 3 (ipykernel)",
   "language": "python",
   "name": "python3"
  },
  "language_info": {
   "codemirror_mode": {
    "name": "ipython",
    "version": 3
   },
   "file_extension": ".py",
   "mimetype": "text/x-python",
   "name": "python",
   "nbconvert_exporter": "python",
   "pygments_lexer": "ipython3",
   "version": "3.8.5"
  }
 },
 "nbformat": 4,
 "nbformat_minor": 4
}
