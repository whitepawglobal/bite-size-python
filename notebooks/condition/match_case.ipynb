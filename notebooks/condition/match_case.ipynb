{
 "cells": [
  {
   "cell_type": "markdown",
   "id": "491f2cb7-2726-4eb4-a292-64c9b9ae75de",
   "metadata": {},
   "source": [
    "- match case is supported from python 3.10 onwards\n",
    "- Why use match case ? \n",
    "     - Cleaner than if-elseif-else\n",
    "     - Support complex use case. Example multiple validator\n",
    "- format \n",
    "  ```\n",
    "  match <keyword>\n",
    "      case <case-1>:\n",
    "      case <case-2>:\n",
    "      case _: \n",
    "  ```"
   ]
  },
  {
   "cell_type": "markdown",
   "id": "98c8237a-0f2c-46bd-a3b1-53ecd07de70c",
   "metadata": {},
   "source": [
    "## Hello World"
   ]
  },
  {
   "cell_type": "code",
   "execution_count": 1,
   "id": "57408864-0cb7-4b2d-a5c1-b6899503ccc1",
   "metadata": {
    "tags": []
   },
   "outputs": [
    {
     "name": "stdout",
     "output_type": "stream",
     "text": [
      "no idea what this is about\n"
     ]
    }
   ],
   "source": [
    "key = \"abc\"\n",
    "\n",
    "match key:\n",
    "    \n",
    "    case \"hell\":\n",
    "        \n",
    "        print(\"this is hell\")\n",
    "        \n",
    "    case \"hello\":\n",
    "        \n",
    "        print(\"hello world\")\n",
    "        \n",
    "    # notice how this support or \n",
    "    case \"hen\" | \"sum\":\n",
    "        \n",
    "        print(\"Random text\")\n",
    "    \n",
    "    case _:\n",
    "        \n",
    "        print(\"no idea what this is about\")"
   ]
  },
  {
   "cell_type": "markdown",
   "id": "3cef435a-01bf-4996-94ff-039dd58368d1",
   "metadata": {},
   "source": [
    "## Multiple value validator"
   ]
  },
  {
   "cell_type": "code",
   "execution_count": 3,
   "id": "383a893a-d736-4fcb-947f-730897ff0d01",
   "metadata": {
    "tags": []
   },
   "outputs": [
    {
     "name": "stdout",
     "output_type": "stream",
     "text": [
      "1\n",
      "2\n",
      "Fizz\n",
      "4\n",
      "Buzz\n",
      "Fizz\n",
      "7\n",
      "8\n",
      "Fizz\n"
     ]
    }
   ],
   "source": [
    "for n in range(1, 10):\n",
    "    match (n % 3, n % 5):\n",
    "        case (0, 0):\n",
    "            print(\"FizzBuzz\")\n",
    "        case (0, _):\n",
    "            print(\"Fizz\")\n",
    "        case (_, 0):\n",
    "            print(\"Buzz\")\n",
    "        case _:\n",
    "            print(n)"
   ]
  },
  {
   "cell_type": "markdown",
   "id": "887f10b4-bc80-4d03-8b6b-5d1f9e462d16",
   "metadata": {
    "tags": []
   },
   "source": [
    "## Complex use case\n",
    "\n",
    "- more references: \n",
    "    - https://www.geeksforgeeks.org/python-match-case-statement/"
   ]
  },
  {
   "cell_type": "code",
   "execution_count": null,
   "id": "af7ffa71-0cff-4693-85e9-1d233c936b21",
   "metadata": {},
   "outputs": [],
   "source": []
  }
 ],
 "metadata": {
  "kernelspec": {
   "display_name": "Python 3 (ipykernel)",
   "language": "python",
   "name": "python3"
  },
  "language_info": {
   "codemirror_mode": {
    "name": "ipython",
    "version": 3
   },
   "file_extension": ".py",
   "mimetype": "text/x-python",
   "name": "python",
   "nbconvert_exporter": "python",
   "pygments_lexer": "ipython3",
   "version": "3.10.4"
  }
 },
 "nbformat": 4,
 "nbformat_minor": 5
}
