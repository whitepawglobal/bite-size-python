{
 "cells": [
  {
   "cell_type": "markdown",
   "id": "d3e1d222-7413-4a13-9a71-c5b35ea9de0b",
   "metadata": {
    "tags": []
   },
   "source": [
    "# Bulk read video\n",
    "- Get all the frames at once\n",
    "\n",
    "# Warning: large videos will consume a lot of memory (RAM)"
   ]
  },
  {
   "cell_type": "code",
   "execution_count": 1,
   "id": "4bc425ae-c69e-4ad4-a817-7535f79153a6",
   "metadata": {
    "tags": []
   },
   "outputs": [
    {
     "name": "stdout",
     "output_type": "stream",
     "text": [
      "<class 'numpy.ndarray'>\n",
      "(204, 1440, 2560, 3)\n"
     ]
    }
   ],
   "source": [
    "import imageio.v3 as imageio_v3\n",
    "import os\n",
    "import numpy as np\n",
    "\n",
    "\"\"\"\n",
    "pip install imageio\n",
    "pip install av\n",
    "\"\"\"\n",
    "\n",
    "invideopath = \"sample_in.mp4\"\n",
    "outvideopath = \"sample_out.mp4\"\n",
    "\n",
    "# Note: this will open the image twice. Check the docs (advanced usage) if\n",
    "# this is an issue for your use-case\n",
    "metadata = imageio_v3.immeta(invideopath, exclude_applied=False)\n",
    "\n",
    "frames = imageio_v3.imread(invideopath)\n",
    "\n",
    "print(type(frames))\n",
    "print(frames.shape)"
   ]
  },
  {
   "cell_type": "code",
   "execution_count": 2,
   "id": "24ebffa1-d63a-40be-b32c-958857260876",
   "metadata": {
    "tags": []
   },
   "outputs": [
    {
     "name": "stdout",
     "output_type": "stream",
     "text": [
      "1440\n",
      "2560\n"
     ]
    }
   ],
   "source": [
    "img_width = frames[0].shape[0]\n",
    "img_height = frames[0].shape[1]\n",
    "\n",
    "print(img_width)\n",
    "print(img_height)"
   ]
  },
  {
   "cell_type": "code",
   "execution_count": 8,
   "id": "4422bef7-6f60-4a08-b165-dc292859e53d",
   "metadata": {
    "tags": []
   },
   "outputs": [
    {
     "data": {
      "text/plain": [
       "{'plugin': 'ffmpeg',\n",
       " 'nframes': inf,\n",
       " 'ffmpeg_version': '6.0 built with Apple clang version 14.0.3 (clang-1403.0.22.14.1)',\n",
       " 'codec': 'h264',\n",
       " 'pix_fmt': 'yuv420p(progressive)',\n",
       " 'fps': 29.97,\n",
       " 'source_size': (2560, 1440),\n",
       " 'size': (2560, 1440),\n",
       " 'rotate': 0,\n",
       " 'duration': 6.82}"
      ]
     },
     "execution_count": 8,
     "metadata": {},
     "output_type": "execute_result"
    }
   ],
   "source": [
    "metadata"
   ]
  },
  {
   "cell_type": "markdown",
   "id": "872b4352-54b7-4024-a0d7-e2b4f9df823c",
   "metadata": {},
   "source": [
    "### write to video"
   ]
  },
  {
   "cell_type": "code",
   "execution_count": 9,
   "id": "4a24941c-7347-4511-b6f8-b34930bbc5d6",
   "metadata": {
    "tags": []
   },
   "outputs": [],
   "source": [
    "import imageio.v2 as imageio_v2\n",
    "import imageio as imageio_v1\n",
    "import math\n",
    "\n",
    "#os.environ['IMAGEIO_FFMPEG_EXE'] =  r\"C:\\Program Files\\ffmpeg-2021-11-18-git-85a6b7f7b7-essentials_build\\bin\\ffmpeg.exe\"\n",
    "\n",
    "os.environ['IMAGEIO_FFMPEG_EXE'] =  \"/opt/homebrew/Cellar/ffmpeg/6.0/bin/ffmpeg\" #mac\n",
    "\n",
    "fps = math.ceil(metadata[\"fps\"])\n",
    "#https://github.com/imageio/imageio/blob/6703b2c526e72cf39a2be76038bc47b7527155d5/imageio/v2.py#L287\n",
    "videowriter : imageio_v1.plugins.ffmpeg.FfmpegFormat.Writer = imageio_v2.get_writer(outvideopath, fps = fps)\n",
    "\n",
    "for frame in frames:\n",
    "    videowriter.append_data(frame)\n",
    "videowriter.close()\n",
    "\n",
    "print(\"Done\")"
   ]
  },
  {
   "cell_type": "code",
   "execution_count": null,
   "id": "c2a4b699-4ef5-4bea-b425-fc5ddf96e78d",
   "metadata": {},
   "outputs": [],
   "source": []
  }
 ],
 "metadata": {
  "kernelspec": {
   "display_name": "Python 3 (ipykernel)",
   "language": "python",
   "name": "python3"
  },
  "language_info": {
   "codemirror_mode": {
    "name": "ipython",
    "version": 3
   },
   "file_extension": ".py",
   "mimetype": "text/x-python",
   "name": "python",
   "nbconvert_exporter": "python",
   "pygments_lexer": "ipython3",
   "version": "3.10.4"
  }
 },
 "nbformat": 4,
 "nbformat_minor": 5
}
