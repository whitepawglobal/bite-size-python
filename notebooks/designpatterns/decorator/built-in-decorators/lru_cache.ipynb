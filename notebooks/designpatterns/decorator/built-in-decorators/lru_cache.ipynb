{
 "cells": [
  {
   "cell_type": "markdown",
   "id": "90c1dbc3-88db-4281-8f47-7bb9c11f3b9d",
   "metadata": {},
   "source": [
    "## Learn more about lru_cache\n",
    "\n",
    "https://www.educative.io/answers/what-is-lrucache-in-functools-module-in-python"
   ]
  },
  {
   "cell_type": "code",
   "execution_count": 16,
   "id": "965bdbaa-5147-404a-821f-2cc68de347f6",
   "metadata": {
    "tags": []
   },
   "outputs": [],
   "source": [
    "from functools import lru_cache\n",
    "\n",
    "\n",
    "class Test:\n",
    "    \n",
    "    a : int = 100\n",
    "    \n",
    "    def __init__(self):\n",
    "        \n",
    "        print(\"test\")"
   ]
  },
  {
   "cell_type": "code",
   "execution_count": 17,
   "id": "5d943b1f-ab47-4ad5-881a-ed6bd41f52d0",
   "metadata": {
    "tags": []
   },
   "outputs": [],
   "source": [
    "@lru_cache\n",
    "def call_me():\n",
    "    \n",
    "    return Test()\n",
    "\n",
    "\n",
    "def call_me_without_lru_cache():\n",
    "    \n",
    "    return Test()"
   ]
  },
  {
   "cell_type": "code",
   "execution_count": 18,
   "id": "d4e6b801-bb9a-46a5-9a09-a3a4737025da",
   "metadata": {
    "tags": []
   },
   "outputs": [
    {
     "name": "stdout",
     "output_type": "stream",
     "text": [
      "test\n",
      "100\n",
      "100\n",
      "100\n",
      "100\n",
      "100\n"
     ]
    }
   ],
   "source": [
    "for i in range(5):\n",
    "    print(call_me().a)"
   ]
  },
  {
   "cell_type": "code",
   "execution_count": 19,
   "id": "90cb59e4-484a-4221-88c5-f67ad2421b18",
   "metadata": {
    "tags": []
   },
   "outputs": [
    {
     "name": "stdout",
     "output_type": "stream",
     "text": [
      "test\n",
      "100\n",
      "test\n",
      "100\n",
      "test\n",
      "100\n",
      "test\n",
      "100\n",
      "test\n",
      "100\n"
     ]
    }
   ],
   "source": [
    "for i in range(5):\n",
    "    print(call_me_without_lru_cache().a)"
   ]
  },
  {
   "cell_type": "code",
   "execution_count": null,
   "id": "9032af39-8487-4c1d-9112-47dae02f7831",
   "metadata": {},
   "outputs": [],
   "source": []
  },
  {
   "cell_type": "code",
   "execution_count": null,
   "id": "e8e2fef4-8d67-4c72-9282-73837ef997fd",
   "metadata": {},
   "outputs": [],
   "source": []
  }
 ],
 "metadata": {
  "kernelspec": {
   "display_name": "Python 3 (ipykernel)",
   "language": "python",
   "name": "python3"
  },
  "language_info": {
   "codemirror_mode": {
    "name": "ipython",
    "version": 3
   },
   "file_extension": ".py",
   "mimetype": "text/x-python",
   "name": "python",
   "nbconvert_exporter": "python",
   "pygments_lexer": "ipython3",
   "version": "3.10.4"
  }
 },
 "nbformat": 4,
 "nbformat_minor": 5
}
