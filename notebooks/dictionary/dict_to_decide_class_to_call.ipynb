{
 "cells": [
  {
   "cell_type": "markdown",
   "id": "7b1d37eb-0f99-4daa-a495-557f43740e16",
   "metadata": {},
   "source": [
    "# dict to map class to call"
   ]
  },
  {
   "cell_type": "code",
   "execution_count": 33,
   "id": "dc24f899-46c8-4eed-be1a-71c03d8119b3",
   "metadata": {
    "tags": []
   },
   "outputs": [],
   "source": [
    "from abc import ABC\n",
    "import random\n",
    "\n",
    "class AbstractClass:\n",
    "    \n",
    "    identifier : int\n",
    "    \n",
    "\n",
    "class One:\n",
    "    \n",
    "    classname = \"One\"\n",
    "    \n",
    "    def __init__(self):\n",
    "        \n",
    "        identifier = random.randint(0, 100)\n",
    "        \n",
    "        print(f\"Constructor {self.classname}. Identifier: {identifier}\")\n",
    "\n",
    "        \n",
    "\n",
    "    def run(self):\n",
    "        \n",
    "        print(f\"Run function from {self.classname}\")\n",
    "                \n",
    "class Two:\n",
    "    \n",
    "    classname = \"Two\"\n",
    "    \n",
    "    def __init__(self):\n",
    "        \n",
    "        identifier = random.randint(0, 100)\n",
    "        \n",
    "        print(f\"Constructor {self.classname}. Identifier: {identifier}\")\n",
    "\n",
    "    \n",
    "\n",
    "    def run(self):\n",
    "        \n",
    "        print(f\"Run function from {self.classname}\")\n",
    "        \n",
    "        \n",
    "keyvaluepair = {\"one\": One, \"two\": Two}"
   ]
  },
  {
   "cell_type": "code",
   "execution_count": 34,
   "id": "e7cf9d56-f817-4ee1-a299-eaf00353b2b7",
   "metadata": {
    "tags": []
   },
   "outputs": [
    {
     "name": "stdout",
     "output_type": "stream",
     "text": [
      "Constructor One. Identifier: 60\n",
      "Run function from One\n",
      "Constructor One. Identifier: 89\n",
      "Run function from One\n",
      "Constructor One. Identifier: 50\n",
      "Run function from One\n",
      "Constructor One. Identifier: 38\n",
      "Run function from One\n",
      "Constructor One. Identifier: 36\n",
      "Run function from One\n"
     ]
    }
   ],
   "source": [
    "for i in range(0, 5):\n",
    "    class1 = keyvaluepair[\"one\"]()\n",
    "    class1.run()"
   ]
  },
  {
   "cell_type": "code",
   "execution_count": 35,
   "id": "afd49a54-56f9-4dca-abe5-f58fa9f09285",
   "metadata": {
    "tags": []
   },
   "outputs": [
    {
     "name": "stdout",
     "output_type": "stream",
     "text": [
      "Constructor Two. Identifier: 77\n",
      "Run function from Two\n",
      "Constructor Two. Identifier: 22\n",
      "Run function from Two\n",
      "Constructor Two. Identifier: 8\n",
      "Run function from Two\n",
      "Constructor Two. Identifier: 83\n",
      "Run function from Two\n",
      "Constructor Two. Identifier: 17\n",
      "Run function from Two\n"
     ]
    }
   ],
   "source": [
    "for i in range(0, 5):\n",
    "    class1 = keyvaluepair[\"two\"]()\n",
    "    class1.run()"
   ]
  },
  {
   "cell_type": "code",
   "execution_count": null,
   "id": "e830e9bf-5020-4c65-8c56-79b645325d5b",
   "metadata": {},
   "outputs": [],
   "source": []
  },
  {
   "cell_type": "code",
   "execution_count": null,
   "id": "59609b7c-d0ee-470e-8a12-533ab9381d36",
   "metadata": {},
   "outputs": [],
   "source": []
  }
 ],
 "metadata": {
  "kernelspec": {
   "display_name": "Python 3 (ipykernel)",
   "language": "python",
   "name": "python3"
  },
  "language_info": {
   "codemirror_mode": {
    "name": "ipython",
    "version": 3
   },
   "file_extension": ".py",
   "mimetype": "text/x-python",
   "name": "python",
   "nbconvert_exporter": "python",
   "pygments_lexer": "ipython3",
   "version": "3.10.4"
  }
 },
 "nbformat": 4,
 "nbformat_minor": 5
}
