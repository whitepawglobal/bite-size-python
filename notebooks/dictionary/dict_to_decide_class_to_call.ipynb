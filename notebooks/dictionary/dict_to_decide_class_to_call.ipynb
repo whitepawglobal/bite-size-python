{
 "cells": [
  {
   "cell_type": "markdown",
   "id": "7b1d37eb-0f99-4daa-a495-557f43740e16",
   "metadata": {},
   "source": [
    "# dict to map class to call\n",
    "\n",
    "## same class calling"
   ]
  },
  {
   "cell_type": "code",
   "execution_count": 1,
   "id": "dc24f899-46c8-4eed-be1a-71c03d8119b3",
   "metadata": {
    "tags": []
   },
   "outputs": [
    {
     "name": "stdout",
     "output_type": "stream",
     "text": [
      "Constructor One. Identifier: 63\n",
      "Constructor Two. Identifier: 81\n"
     ]
    }
   ],
   "source": [
    "from abc import ABC\n",
    "import random\n",
    "\n",
    "class AbstractClass:\n",
    "    \n",
    "    identifier : int\n",
    "    \n",
    "\n",
    "class One:\n",
    "    \n",
    "    classname = \"One\"\n",
    "    \n",
    "    def __init__(self):\n",
    "        \n",
    "        \n",
    "        self.identifier = random.randint(0, 100)\n",
    "        \n",
    "        print(f\"Constructor {self.classname}. Identifier: {self.identifier}\")\n",
    "\n",
    "        \n",
    "\n",
    "    def run(self):\n",
    "        \n",
    "        print(f\"Run function from {self.classname}. Identifier: {self.identifier}\")\n",
    "                \n",
    "class Two:\n",
    "    \n",
    "    classname = \"Two\"\n",
    "    \n",
    "    def __init__(self):\n",
    "        \n",
    "        \n",
    "        self.identifier = random.randint(0, 100)\n",
    "        \n",
    "        print(f\"Constructor {self.classname}. Identifier: {self.identifier}\")\n",
    "\n",
    "    \n",
    "\n",
    "    def run(self):\n",
    "        \n",
    "        print(f\"Run function from {self.classname}. Identifier: {self.identifier}\")\n",
    "        \n",
    "        \n",
    "keyvaluepair = {\"one\": One(), \"two\": Two()}"
   ]
  },
  {
   "cell_type": "code",
   "execution_count": 2,
   "id": "e7cf9d56-f817-4ee1-a299-eaf00353b2b7",
   "metadata": {
    "tags": []
   },
   "outputs": [
    {
     "name": "stdout",
     "output_type": "stream",
     "text": [
      "Run function from One. Identifier: 63\n",
      "Run function from One. Identifier: 63\n",
      "Run function from One. Identifier: 63\n",
      "Run function from One. Identifier: 63\n",
      "Run function from One. Identifier: 63\n"
     ]
    }
   ],
   "source": [
    "for i in range(0, 5):\n",
    "    class1 = keyvaluepair[\"one\"]\n",
    "    class1.run()"
   ]
  },
  {
   "cell_type": "code",
   "execution_count": 3,
   "id": "afd49a54-56f9-4dca-abe5-f58fa9f09285",
   "metadata": {
    "tags": []
   },
   "outputs": [
    {
     "name": "stdout",
     "output_type": "stream",
     "text": [
      "Run function from Two. Identifier: 81\n",
      "Run function from Two. Identifier: 81\n",
      "Run function from Two. Identifier: 81\n",
      "Run function from Two. Identifier: 81\n",
      "Run function from Two. Identifier: 81\n"
     ]
    }
   ],
   "source": [
    "for i in range(0, 5):\n",
    "    class1 = keyvaluepair[\"two\"]\n",
    "    class1.run()"
   ]
  },
  {
   "cell_type": "code",
   "execution_count": 4,
   "id": "e830e9bf-5020-4c65-8c56-79b645325d5b",
   "metadata": {},
   "outputs": [],
   "source": [
    "# dict to map class to call\n",
    "\n",
    "## different class calling"
   ]
  },
  {
   "cell_type": "code",
   "execution_count": 5,
   "id": "59609b7c-d0ee-470e-8a12-533ab9381d36",
   "metadata": {},
   "outputs": [],
   "source": [
    "from abc import ABC\n",
    "import random\n",
    "\n",
    "class AbstractClass:\n",
    "    \n",
    "    identifier : int\n",
    "    \n",
    "\n",
    "class One:\n",
    "    \n",
    "    classname = \"One\"\n",
    "    \n",
    "    def __init__(self):\n",
    "        \n",
    "        \n",
    "        self.identifier = random.randint(0, 100)\n",
    "        \n",
    "        print(f\"Constructor {self.classname}. Identifier: {self.identifier}\")\n",
    "\n",
    "        \n",
    "\n",
    "    def run(self):\n",
    "        \n",
    "        print(f\"Run function from {self.classname}. Identifier: {self.identifier}\")\n",
    "                \n",
    "class Two:\n",
    "    \n",
    "    classname = \"Two\"\n",
    "    \n",
    "    def __init__(self):\n",
    "        \n",
    "        \n",
    "        self.identifier = random.randint(0, 100)\n",
    "        \n",
    "        print(f\"Constructor {self.classname}. Identifier: {self.identifier}\")\n",
    "\n",
    "    \n",
    "\n",
    "    def run(self):\n",
    "        \n",
    "        print(f\"Run function from {self.classname}. Identifier: {self.identifier}\")\n",
    "        \n",
    "        \n",
    "keyvaluepair = {\"one\": One, \"two\": Two}"
   ]
  },
  {
   "cell_type": "code",
   "execution_count": 6,
   "id": "746cb74a-4ddc-4c4a-a305-15eec86d157b",
   "metadata": {},
   "outputs": [
    {
     "name": "stdout",
     "output_type": "stream",
     "text": [
      "Constructor One. Identifier: 76\n",
      "Run function from One. Identifier: 76\n",
      "Constructor One. Identifier: 32\n",
      "Run function from One. Identifier: 32\n",
      "Constructor One. Identifier: 62\n",
      "Run function from One. Identifier: 62\n",
      "Constructor One. Identifier: 11\n",
      "Run function from One. Identifier: 11\n",
      "Constructor One. Identifier: 48\n",
      "Run function from One. Identifier: 48\n"
     ]
    }
   ],
   "source": [
    "for i in range(0, 5):\n",
    "    class1 = keyvaluepair[\"one\"]()\n",
    "    class1.run()"
   ]
  },
  {
   "cell_type": "code",
   "execution_count": 7,
   "id": "46dfac3c-5a1d-45a4-96d5-85078def720e",
   "metadata": {
    "tags": []
   },
   "outputs": [
    {
     "name": "stdout",
     "output_type": "stream",
     "text": [
      "Constructor Two. Identifier: 78\n",
      "Run function from Two. Identifier: 78\n",
      "Constructor Two. Identifier: 72\n",
      "Run function from Two. Identifier: 72\n",
      "Constructor Two. Identifier: 48\n",
      "Run function from Two. Identifier: 48\n",
      "Constructor Two. Identifier: 0\n",
      "Run function from Two. Identifier: 0\n",
      "Constructor Two. Identifier: 82\n",
      "Run function from Two. Identifier: 82\n"
     ]
    }
   ],
   "source": [
    "for i in range(0, 5):\n",
    "    class1 = keyvaluepair[\"two\"]()\n",
    "    class1.run()"
   ]
  }
 ],
 "metadata": {
  "kernelspec": {
   "display_name": "Python 3 (ipykernel)",
   "language": "python",
   "name": "python3"
  },
  "language_info": {
   "codemirror_mode": {
    "name": "ipython",
    "version": 3
   },
   "file_extension": ".py",
   "mimetype": "text/x-python",
   "name": "python",
   "nbconvert_exporter": "python",
   "pygments_lexer": "ipython3",
   "version": "3.10.4"
  }
 },
 "nbformat": 4,
 "nbformat_minor": 5
}
