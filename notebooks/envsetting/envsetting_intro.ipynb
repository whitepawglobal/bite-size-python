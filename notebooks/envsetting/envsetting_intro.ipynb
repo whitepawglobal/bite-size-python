{
 "cells": [
  {
   "cell_type": "markdown",
   "id": "c6b37ebd-4c23-4192-be7b-0a8b2569d823",
   "metadata": {},
   "source": [
    "- A .env file is a text file containing key value pairs of all the environment variables required by your application\n",
    "- already excluded in preset .gitignore\n",
    "- a text file containing key value pairs of all the environment variables required by your application\n",
    "\n",
    "```\n",
    "# environment variables defined inside a .env file\n",
    "GCP_PROJECT_ID=my-project-id\n",
    "SERVICE_ACCOUNT_FILE=path/to/serviceAccountCredentials\n",
    "STORAGE_BUCKET_NAME=my-super-important-data\n",
    "```\n",
    "- install package\n",
    "  ```\n",
    "  pip install python-dotenv\n",
    "  ```\n",
    "  \n",
    "- how to load in python\n",
    "  \n",
    "  \n",
    "  ```\n",
    "  from dotenv import load_dotenv\n",
    "  load_dotenv()\n",
    "  ```"
   ]
  },
  {
   "cell_type": "markdown",
   "id": "18c601fc-2d3a-4b34-96c3-0d4ea4422ccd",
   "metadata": {},
   "source": [
    "### use .env\n",
    "- already excluded in preset .gitignore\n",
    "- Nearly every programming language has a package or library that can be used to read environment variables from the .env file instead of from your local environment. \n",
    "- load_dotenv will find from host environment for variables when .env file is not file (for docker environment)\n",
    "\n",
    "### use configparser\n",
    "- import with more built in variable type (int, string, boolean)\n",
    "\n",
    "### how to set environment variable in docker? and if does this way , is it that it the environment variable not exposed in docker?  \n",
    "\n",
    "If you are deploying your application in a Docker container, you can seamlessly transition to running and testing your application in a locally run container by using the flag --env-file .env with your docker run command. Docker will then set the same environment variables you've been using through python-dotenv in the container's environment.\n",
    "\n",
    "### references\n",
    "- https://dev.to/jakewitcher/using-env-files-for-environment-variables-in-python-applications-55a1"
   ]
  },
  {
   "cell_type": "code",
   "execution_count": 4,
   "id": "ef1191fd-d191-458a-9294-23444da51ff8",
   "metadata": {
    "tags": []
   },
   "outputs": [
    {
     "data": {
      "text/plain": [
       "str"
      ]
     },
     "execution_count": 4,
     "metadata": {},
     "output_type": "execute_result"
    }
   ],
   "source": [
    "import os\n",
    "from dotenv import load_dotenv\n",
    "\n",
    "load_dotenv()\n",
    "\n",
    "GCP_PROJECT_ID = os.getenv('GCP_PROJECT_ID')\n",
    "SERVICE_ACCOUNT_FILE = os.getenv('SERVICE_ACCOUNT_FILE')\n",
    "STORAGE_BUCKET_NAME = os.getenv('STORAGE_BUCKET_NAME')"
   ]
  },
  {
   "cell_type": "markdown",
   "id": "c72593c4-4e1e-4db3-abb7-5617f3b49137",
   "metadata": {},
   "source": [
    "### specify a path to dot env"
   ]
  },
  {
   "cell_type": "code",
   "execution_count": null,
   "id": "be0464f4-8b79-4057-ad13-e72605ccedcf",
   "metadata": {},
   "outputs": [],
   "source": [
    "from dotenv import load_dotenv\n",
    "from pathlib import Path\n",
    "\n",
    "dotenv_path = Path('path/to/.env')\n",
    "load_dotenv(dotenv_path=dotenv_path)"
   ]
  }
 ],
 "metadata": {
  "kernelspec": {
   "display_name": "Python 3 (ipykernel)",
   "language": "python",
   "name": "python3"
  },
  "language_info": {
   "codemirror_mode": {
    "name": "ipython",
    "version": 3
   },
   "file_extension": ".py",
   "mimetype": "text/x-python",
   "name": "python",
   "nbconvert_exporter": "python",
   "pygments_lexer": "ipython3",
   "version": "3.10.4"
  }
 },
 "nbformat": 4,
 "nbformat_minor": 5
}
