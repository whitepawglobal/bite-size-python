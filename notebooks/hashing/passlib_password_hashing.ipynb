{
 "cells": [
  {
   "cell_type": "markdown",
   "id": "2f86215c-5a51-47bc-8fb4-419945d37223",
   "metadata": {},
   "source": [
    "### To handle password hashes\n",
    "```\n",
    "pip install \"passlib[bcrypt]\"\n",
    "```"
   ]
  },
  {
   "cell_type": "code",
   "execution_count": 1,
   "id": "2588f9a4-e1dc-4a7f-b1b0-613f2248d96b",
   "metadata": {
    "tags": []
   },
   "outputs": [],
   "source": [
    "from passlib.context import CryptContext\n",
    "\n",
    "pwd_context = CryptContext(schemes=[\"bcrypt\"], deprecated=\"auto\")\n",
    "\n",
    "def verify_password(plain_password, hashed_password):\n",
    "    return pwd_context.verify(plain_password, hashed_password)\n",
    "\n",
    "\n",
    "def get_password_hash(password):\n",
    "    return pwd_context.hash(password)\n"
   ]
  },
  {
   "cell_type": "code",
   "execution_count": 2,
   "id": "86b62093-a4a6-4716-b83c-8c6ba8913c2a",
   "metadata": {
    "tags": []
   },
   "outputs": [
    {
     "data": {
      "text/plain": [
       "'$2b$12$KGC2b1JauVctSlUFS4Vub.mQVheIqWMQAolF/vXHBoBtuFwuqiUxy'"
      ]
     },
     "execution_count": 2,
     "metadata": {},
     "output_type": "execute_result"
    }
   ],
   "source": [
    "input_password = \"secret\"\n",
    "\n",
    "hashed_password = get_password_hash(input_password)\n",
    "hashed_password"
   ]
  },
  {
   "cell_type": "markdown",
   "id": "d373125e-4806-49e2-8690-692a4f1d2dc3",
   "metadata": {},
   "source": [
    "### the hashing of the same input provide different hashed password every run\n",
    "- this is contributed by a salt value is randomly generated on every run. "
   ]
  },
  {
   "cell_type": "code",
   "execution_count": 3,
   "id": "8590e41f-2e26-4242-959d-018cc8cdb863",
   "metadata": {},
   "outputs": [
    {
     "name": "stdout",
     "output_type": "stream",
     "text": [
      "$2b$12$SbStq77dAFP.GQz74rerFehdejdPTCSf8MuvtcX5WhLw49BELt8Qi\n",
      "$2b$12$LvKNFiijBEt6bIO0T4fdWePhbguOQCB.QFPvJPZo6YU7w609VkIHq\n",
      "$2b$12$NGEHI4rfcNngntW6w5jvNOp8jeiBhzHOC7.uMgpxjf3OlrG9KobVq\n",
      "$2b$12$MvZ.kQe.uud7mlAw8q6QC.uGpPY8OeTp2WPEYYUo4yt9Gb62058Ze\n",
      "$2b$12$2XmH4KKffTeXfVZEktrDwOcHqLtLIPXNcaY.P4.Zk9jo.Zymr7eam\n",
      "$2b$12$od7sXl4Pff6qGGAwaPnjT.r7lFDu3dZq2wFfD9gcNCpBqnpBktbTq\n",
      "$2b$12$PQPV8ytgpQx.hbMYHSwWNuuj6GdvQhRfeYCzisG0ZQJQzEr1dAKYu\n",
      "$2b$12$xFalVpqqVGdKHNdhh2JwLOmXwKo.C0cfVZI9n7t1Ask.7YIoD7IJ6\n",
      "$2b$12$gaEMY8tT0PX2sHnvdxzhvethcf2p18Qc8E7mpEruzW5laZSiGlWUK\n",
      "$2b$12$WRi5P4wbqxbFfJ0mihpxTuQSZzbJT5okRld6FcTBsIxe8VIi8Eoz2\n"
     ]
    }
   ],
   "source": [
    "for i in range(0, 10):\n",
    "    print(get_password_hash(input_password))"
   ]
  },
  {
   "cell_type": "code",
   "execution_count": 4,
   "id": "87e7146f-d29e-4821-8fd9-9a39df679341",
   "metadata": {
    "tags": []
   },
   "outputs": [
    {
     "data": {
      "text/plain": [
       "True"
      ]
     },
     "execution_count": 4,
     "metadata": {},
     "output_type": "execute_result"
    }
   ],
   "source": [
    "verify_password(input_password, hashed_password)"
   ]
  },
  {
   "cell_type": "code",
   "execution_count": 5,
   "id": "5f4be959-efc3-4dec-bd0e-1ee484f75d4c",
   "metadata": {
    "tags": []
   },
   "outputs": [
    {
     "data": {
      "text/plain": [
       "False"
      ]
     },
     "execution_count": 5,
     "metadata": {},
     "output_type": "execute_result"
    }
   ],
   "source": [
    "verify_password(\"new_password\", hashed_password)"
   ]
  },
  {
   "cell_type": "code",
   "execution_count": 6,
   "id": "47afd356-bc01-42a9-9f95-bb96dbfc76c0",
   "metadata": {
    "tags": []
   },
   "outputs": [
    {
     "data": {
      "text/plain": [
       "True"
      ]
     },
     "execution_count": 6,
     "metadata": {},
     "output_type": "execute_result"
    }
   ],
   "source": [
    "other_hashed_password = \"$2b$12$WRi5P4wbqxbFfJ0mihpxTuQSZzbJT5okRld6FcTBsIxe8VIi8Eoz2\" #this is one of the hashed password from input_password\n",
    "verify_password(input_password, other_hashed_password)"
   ]
  },
  {
   "cell_type": "code",
   "execution_count": null,
   "id": "9db28609-9397-4fe2-a66a-b9bd81c8d429",
   "metadata": {},
   "outputs": [],
   "source": []
  }
 ],
 "metadata": {
  "kernelspec": {
   "display_name": "Python 3 (ipykernel)",
   "language": "python",
   "name": "python3"
  },
  "language_info": {
   "codemirror_mode": {
    "name": "ipython",
    "version": 3
   },
   "file_extension": ".py",
   "mimetype": "text/x-python",
   "name": "python",
   "nbconvert_exporter": "python",
   "pygments_lexer": "ipython3",
   "version": "3.9.16"
  }
 },
 "nbformat": 4,
 "nbformat_minor": 5
}
