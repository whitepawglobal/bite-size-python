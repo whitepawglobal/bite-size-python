{
 "cells": [
  {
   "cell_type": "markdown",
   "id": "8b568aca-aaee-495b-8713-90f9d0d8ef63",
   "metadata": {
    "tags": []
   },
   "source": [
    "### write 2 json with native dict {}"
   ]
  },
  {
   "cell_type": "code",
   "execution_count": 1,
   "id": "70aa0a44-a527-4a24-9172-04d9164b67dc",
   "metadata": {
    "tags": []
   },
   "outputs": [],
   "source": [
    "import json\n",
    "\n",
    "data = {}\n",
    "data['key1'] = 'value1'\n",
    "data['key2'] = 'value2'\n",
    "\n",
    "json_data : str = json.dumps(data)\n",
    "\n",
    "with open('data.json', 'w') as f:\n",
    "    json.dump(json_data, f)"
   ]
  },
  {
   "cell_type": "markdown",
   "id": "804d0572-1b1b-4bc0-986b-b82ed1f67331",
   "metadata": {
    "tags": []
   },
   "source": [
    "### write 2 json method 2 with dict()"
   ]
  },
  {
   "cell_type": "code",
   "execution_count": 2,
   "id": "79e394bc-6793-4d4c-9802-6a2964e5253c",
   "metadata": {
    "tags": []
   },
   "outputs": [],
   "source": [
    "import json\n",
    "\n",
    "data = dict(key1 = 200, key2 = 10000.45)\n",
    "\n",
    "json_data2 : str = json.dumps(data)\n",
    "\n",
    "with open('data2.json', 'w') as f:\n",
    "    json.dump(json_data2, f)"
   ]
  },
  {
   "cell_type": "markdown",
   "id": "2f04752d-d0fd-4ba5-99a8-66e8de986061",
   "metadata": {},
   "source": [
    "### read from json with json.loads(data : str)\n",
    "\n",
    "all key and values will become str "
   ]
  },
  {
   "cell_type": "code",
   "execution_count": 3,
   "id": "c094db3c-6555-4a7e-8645-b6dbff3809bd",
   "metadata": {
    "tags": []
   },
   "outputs": [
    {
     "name": "stdout",
     "output_type": "stream",
     "text": [
      "key1 : value1\n",
      "key2 : value2\n"
     ]
    }
   ],
   "source": [
    "with open('data.json') as f:\n",
    "    \n",
    "    data_loaded : str = json.load(f)\n",
    "    \n",
    "    \n",
    "    out_data_loaded = json.loads(data_loaded)\n",
    "\n",
    "    for key, value in out_data_loaded.items():\n",
    "        print(key, \":\", value)\n"
   ]
  },
  {
   "cell_type": "markdown",
   "id": "313b972c-ab31-453f-9e44-15fc9a06fe3c",
   "metadata": {
    "tags": []
   },
   "source": [
    "### PREFERRED METHOD: read from json with eval(data : str)\n",
    "\n",
    "values will get back their original format "
   ]
  },
  {
   "cell_type": "code",
   "execution_count": 4,
   "id": "f4f50ed2-77c1-4a65-8b81-346619bc1916",
   "metadata": {
    "tags": []
   },
   "outputs": [
    {
     "name": "stdout",
     "output_type": "stream",
     "text": [
      "key1 : 200\n",
      "key2 : 10000.45\n"
     ]
    }
   ],
   "source": [
    "with open('data2.json') as f:\n",
    "    \n",
    "    data_loaded : str = json.load(f)\n",
    "    \n",
    "    out_data_loaded = eval(data_loaded)\n",
    "\n",
    "    for key, value in out_data_loaded.items():\n",
    "        print(key, \":\", value)\n"
   ]
  }
 ],
 "metadata": {
  "kernelspec": {
   "display_name": "Python 3 (ipykernel)",
   "language": "python",
   "name": "python3"
  },
  "language_info": {
   "codemirror_mode": {
    "name": "ipython",
    "version": 3
   },
   "file_extension": ".py",
   "mimetype": "text/x-python",
   "name": "python",
   "nbconvert_exporter": "python",
   "pygments_lexer": "ipython3",
   "version": "3.10.4"
  }
 },
 "nbformat": 4,
 "nbformat_minor": 5
}
