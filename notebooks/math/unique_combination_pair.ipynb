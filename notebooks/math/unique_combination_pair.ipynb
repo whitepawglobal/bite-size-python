{
 "cells": [
  {
   "cell_type": "markdown",
   "id": "16a5e3ba-bb87-45ed-9872-abd63d80f0f9",
   "metadata": {},
   "source": [
    "## unique combination with 3 values"
   ]
  },
  {
   "cell_type": "code",
   "execution_count": 12,
   "id": "714806f3-1c4d-4426-a0f5-75900620d3da",
   "metadata": {
    "tags": []
   },
   "outputs": [
    {
     "name": "stdout",
     "output_type": "stream",
     "text": [
      "[1, 2, 3]\n",
      "[1, 2, 4]\n",
      "[1, 3, 4]\n",
      "[2, 3, 4]\n"
     ]
    }
   ],
   "source": [
    "array = [1,2,3,4]\n",
    "length = 3\n",
    "\n",
    "#range(len(array) - length + 1) is to buy room for permutation in this case it iterate through [1,2]\n",
    "for i in range(len(array) - length + 1):\n",
    "    \n",
    "    for j in range(i + 1, len(array) - length + 2):\n",
    "        \n",
    "        for k in range(j + 1, len(array) - length + 3):\n",
    "            \n",
    "            print([array[i], array[j], array[k]])"
   ]
  },
  {
   "cell_type": "markdown",
   "id": "695d75d1-56c3-4296-886c-bb3f5f57cb50",
   "metadata": {
    "tags": []
   },
   "source": [
    "## unique combination with 4 values"
   ]
  },
  {
   "cell_type": "code",
   "execution_count": 14,
   "id": "b29b6797-d832-4a9f-9d83-536b1f738617",
   "metadata": {
    "tags": []
   },
   "outputs": [
    {
     "name": "stdout",
     "output_type": "stream",
     "text": [
      "[1, 2, 3, 4]\n",
      "[1, 2, 3, 5]\n",
      "[1, 2, 4, 5]\n",
      "[1, 3, 4, 5]\n",
      "[2, 3, 4, 5]\n"
     ]
    }
   ],
   "source": [
    "array = [1,2,3,4,5]\n",
    "length = 4\n",
    "\n",
    "#range(len(array) - length + 1) is to buy room for permutation in this case it iterate through [1,2,3]\n",
    "\n",
    "for i in range(len(array) - length + 1):\n",
    "    \n",
    "    for j in range(i + 1, len(array) - length + 2):\n",
    "        \n",
    "        for k in range(j + 1, len(array) - length + 3):\n",
    "            \n",
    "            for l in range(k + 1, len(array) - length + 4):\n",
    "            \n",
    "                print([array[i], array[j], array[k], array[l]])"
   ]
  },
  {
   "cell_type": "code",
   "execution_count": 15,
   "id": "e9912e04-adb1-4c35-b4af-1a953c16d493",
   "metadata": {
    "tags": []
   },
   "outputs": [
    {
     "name": "stdout",
     "output_type": "stream",
     "text": [
      "[-2, -1, 0, 0]\n",
      "[-2, -1, 0, 1]\n",
      "[-2, -1, 0, 2]\n",
      "[-2, -1, 0, 1]\n",
      "[-2, -1, 0, 2]\n",
      "[-2, -1, 1, 2]\n",
      "[-2, 0, 0, 1]\n",
      "[-2, 0, 0, 2]\n",
      "[-2, 0, 1, 2]\n",
      "[-2, 0, 1, 2]\n",
      "[-1, 0, 0, 1]\n",
      "[-1, 0, 0, 2]\n",
      "[-1, 0, 1, 2]\n",
      "[-1, 0, 1, 2]\n",
      "[0, 0, 1, 2]\n"
     ]
    }
   ],
   "source": [
    "array = [-2,-1,0,0,1,2]\n",
    "length = 4\n",
    "\n",
    "#range(len(array) - length + 1) is to buy room for permutation in this case it iterate through [1,2,3]\n",
    "\n",
    "for i in range(len(array) - length + 1):\n",
    "    \n",
    "    for j in range(i + 1, len(array) - length + 2):\n",
    "        \n",
    "        for k in range(j + 1, len(array) - length + 3):\n",
    "            \n",
    "            for l in range(k + 1, len(array) - length + 4):\n",
    "            \n",
    "                print([array[i], array[j], array[k], array[l]])"
   ]
  },
  {
   "cell_type": "code",
   "execution_count": null,
   "id": "aad8cfe5-537b-4406-bc6b-2a43b00af9d7",
   "metadata": {},
   "outputs": [],
   "source": []
  }
 ],
 "metadata": {
  "kernelspec": {
   "display_name": "Python 3 (ipykernel)",
   "language": "python",
   "name": "python3"
  },
  "language_info": {
   "codemirror_mode": {
    "name": "ipython",
    "version": 3
   },
   "file_extension": ".py",
   "mimetype": "text/x-python",
   "name": "python",
   "nbconvert_exporter": "python",
   "pygments_lexer": "ipython3",
   "version": "3.10.4"
  }
 },
 "nbformat": 4,
 "nbformat_minor": 5
}
