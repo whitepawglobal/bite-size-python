{
 "cells": [
  {
   "cell_type": "markdown",
   "id": "80086c63-9a4b-4eab-887f-f513e09174ff",
   "metadata": {},
   "source": [
    "## Exclusive OR\n",
    "\n",
    "In Python, XOR is a bitwise operator that is also known as Exclusive OR.\n",
    "It is a logical operator which outputs 11 when either of the operands is 11 (one is 11 and the other one is 00), but both are not 11, and both are not 00.\n",
    "\n",
    "```\n",
    "xor_num = num1 ^ num2\n",
    "```\n",
    "\n",
    "[References](https://www.scaler.com/topics/xor-in-python/)"
   ]
  },
  {
   "cell_type": "code",
   "execution_count": 2,
   "id": "d00af825-404b-4e70-9ffe-869b34ac9bb4",
   "metadata": {
    "tags": []
   },
   "outputs": [
    {
     "name": "stdout",
     "output_type": "stream",
     "text": [
      "True XOR True = False\n",
      "True XOR False = True\n",
      "False XOR True = True\n",
      "False XOR False = False\n"
     ]
    }
   ],
   "source": [
    "# Initializing the boolean values\n",
    "a = True\n",
    "b = False\n",
    "\n",
    "# Finding XOR of boolean values using ^ operator\n",
    "p = a ^ a\n",
    "q = a ^ b\n",
    "r = b ^ a\n",
    "s = b ^ b\n",
    "\n",
    "# Printing the XOR value of every boolean combination\n",
    "print(a, \"XOR\", a, \"=\", p)\n",
    "print(a, \"XOR\", b, \"=\", q)\n",
    "print(b, \"XOR\", a, \"=\", r)\n",
    "print(b, \"XOR\", b, \"=\", s)"
   ]
  },
  {
   "cell_type": "markdown",
   "id": "ec555966-1034-404f-9e51-44670b128895",
   "metadata": {},
   "source": [
    "For value\n",
    "- same value will result in 0\n",
    "- 0 ^ (non-zero-value) will result in non-zero-value"
   ]
  },
  {
   "cell_type": "code",
   "execution_count": 10,
   "id": "d1427d01-ee97-4e19-99d8-52c2eed58573",
   "metadata": {
    "tags": []
   },
   "outputs": [
    {
     "name": "stdout",
     "output_type": "stream",
     "text": [
      "0\n",
      "2\n"
     ]
    }
   ],
   "source": [
    "print(2^2)\n",
    "print(2^0)"
   ]
  },
  {
   "cell_type": "code",
   "execution_count": null,
   "id": "da9c2e7d-c6ff-45c5-9504-6478b81d8d92",
   "metadata": {},
   "outputs": [],
   "source": []
  }
 ],
 "metadata": {
  "kernelspec": {
   "display_name": "Python 3 (ipykernel)",
   "language": "python",
   "name": "python3"
  },
  "language_info": {
   "codemirror_mode": {
    "name": "ipython",
    "version": 3
   },
   "file_extension": ".py",
   "mimetype": "text/x-python",
   "name": "python",
   "nbconvert_exporter": "python",
   "pygments_lexer": "ipython3",
   "version": "3.10.4"
  }
 },
 "nbformat": 4,
 "nbformat_minor": 5
}
