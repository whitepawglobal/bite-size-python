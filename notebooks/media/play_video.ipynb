{
 "cells": [
  {
   "cell_type": "markdown",
   "id": "61ec74cd-abb5-4a32-99d1-0eccfffa8d5a",
   "metadata": {},
   "source": [
    "\n",
    "<video src=\"//storage.googleapis.com/media-session/caminandes/short.mp4#t=84\" autoPlay muted controls>"
   ]
  },
  {
   "cell_type": "markdown",
   "id": "dfb59f33-6aa1-42e1-9b3a-6656818a40e9",
   "metadata": {
    "tags": []
   },
   "source": [
    "### parameters:\n",
    "- `width`\n",
    "- `height`\n",
    "- autoPlay\n",
    "    - to play automatically: `autoplay`\n",
    "    - to not play automatically: `autoplay=\"false\"`\n",
    "- `controls`\n",
    "    - to include controls: `controls`\n",
    "    - to not include controls: exclude the controls parameter\n",
    "- `controlsList` (Note: this doesnt works in jupyter lab)\n",
    "    - `nodownload`\n",
    "    - `nofullscreen`\n",
    "    - `noremoteplayback`\n",
    "    - to include more than one: `controlslist=\"nodownload nofullscreen noremoteplayback\"`\n",
    "- `muted`\n",
    "    - muted since the beginning, but can toggle by user\n",
    "- `loop`\n",
    "    - for the video to restart\n",
    "- `preload`\n",
    "    - none: Indicates that the video should not be preloaded.\n",
    "    - metadata: Indicates that only video metadata (e.g. length) is fetched.\n",
    "    - auto: Indicates that the whole video file can be downloaded, even if the user is not expected to use it.\n",
    "    - empty string: Synonym of the auto value.\n",
    "    - Example: `preload=\"auto|metadata|none\"`\n",
    "- Check more at [here](https://www.w3schools.com/tags/tag_video.asp)"
   ]
  },
  {
   "cell_type": "code",
   "execution_count": null,
   "id": "91f31c05-2bce-4541-a267-ed9781c0fb4d",
   "metadata": {},
   "outputs": [],
   "source": []
  }
 ],
 "metadata": {
  "kernelspec": {
   "display_name": "Python 3 (ipykernel)",
   "language": "python",
   "name": "python3"
  },
  "language_info": {
   "codemirror_mode": {
    "name": "ipython",
    "version": 3
   },
   "file_extension": ".py",
   "mimetype": "text/x-python",
   "name": "python",
   "nbconvert_exporter": "python",
   "pygments_lexer": "ipython3",
   "version": "3.10.4"
  }
 },
 "nbformat": 4,
 "nbformat_minor": 5
}
