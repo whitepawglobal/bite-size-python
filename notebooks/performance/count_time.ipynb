{
 "cells": [
  {
   "cell_type": "markdown",
   "metadata": {},
   "source": [
    "### time module return time in seconds"
   ]
  },
  {
   "cell_type": "code",
   "execution_count": 5,
   "metadata": {},
   "outputs": [
    {
     "name": "stdout",
     "output_type": "stream",
     "text": [
      "Time consumed in seconds: 0.0081s\n"
     ]
    }
   ],
   "source": [
    "import time\n",
    "import random\n",
    "\n",
    "start = time.time()\n",
    "\n",
    "for i in range(1000):\n",
    "\n",
    "    # Sample 10 numbers in between the range 10 to 1000\n",
    "    randomlist = random.sample(range(10, 1000), 10)\n",
    "    randomlist.sort()\n",
    "\n",
    "end = time.time()\n",
    "\n",
    "print(\"Time consumed in seconds: %.4fs\" % (end-start))"
   ]
  }
 ],
 "metadata": {
  "kernelspec": {
   "display_name": "Python 3 (ipykernel)",
   "language": "python",
   "name": "python3"
  },
  "language_info": {
   "codemirror_mode": {
    "name": "ipython",
    "version": 3
   },
   "file_extension": ".py",
   "mimetype": "text/x-python",
   "name": "python",
   "nbconvert_exporter": "python",
   "pygments_lexer": "ipython3",
   "version": "3.8.5"
  },
  "vscode": {
   "interpreter": {
    "hash": "8556d705f1fb1a7a97a8cf1449d73bf9b743fda82251187d431e67d5172c9970"
   }
  }
 },
 "nbformat": 4,
 "nbformat_minor": 4
}
