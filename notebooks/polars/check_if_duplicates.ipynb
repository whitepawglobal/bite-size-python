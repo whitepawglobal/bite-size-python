{
 "cells": [
  {
   "cell_type": "markdown",
   "id": "58b4f42d-f624-4346-95c4-7c8a4f07d88e",
   "metadata": {},
   "source": [
    "### https://pola-rs.github.io/polars/py-polars/html/reference/expressions/api/polars.Expr.is_duplicated.html"
   ]
  },
  {
   "cell_type": "code",
   "execution_count": 30,
   "id": "a08bf448-8d3a-441b-9d9a-27bcd90cb7f8",
   "metadata": {
    "tags": []
   },
   "outputs": [],
   "source": [
    "import polars as pl"
   ]
  },
  {
   "cell_type": "code",
   "execution_count": 31,
   "id": "5bf3e40b-9632-4f95-ab0b-f6cb7d4718e6",
   "metadata": {
    "tags": []
   },
   "outputs": [
    {
     "name": "stdout",
     "output_type": "stream",
     "text": [
      "3\n"
     ]
    },
    {
     "data": {
      "text/html": [
       "<div><style>\n",
       ".dataframe > thead > tr > th,\n",
       ".dataframe > tbody > tr > td {\n",
       "  text-align: right;\n",
       "  white-space: pre-wrap;\n",
       "}\n",
       "</style>\n",
       "<small>shape: (3, 1)</small><table border=\"1\" class=\"dataframe\"><thead><tr><th>a</th></tr><tr><td>i64</td></tr></thead><tbody><tr><td>1</td></tr><tr><td>1</td></tr><tr><td>2</td></tr></tbody></table></div>"
      ],
      "text/plain": [
       "shape: (3, 1)\n",
       "┌─────┐\n",
       "│ a   │\n",
       "│ --- │\n",
       "│ i64 │\n",
       "╞═════╡\n",
       "│ 1   │\n",
       "│ 1   │\n",
       "│ 2   │\n",
       "└─────┘"
      ]
     },
     "execution_count": 31,
     "metadata": {},
     "output_type": "execute_result"
    }
   ],
   "source": [
    "df = pl.DataFrame({\"a\": [1, 1, 2]})\n",
    "\n",
    "row_count = df.select(pl.count()).item()\n",
    "\n",
    "print(row_count)\n",
    "df\n"
   ]
  },
  {
   "cell_type": "markdown",
   "id": "c07a0d7b-ea2d-42d3-b394-5afd21d244d4",
   "metadata": {
    "tags": []
   },
   "source": [
    "### Return a boolean mask indicating duplicated values."
   ]
  },
  {
   "cell_type": "code",
   "execution_count": 32,
   "id": "9879cd80-aed6-4d50-ae98-08cc8d868f69",
   "metadata": {
    "tags": []
   },
   "outputs": [
    {
     "data": {
      "text/html": [
       "<div><style>\n",
       ".dataframe > thead > tr > th,\n",
       ".dataframe > tbody > tr > td {\n",
       "  text-align: right;\n",
       "  white-space: pre-wrap;\n",
       "}\n",
       "</style>\n",
       "<small>shape: (3, 1)</small><table border=\"1\" class=\"dataframe\"><thead><tr><th>a</th></tr><tr><td>bool</td></tr></thead><tbody><tr><td>true</td></tr><tr><td>true</td></tr><tr><td>false</td></tr></tbody></table></div>"
      ],
      "text/plain": [
       "shape: (3, 1)\n",
       "┌───────┐\n",
       "│ a     │\n",
       "│ ---   │\n",
       "│ bool  │\n",
       "╞═══════╡\n",
       "│ true  │\n",
       "│ true  │\n",
       "│ false │\n",
       "└───────┘"
      ]
     },
     "execution_count": 32,
     "metadata": {},
     "output_type": "execute_result"
    }
   ],
   "source": [
    "df.select(pl.col(\"a\").is_duplicated())"
   ]
  },
  {
   "cell_type": "code",
   "execution_count": 34,
   "id": "9e401b88-6885-43a9-9e55-5555f29b6320",
   "metadata": {
    "tags": []
   },
   "outputs": [
    {
     "data": {
      "text/plain": [
       "True"
      ]
     },
     "execution_count": 34,
     "metadata": {},
     "output_type": "execute_result"
    }
   ],
   "source": [
    "df.select(pl.col(\"a\").is_duplicated())['a'].any()"
   ]
  },
  {
   "cell_type": "code",
   "execution_count": null,
   "id": "844c918e-708b-46cb-8eac-393d316e3e33",
   "metadata": {},
   "outputs": [],
   "source": []
  }
 ],
 "metadata": {
  "kernelspec": {
   "display_name": "Python 3 (ipykernel)",
   "language": "python",
   "name": "python3"
  },
  "language_info": {
   "codemirror_mode": {
    "name": "ipython",
    "version": 3
   },
   "file_extension": ".py",
   "mimetype": "text/x-python",
   "name": "python",
   "nbconvert_exporter": "python",
   "pygments_lexer": "ipython3",
   "version": "3.10.4"
  }
 },
 "nbformat": 4,
 "nbformat_minor": 5
}
