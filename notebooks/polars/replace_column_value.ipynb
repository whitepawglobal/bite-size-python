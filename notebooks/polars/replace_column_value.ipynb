{
 "cells": [
  {
   "cell_type": "code",
   "execution_count": 1,
   "id": "766941d8-000f-488c-ae3a-3bc1e5d3f38a",
   "metadata": {
    "tags": []
   },
   "outputs": [
    {
     "data": {
      "text/html": [
       "<div><style>\n",
       ".dataframe > thead > tr > th,\n",
       ".dataframe > tbody > tr > td {\n",
       "  text-align: right;\n",
       "  white-space: pre-wrap;\n",
       "}\n",
       "</style>\n",
       "<small>shape: (4, 1)</small><table border=\"1\" class=\"dataframe\"><thead><tr><th>country_code</th></tr><tr><td>str</td></tr></thead><tbody><tr><td>&quot;FR&quot;</td></tr><tr><td>null</td></tr><tr><td>&quot;ES&quot;</td></tr><tr><td>&quot;DE&quot;</td></tr></tbody></table></div>"
      ],
      "text/plain": [
       "shape: (4, 1)\n",
       "┌──────────────┐\n",
       "│ country_code │\n",
       "│ ---          │\n",
       "│ str          │\n",
       "╞══════════════╡\n",
       "│ FR           │\n",
       "│ null         │\n",
       "│ ES           │\n",
       "│ DE           │\n",
       "└──────────────┘"
      ]
     },
     "execution_count": 1,
     "metadata": {},
     "output_type": "execute_result"
    }
   ],
   "source": [
    "import polars as pl\n",
    "\n",
    "country_code_dict = {\n",
    "\n",
    "    \"CA\": \"Canada\",\n",
    "\n",
    "    \"DE\": \"Germany\",\n",
    "\n",
    "    \"FR\": \"France\",\n",
    "\n",
    "    None: \"Not specified\",\n",
    "\n",
    "}\n",
    "\n",
    "\n",
    "df = pl.DataFrame(\n",
    "\n",
    "    {\n",
    "\n",
    "        \"country_code\": [\"FR\", None, \"ES\", \"DE\"],\n",
    "\n",
    "    }\n",
    "\n",
    ")\n",
    "\n",
    "df"
   ]
  },
  {
   "cell_type": "markdown",
   "id": "6b60a15e-9718-4df9-b107-18c433c5ff9a",
   "metadata": {},
   "source": [
    "### Method 1.1: values which did not found in key value pair define as value \"default\""
   ]
  },
  {
   "cell_type": "code",
   "execution_count": 2,
   "id": "5ec2002a-1715-4167-8130-bc78c6507415",
   "metadata": {
    "tags": []
   },
   "outputs": [
    {
     "data": {
      "text/html": [
       "<div><style>\n",
       ".dataframe > thead > tr > th,\n",
       ".dataframe > tbody > tr > td {\n",
       "  text-align: right;\n",
       "  white-space: pre-wrap;\n",
       "}\n",
       "</style>\n",
       "<small>shape: (4, 2)</small><table border=\"1\" class=\"dataframe\"><thead><tr><th>country_code</th><th>remapped</th></tr><tr><td>str</td><td>str</td></tr></thead><tbody><tr><td>&quot;FR&quot;</td><td>&quot;France&quot;</td></tr><tr><td>null</td><td>&quot;Not specified&quot;</td></tr><tr><td>&quot;ES&quot;</td><td>&quot;unknown&quot;</td></tr><tr><td>&quot;DE&quot;</td><td>&quot;Germany&quot;</td></tr></tbody></table></div>"
      ],
      "text/plain": [
       "shape: (4, 2)\n",
       "┌──────────────┬───────────────┐\n",
       "│ country_code ┆ remapped      │\n",
       "│ ---          ┆ ---           │\n",
       "│ str          ┆ str           │\n",
       "╞══════════════╪═══════════════╡\n",
       "│ FR           ┆ France        │\n",
       "│ null         ┆ Not specified │\n",
       "│ ES           ┆ unknown       │\n",
       "│ DE           ┆ Germany       │\n",
       "└──────────────┴───────────────┘"
      ]
     },
     "execution_count": 2,
     "metadata": {},
     "output_type": "execute_result"
    }
   ],
   "source": [
    "df.with_columns(\n",
    "\n",
    "    pl.col(\"country_code\")\n",
    "\n",
    "    .map_dict(country_code_dict, default=\"unknown\")\n",
    "\n",
    "    .alias(\"remapped\")\n",
    "\n",
    ")"
   ]
  },
  {
   "cell_type": "markdown",
   "id": "00a436db-32e1-4078-81b4-56ccf77839b7",
   "metadata": {
    "tags": []
   },
   "source": [
    "##  Method 1.2: keep the original value, by making use of pl.first():"
   ]
  },
  {
   "cell_type": "code",
   "execution_count": 4,
   "id": "8d46a944-7a05-406f-acc1-5af13bd489ad",
   "metadata": {},
   "outputs": [
    {
     "data": {
      "text/html": [
       "<div><style>\n",
       ".dataframe > thead > tr > th,\n",
       ".dataframe > tbody > tr > td {\n",
       "  text-align: right;\n",
       "  white-space: pre-wrap;\n",
       "}\n",
       "</style>\n",
       "<small>shape: (4, 2)</small><table border=\"1\" class=\"dataframe\"><thead><tr><th>country_code</th><th>remapped</th></tr><tr><td>str</td><td>str</td></tr></thead><tbody><tr><td>&quot;FR&quot;</td><td>&quot;France&quot;</td></tr><tr><td>null</td><td>&quot;Not specified&quot;</td></tr><tr><td>&quot;ES&quot;</td><td>&quot;ES&quot;</td></tr><tr><td>&quot;DE&quot;</td><td>&quot;Germany&quot;</td></tr></tbody></table></div>"
      ],
      "text/plain": [
       "shape: (4, 2)\n",
       "┌──────────────┬───────────────┐\n",
       "│ country_code ┆ remapped      │\n",
       "│ ---          ┆ ---           │\n",
       "│ str          ┆ str           │\n",
       "╞══════════════╪═══════════════╡\n",
       "│ FR           ┆ France        │\n",
       "│ null         ┆ Not specified │\n",
       "│ ES           ┆ ES            │\n",
       "│ DE           ┆ Germany       │\n",
       "└──────────────┴───────────────┘"
      ]
     },
     "execution_count": 4,
     "metadata": {},
     "output_type": "execute_result"
    }
   ],
   "source": [
    "df.with_columns(\n",
    "\n",
    "    pl.col(\"country_code\")\n",
    "\n",
    "    .map_dict(country_code_dict, default=pl.first())\n",
    "\n",
    "    .alias(\"remapped\")\n",
    "\n",
    ")\n"
   ]
  },
  {
   "cell_type": "code",
   "execution_count": null,
   "id": "ada1c03b-19bf-416a-8e7b-08d51925f64a",
   "metadata": {},
   "outputs": [],
   "source": [
    "## Method 2: replace the whole column with a new one"
   ]
  },
  {
   "cell_type": "code",
   "execution_count": null,
   "id": "aa5e17ad-f745-4343-ba2f-2357796a689e",
   "metadata": {
    "tags": []
   },
   "outputs": [],
   "source": [
    "df = pl.DataFrame({\"foo\": [1, 2, 3], \"bar\": [4, 5, 6]})\n",
    "\n",
    "df"
   ]
  },
  {
   "cell_type": "code",
   "execution_count": null,
   "id": "5158ae19-9e7b-4ab4-ba6e-7954cce5cf89",
   "metadata": {
    "tags": []
   },
   "outputs": [],
   "source": [
    "\n",
    "s = pl.Series([10, 20, 30])\n",
    "df.replace(\"foo\", s)  # works in-place!  \n",
    "\n",
    "df"
   ]
  },
  {
   "cell_type": "code",
   "execution_count": null,
   "id": "4c402da0-77e8-4362-a768-ba8dc0570efa",
   "metadata": {},
   "outputs": [],
   "source": []
  }
 ],
 "metadata": {
  "kernelspec": {
   "display_name": "Python 3 (ipykernel)",
   "language": "python",
   "name": "python3"
  },
  "language_info": {
   "codemirror_mode": {
    "name": "ipython",
    "version": 3
   },
   "file_extension": ".py",
   "mimetype": "text/x-python",
   "name": "python",
   "nbconvert_exporter": "python",
   "pygments_lexer": "ipython3",
   "version": "3.10.4"
  }
 },
 "nbformat": 4,
 "nbformat_minor": 5
}
