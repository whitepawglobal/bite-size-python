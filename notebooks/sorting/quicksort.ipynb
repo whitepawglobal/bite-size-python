{
 "cells": [
  {
   "cell_type": "code",
   "execution_count": 21,
   "id": "dd2632f8-5061-4098-a1e7-b8dd09f0fc13",
   "metadata": {
    "tags": []
   },
   "outputs": [],
   "source": [
    "import random\n",
    "\n",
    "def quicksort(array):\n",
    "    \n",
    "    if len(array) < 2:\n",
    "        \n",
    "        return array\n",
    "    \n",
    "    index = random.randint(0, len(array) - 1)\n",
    "    pivot = array[index]\n",
    "    \n",
    "    leftarray = []\n",
    "    midarray = []\n",
    "    rightarray = []\n",
    "    \n",
    "    for i in range(len(array)):\n",
    "        \n",
    "        if i != index:\n",
    "            if array[i] < pivot:\n",
    "\n",
    "                leftarray.append(array[i])\n",
    "\n",
    "            elif array[i] > pivot:\n",
    "\n",
    "                rightarray.append(array[i])\n",
    "\n",
    "            else:\n",
    "                 midarray.append(array[i])\n",
    "                              \n",
    "    midarray.append(array[index])\n",
    "                              \n",
    "    return quicksort(leftarray) + midarray + quicksort(rightarray)\n",
    "\n",
    "\n",
    "def search(array, value, indexincluded):\n",
    "        \n",
    "    starter = 0\n",
    "    ending = len(array) - 1\n",
    "    \n",
    "    while True:\n",
    "    \n",
    "        if starter >= ending:\n",
    "            return -1\n",
    "            \n",
    "        index = random.randint(starter, ending)\n",
    "        \n",
    "\n",
    "        \n",
    "        if indexincluded == index:\n",
    "            \n",
    "            pass\n",
    "        \n",
    "        elif array[index] > value:\n",
    "            \n",
    "            ending = index - 1\n",
    "            \n",
    "            if ending < 0:\n",
    "                \n",
    "                return -1\n",
    "            \n",
    "        elif array[index] < value:\n",
    "\n",
    "            starter = index + 1\n",
    "            \n",
    "            if starter >= len(array):\n",
    "                return -1 \n",
    "        else:\n",
    "\n",
    "            return index\n",
    "        \n",
    "def findpair(sortedarray, target):\n",
    "    \n",
    "    for i in range(len(sortedarray)):\n",
    "\n",
    "        value = target - sortedarray[i]\n",
    "\n",
    "        index = search(sortedarray, value, i)\n",
    "\n",
    "        if index != -1:\n",
    "            \n",
    "            return [i, index]\n",
    "        \n",
    "    return -1"
   ]
  },
  {
   "cell_type": "markdown",
   "id": "cb3aea96-c969-4551-853d-3044c6ffe168",
   "metadata": {
    "tags": []
   },
   "source": [
    "### find two sum pair to form the desired value, answer might not be present"
   ]
  },
  {
   "cell_type": "code",
   "execution_count": 31,
   "id": "9f24795d-7c22-48bb-ad00-041e0b5bdea9",
   "metadata": {
    "tags": []
   },
   "outputs": [
    {
     "name": "stdout",
     "output_type": "stream",
     "text": [
      "Sorted Array\n",
      "[1, 1, 1, 1, 1, 1, 4, 4, 10]\n",
      "Index\n",
      "[7, 8]\n"
     ]
    }
   ],
   "source": [
    "array = [2,5,6,7]\n",
    "target = 4\n",
    "\n",
    "array = [2,2]\n",
    "target = 4\n",
    "\n",
    "array = [1,1,1,4,4,10, 1,1,1]\n",
    "target = 14\n",
    "\n",
    "\n",
    "sortedarray = quicksort(array)\n",
    "\n",
    "print(\"Sorted Array\")\n",
    "print(sortedarray)\n",
    "\n",
    "output = findpair(sortedarray, target)\n",
    "\n",
    "if output == -1:\n",
    "    \n",
    "    print(\"No Combination Found\")\n",
    "    \n",
    "else:\n",
    "    print(\"Index\")\n",
    "    print(output)"
   ]
  },
  {
   "cell_type": "code",
   "execution_count": null,
   "id": "b522a61c-117a-4568-8702-f64c099a7981",
   "metadata": {},
   "outputs": [],
   "source": []
  }
 ],
 "metadata": {
  "kernelspec": {
   "display_name": "Python 3 (ipykernel)",
   "language": "python",
   "name": "python3"
  },
  "language_info": {
   "codemirror_mode": {
    "name": "ipython",
    "version": 3
   },
   "file_extension": ".py",
   "mimetype": "text/x-python",
   "name": "python",
   "nbconvert_exporter": "python",
   "pygments_lexer": "ipython3",
   "version": "3.10.4"
  }
 },
 "nbformat": 4,
 "nbformat_minor": 5
}
