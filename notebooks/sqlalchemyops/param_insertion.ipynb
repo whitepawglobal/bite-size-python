{
 "cells": [
  {
   "cell_type": "code",
   "execution_count": null,
   "id": "2594b91f-2eba-43ed-965b-08477347f2bc",
   "metadata": {},
   "outputs": [],
   "source": [
    "from sqlalchemy.sql import text\n",
    "\n",
    "\n",
    "date_preference = \"last_updated_at\" # last_updated_at\n",
    "\n",
    "condition = f\"{date_preference} < :date_max\"\n",
    "\n",
    "query = query.where(text(condition).bindparams(date_max=datetime.datetime(2023, 10, 1, 0, 0)))\n",
    "\n",
    "session.scalar/scalars/execute(query)"
   ]
  }
 ],
 "metadata": {
  "kernelspec": {
   "display_name": "Python 3 (ipykernel)",
   "language": "python",
   "name": "python3"
  },
  "language_info": {
   "codemirror_mode": {
    "name": "ipython",
    "version": 3
   },
   "file_extension": ".py",
   "mimetype": "text/x-python",
   "name": "python",
   "nbconvert_exporter": "python",
   "pygments_lexer": "ipython3",
   "version": "3.10.4"
  }
 },
 "nbformat": 4,
 "nbformat_minor": 5
}
