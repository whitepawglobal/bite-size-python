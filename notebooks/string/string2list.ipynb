{
 "cells": [
  {
   "cell_type": "code",
   "execution_count": 1,
   "id": "32c536e6-a737-442d-a12b-c88f992da413",
   "metadata": {
    "tags": []
   },
   "outputs": [
    {
     "data": {
      "text/plain": [
       "[[[1, 2, 3, 4], [1, 2, 3, 4]], [], [[1, 2, 3, 4]]]"
      ]
     },
     "execution_count": 1,
     "metadata": {},
     "output_type": "execute_result"
    }
   ],
   "source": [
    "sample = [1,2,3,4]\n",
    "\n",
    "samplelist = [[sample,sample], [], [sample]]\n",
    "\n",
    "samplelist"
   ]
  },
  {
   "cell_type": "markdown",
   "id": "56259e87-b265-476f-ac30-e72da41358b9",
   "metadata": {},
   "source": [
    "### list to str"
   ]
  },
  {
   "cell_type": "code",
   "execution_count": 7,
   "id": "a4e20b8d-c889-4362-9714-b6aa989cb2a2",
   "metadata": {},
   "outputs": [
    {
     "name": "stdout",
     "output_type": "stream",
     "text": [
      "<class 'str'>\n",
      "[[[1, 2, 3, 4], [1, 2, 3, 4]], [], [[1, 2, 3, 4]]]\n"
     ]
    }
   ],
   "source": [
    "in_test = str(samplelist)\n",
    "\n",
    "print(type(in_test))\n",
    "print(in_test)"
   ]
  },
  {
   "cell_type": "markdown",
   "id": "6a7d191d-10a1-4878-9a3c-4400df462b8c",
   "metadata": {},
   "source": [
    "### str to list"
   ]
  },
  {
   "cell_type": "code",
   "execution_count": 9,
   "id": "4ec9cd07-e448-42df-a690-f8def1414c9f",
   "metadata": {
    "tags": []
   },
   "outputs": [
    {
     "name": "stdout",
     "output_type": "stream",
     "text": [
      "<class 'list'>\n",
      "[[[1, 2, 3, 4], [1, 2, 3, 4]], [], [[1, 2, 3, 4]]]\n"
     ]
    }
   ],
   "source": [
    "out_test = eval(in_test)\n",
    "\n",
    "print(type(out_test))\n",
    "print(out_test)"
   ]
  },
  {
   "cell_type": "code",
   "execution_count": 12,
   "id": "9e50f8df-9930-4d46-aa49-b88f73f57343",
   "metadata": {
    "tags": []
   },
   "outputs": [
    {
     "name": "stdout",
     "output_type": "stream",
     "text": [
      "<class 'list'>\n",
      "[1, 2, 3, 4]\n",
      "<class 'list'>\n",
      "[1, 2, 3, 4]\n",
      "<class 'list'>\n",
      "[1, 2, 3, 4]\n"
     ]
    }
   ],
   "source": [
    "for item in out_test:\n",
    "    \n",
    "    for i in item:\n",
    "        print(type(i))\n",
    "        print(i)"
   ]
  },
  {
   "cell_type": "code",
   "execution_count": null,
   "id": "02353fc6-bb33-470c-acae-a510ac219b20",
   "metadata": {},
   "outputs": [],
   "source": []
  }
 ],
 "metadata": {
  "kernelspec": {
   "display_name": "Python 3 (ipykernel)",
   "language": "python",
   "name": "python3"
  },
  "language_info": {
   "codemirror_mode": {
    "name": "ipython",
    "version": 3
   },
   "file_extension": ".py",
   "mimetype": "text/x-python",
   "name": "python",
   "nbconvert_exporter": "python",
   "pygments_lexer": "ipython3",
   "version": "3.10.4"
  }
 },
 "nbformat": 4,
 "nbformat_minor": 5
}
