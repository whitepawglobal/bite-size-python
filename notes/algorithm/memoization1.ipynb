{
 "cells": [
  {
   "cell_type": "markdown",
   "id": "54a84a72-43f6-420f-85de-3d56c87af8b0",
   "metadata": {},
   "source": [
    "## Number of pairs\n",
    "\n",
    "The formula n(n - 1) / 2 is used to calculate the number of combinations (or pairs) that can be formed from \n",
    "n distinct items, where order doesn't matter. \n",
    "\n",
    "array = [1,2,3,4]\n",
    "[1,2], [1,3], [1,4]\n",
    "[2,3], [2,4]\n",
    "[3,4]\n",
    "6 pairs\n"
   ]
  },
  {
   "cell_type": "code",
   "execution_count": 2,
   "id": "3d35ec7f-f414-4387-9080-3597779007ce",
   "metadata": {
    "tags": []
   },
   "outputs": [
    {
     "data": {
      "text/plain": [
       "6.0"
      ]
     },
     "execution_count": 2,
     "metadata": {},
     "output_type": "execute_result"
    }
   ],
   "source": [
    "def get_pairs(array_len):\n",
    "\n",
    "    return array_len * (array_len - 1) / 2\n",
    "\n",
    "array = [1,2,3,4]\n",
    "\n",
    "get_pairs(len(array))\n"
   ]
  },
  {
   "cell_type": "markdown",
   "id": "26b35fa9-1edb-4522-aac0-23da321bcaa4",
   "metadata": {},
   "source": [
    "## Fibonacci\n",
    "\n",
    "0, 1, 1, 2, 3, 5, 8, 13, 21, 34, 55, 89, 144, ....[1]\n",
    "\n",
    "F(n) = F(n - 1) + F (n - 2)\n",
    "\n"
   ]
  },
  {
   "cell_type": "code",
   "execution_count": 8,
   "id": "fd2a0991-d29d-43ea-b395-800172b7444e",
   "metadata": {
    "tags": []
   },
   "outputs": [
    {
     "data": {
      "text/plain": [
       "55"
      ]
     },
     "execution_count": 8,
     "metadata": {},
     "output_type": "execute_result"
    }
   ],
   "source": [
    "\n",
    "keyvalue = {0: 0, 1: 1}\n",
    "\n",
    "def fibonacci(n):\n",
    "    \n",
    "    if n < 2:\n",
    "        \n",
    "        return keyvalue[n]\n",
    "    \n",
    "    \n",
    "    if (n - 1) not in keyvalue.keys():\n",
    "        \n",
    "        keyvalue[n - 1] = fibonacci(n - 1)\n",
    "        \n",
    "    if (n - 2) not in keyvalue.keys():\n",
    "        \n",
    "        keyvalue[n - 2] = fibonacci(n - 2)\n",
    "        \n",
    "        \n",
    "    return keyvalue[n - 1] + keyvalue[n - 2]\n",
    "\n",
    "fibonacci(10)"
   ]
  },
  {
   "cell_type": "markdown",
   "id": "2ac81e10-bd52-4ff9-9007-43f87c25f8de",
   "metadata": {},
   "source": [
    "## Factorial \n",
    "\n",
    "n! = n * (n - 1)!\n",
    "\n",
    "1, 2, 6, 24, 120\n"
   ]
  },
  {
   "cell_type": "code",
   "execution_count": 11,
   "id": "3f009c31-5864-4d13-8080-9c1ce6d140ef",
   "metadata": {
    "tags": []
   },
   "outputs": [
    {
     "name": "stdout",
     "output_type": "stream",
     "text": [
      "5\n",
      "4\n",
      "3\n",
      "2\n"
     ]
    },
    {
     "data": {
      "text/plain": [
       "120"
      ]
     },
     "execution_count": 11,
     "metadata": {},
     "output_type": "execute_result"
    }
   ],
   "source": [
    "keyvalue = {1: 1}\n",
    "\n",
    "def factorial(n):\n",
    "        \n",
    "    if n < 2:\n",
    "        \n",
    "        return keyvalue[1]\n",
    "    \n",
    "    if (n - 1) not in keyvalue.keys():\n",
    "        \n",
    "        value = factorial(n - 1)\n",
    "        \n",
    "    keyvalue[n] = n * keyvalue[n - 1]\n",
    "    \n",
    "    return keyvalue[n]\n",
    "\n",
    "factorial(5)"
   ]
  },
  {
   "cell_type": "markdown",
   "id": "376af81b-b2c2-4d2d-b25a-3f8847acf0ad",
   "metadata": {
    "tags": []
   },
   "source": [
    "## Find unique 3 combination value in an array"
   ]
  },
  {
   "cell_type": "code",
   "execution_count": 13,
   "id": "4486bcba-b689-447c-af40-801144aede8e",
   "metadata": {
    "tags": []
   },
   "outputs": [
    {
     "name": "stdout",
     "output_type": "stream",
     "text": [
      "{(2, 3, 4), (1, 2, 3), (1, 2, 4), (1, 3, 4)}\n"
     ]
    }
   ],
   "source": [
    "array = [1,2,3,4,1]\n",
    "\n",
    "uniquesets = set()\n",
    "\n",
    "for i in range(0, len(array) - 3):\n",
    "    \n",
    "    for j in range(i + 1, len(array) - 2):\n",
    "        \n",
    "        for k in range(j + 1, len(array) - 1):\n",
    "            \n",
    "            candidate = tuple(sorted([array[i], array[j], array[k]]))\n",
    "            \n",
    "            uniquesets.add(candidate)\n",
    "            \n",
    "print(uniquesets)"
   ]
  },
  {
   "cell_type": "code",
   "execution_count": null,
   "id": "4934c707-bc79-44a0-aede-13d116d870d3",
   "metadata": {},
   "outputs": [],
   "source": []
  }
 ],
 "metadata": {
  "kernelspec": {
   "display_name": "Python 3 (ipykernel)",
   "language": "python",
   "name": "python3"
  },
  "language_info": {
   "codemirror_mode": {
    "name": "ipython",
    "version": 3
   },
   "file_extension": ".py",
   "mimetype": "text/x-python",
   "name": "python",
   "nbconvert_exporter": "python",
   "pygments_lexer": "ipython3",
   "version": "3.10.4"
  }
 },
 "nbformat": 4,
 "nbformat_minor": 5
}
