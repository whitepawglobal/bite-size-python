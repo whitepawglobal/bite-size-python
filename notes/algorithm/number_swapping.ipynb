{
 "cells": [
  {
   "cell_type": "code",
   "execution_count": 11,
   "id": "24e7ab19-7728-4a51-bbdb-8ec46ff04430",
   "metadata": {
    "tags": []
   },
   "outputs": [],
   "source": [
    "a = 20\n",
    "b = 30"
   ]
  },
  {
   "cell_type": "markdown",
   "id": "829e90ce-ebf4-43be-ac99-319c5b04c09a",
   "metadata": {
    "tags": []
   },
   "source": [
    "### Method 0: Conventional Swap"
   ]
  },
  {
   "cell_type": "code",
   "execution_count": 6,
   "id": "0ba4dc62-12a4-4eda-be9a-b44ec12973cc",
   "metadata": {
    "tags": []
   },
   "outputs": [
    {
     "name": "stdout",
     "output_type": "stream",
     "text": [
      "30\n",
      "20\n"
     ]
    }
   ],
   "source": [
    "temp = a\n",
    "a = b\n",
    "b = temp\n",
    "\n",
    "print(a)\n",
    "print(b)"
   ]
  },
  {
   "cell_type": "markdown",
   "id": "79bc8bf5-dd68-486c-822b-9e5fe451e4cf",
   "metadata": {},
   "source": [
    "### Method 1: Swap in place"
   ]
  },
  {
   "cell_type": "code",
   "execution_count": 9,
   "id": "8742693c-ad87-4837-bde6-b62f62311e7e",
   "metadata": {
    "tags": []
   },
   "outputs": [
    {
     "name": "stdout",
     "output_type": "stream",
     "text": [
      "30\n",
      "20\n"
     ]
    }
   ],
   "source": [
    "a, b = b, a\n",
    "\n",
    "print(a)\n",
    "print(b)"
   ]
  },
  {
   "cell_type": "markdown",
   "id": "3f71b51d-e831-448e-b658-0809ab418a1c",
   "metadata": {},
   "source": [
    "### Method 3: Swap with XOR\n",
    "\n",
    "Space Complexity: O(1) _constant_"
   ]
  },
  {
   "cell_type": "code",
   "execution_count": 12,
   "id": "9a3d2b3c-e1b6-41e9-86a5-39d354d56117",
   "metadata": {
    "tags": []
   },
   "outputs": [
    {
     "name": "stdout",
     "output_type": "stream",
     "text": [
      "30\n",
      "20\n"
     ]
    }
   ],
   "source": [
    "x = a ^ b\n",
    "\n",
    "b = x ^b\n",
    "a = x ^a\n",
    "\n",
    "print(a)\n",
    "print(b)"
   ]
  },
  {
   "cell_type": "code",
   "execution_count": null,
   "id": "6b2863a6-d2e9-422c-be17-986d3c77005f",
   "metadata": {},
   "outputs": [],
   "source": []
  }
 ],
 "metadata": {
  "kernelspec": {
   "display_name": "Python 3 (ipykernel)",
   "language": "python",
   "name": "python3"
  },
  "language_info": {
   "codemirror_mode": {
    "name": "ipython",
    "version": 3
   },
   "file_extension": ".py",
   "mimetype": "text/x-python",
   "name": "python",
   "nbconvert_exporter": "python",
   "pygments_lexer": "ipython3",
   "version": "3.10.4"
  }
 },
 "nbformat": 4,
 "nbformat_minor": 5
}
