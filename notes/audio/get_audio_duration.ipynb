{
 "cells": [
  {
   "cell_type": "code",
   "execution_count": 2,
   "id": "07d55c9c-c522-4914-8997-8f2fbb370d36",
   "metadata": {},
   "outputs": [
    {
     "data": {
      "text/plain": [
       "2.5408125"
      ]
     },
     "execution_count": 2,
     "metadata": {},
     "output_type": "execute_result"
    }
   ],
   "source": [
    "import librosa\n",
    "import os\n",
    "\n",
    "audiorootpath = r\"C:\\Users\\codenamewei\\Documents\\nlp-meeting-data\\audio-chunks\\timit\"\n",
    "audiopath = os.path.join(audiorootpath, \"SI2321.WAV.wav\")\n",
    "\n",
    "timeinseconds = librosa.get_duration(path=audiopath)\n",
    "\n",
    "timeinseconds"
   ]
  },
  {
   "cell_type": "code",
   "execution_count": 6,
   "id": "7f5d744e-5dc3-4a5d-9ef4-4354bb0881e5",
   "metadata": {},
   "outputs": [
    {
     "name": "stdout",
     "output_type": "stream",
     "text": [
      "SI2311.WAV.wav 2.16325\n",
      "SI2312.WAV.wav 1.881625\n",
      "SI2313.WAV.wav 5.5744375\n"
     ]
    }
   ],
   "source": [
    "audiofiles = [\"SI2311.WAV.wav\", \"SI2312.WAV.wav\", \"SI2313.WAV.wav\"]\n",
    "audiopaths = list(map(lambda x: os.path.join(audiorootpath, x), audiofiles))\n",
    "\n",
    "totaldurations = list(map(lambda x: librosa.get_duration(path=x), audiopaths))\n",
    "\n",
    "for file, time in zip(audiofiles, totaldurations):\n",
    "\n",
    "    print(f\"{file} {time}\")"
   ]
  },
  {
   "cell_type": "code",
   "execution_count": null,
   "id": "d7d2e460-5ecf-42fc-b9a1-52617b596b45",
   "metadata": {},
   "outputs": [],
   "source": []
  }
 ],
 "metadata": {
  "kernelspec": {
   "display_name": "Python 3 (ipykernel)",
   "language": "python",
   "name": "python3"
  },
  "language_info": {
   "codemirror_mode": {
    "name": "ipython",
    "version": 3
   },
   "file_extension": ".py",
   "mimetype": "text/x-python",
   "name": "python",
   "nbconvert_exporter": "python",
   "pygments_lexer": "ipython3",
   "version": "3.10.13"
  }
 },
 "nbformat": 4,
 "nbformat_minor": 5
}
