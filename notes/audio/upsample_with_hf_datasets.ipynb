{
 "cells": [
  {
   "cell_type": "markdown",
   "id": "eb789df5-adf3-4aa8-b95f-50c4f577e28b",
   "metadata": {},
   "source": [
    "### Notice that the sampling set of dataset is 8000"
   ]
  },
  {
   "cell_type": "code",
   "execution_count": 2,
   "id": "3738bf56-6188-4c06-92f5-b93cf6c257dc",
   "metadata": {},
   "outputs": [
    {
     "name": "stderr",
     "output_type": "stream",
     "text": [
      "C:\\Users\\codenamewei\\.conda\\envs\\audioenv\\lib\\site-packages\\datasets\\load.py:1486: FutureWarning: The repository for PolyAI/minds14 contains custom code which must be executed to correctly load the dataset. You can inspect the repository content at https://hf.co/datasets/PolyAI/minds14\n",
      "You can avoid this message in future by passing the argument `trust_remote_code=True`.\n",
      "Passing `trust_remote_code=True` will be mandatory to load this dataset from the next major release of `datasets`.\n",
      "  warnings.warn(\n"
     ]
    },
    {
     "name": "stdout",
     "output_type": "stream",
     "text": [
      "<class 'datasets.arrow_dataset.Dataset'>\n"
     ]
    },
    {
     "data": {
      "text/plain": [
       "{'path': 'C:\\\\Users\\\\codenamewei\\\\.cache\\\\huggingface\\\\datasets\\\\downloads\\\\extracted\\\\d46cfb1b46bc5ef86f7bc468fa4474ffe6537bc9929c242191e48e2373f73beb\\\\ko-KR~ATM_LIMIT\\\\602bef265f67b421554f65e7.wav',\n",
       " 'audio': {'path': 'C:\\\\Users\\\\codenamewei\\\\.cache\\\\huggingface\\\\datasets\\\\downloads\\\\extracted\\\\d46cfb1b46bc5ef86f7bc468fa4474ffe6537bc9929c242191e48e2373f73beb\\\\ko-KR~ATM_LIMIT\\\\602bef265f67b421554f65e7.wav',\n",
       "  'array': array([0.00024414, 0.        , 0.        , ..., 0.00073242, 0.00048828,\n",
       "         0.00048828]),\n",
       "  'sampling_rate': 8000},\n",
       " 'transcription': 'app Manager 하고 싶은데 최대 금액이 얼마인지요',\n",
       " 'english_transcription': 'I want to do app manager, what is the maximum amount',\n",
       " 'intent_class': 3,\n",
       " 'lang_id': 8}"
      ]
     },
     "execution_count": 2,
     "metadata": {},
     "output_type": "execute_result"
    }
   ],
   "source": [
    "from datasets import load_dataset\n",
    "from datasets import Audio\n",
    "\n",
    "minds = load_dataset(\"PolyAI/minds14\", name=\"ko-KR\", split=\"train\")\n",
    "\n",
    "print(type(minds))\n",
    "\n",
    "minds[0]"
   ]
  },
  {
   "cell_type": "markdown",
   "id": "4167fced-8c7a-4d57-abd4-23dbd91fd22a",
   "metadata": {},
   "source": [
    "### Upsample to 2x (16000)"
   ]
  },
  {
   "cell_type": "code",
   "execution_count": 4,
   "id": "b26b1b46-c301-4e0f-89f9-97a3d8aa25de",
   "metadata": {},
   "outputs": [
    {
     "data": {
      "text/plain": [
       "{'path': 'C:\\\\Users\\\\codenamewei\\\\.cache\\\\huggingface\\\\datasets\\\\downloads\\\\extracted\\\\d46cfb1b46bc5ef86f7bc468fa4474ffe6537bc9929c242191e48e2373f73beb\\\\ko-KR~ATM_LIMIT\\\\602bef265f67b421554f65e7.wav',\n",
       " 'audio': {'path': 'C:\\\\Users\\\\codenamewei\\\\.cache\\\\huggingface\\\\datasets\\\\downloads\\\\extracted\\\\d46cfb1b46bc5ef86f7bc468fa4474ffe6537bc9929c242191e48e2373f73beb\\\\ko-KR~ATM_LIMIT\\\\602bef265f67b421554f65e7.wav',\n",
       "  'array': array([ 2.45040137e-04,  1.78244169e-04, -1.80282223e-06, ...,\n",
       "          5.53574704e-04,  4.92824474e-04,  2.39125075e-04]),\n",
       "  'sampling_rate': 16000},\n",
       " 'transcription': 'app Manager 하고 싶은데 최대 금액이 얼마인지요',\n",
       " 'english_transcription': 'I want to do app manager, what is the maximum amount',\n",
       " 'intent_class': 3,\n",
       " 'lang_id': 8}"
      ]
     },
     "execution_count": 4,
     "metadata": {},
     "output_type": "execute_result"
    }
   ],
   "source": [
    "upsampled_minds = minds.cast_column(\"audio\", Audio(sampling_rate = 16_000))\n",
    "\n",
    "upsampled_minds[0]"
   ]
  },
  {
   "cell_type": "code",
   "execution_count": null,
   "id": "c47e80e1-9d52-48d6-98f9-7252b68bde1f",
   "metadata": {},
   "outputs": [],
   "source": []
  }
 ],
 "metadata": {
  "kernelspec": {
   "display_name": "Python 3 (ipykernel)",
   "language": "python",
   "name": "python3"
  },
  "language_info": {
   "codemirror_mode": {
    "name": "ipython",
    "version": 3
   },
   "file_extension": ".py",
   "mimetype": "text/x-python",
   "name": "python",
   "nbconvert_exporter": "python",
   "pygments_lexer": "ipython3",
   "version": "3.10.13"
  }
 },
 "nbformat": 4,
 "nbformat_minor": 5
}
