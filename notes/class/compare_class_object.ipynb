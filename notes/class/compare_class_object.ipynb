{
 "cells": [
  {
   "cell_type": "code",
   "execution_count": 2,
   "id": "6915c012-8839-475d-97a6-71b74720eb1e",
   "metadata": {
    "tags": []
   },
   "outputs": [
    {
     "name": "stdout",
     "output_type": "stream",
     "text": [
      "same\n",
      "different\n",
      "same\n",
      "--------------------\n",
      "same\n",
      "different\n",
      "same\n"
     ]
    }
   ],
   "source": [
    "class abc:\n",
    "\n",
    "    def __init__(self):\n",
    "        \n",
    "        pass\n",
    "    \n",
    "    \n",
    "a= abc()\n",
    "b = abc()\n",
    "\n",
    "def is_class_object_same(a, b):\n",
    "    \n",
    "    if a == b:\n",
    "\n",
    "        print(\"same\")\n",
    "\n",
    "    else: \n",
    "        print(\"different\")\n",
    "        \n",
    "def is_class_object_same2(a, b):\n",
    "    \n",
    "    if a == b:\n",
    "\n",
    "        print(\"same\")\n",
    "\n",
    "    else: \n",
    "        print(\"different\")\n",
    "        \n",
    "        \n",
    "        \n",
    "is_class_object_same(a, a)\n",
    "is_class_object_same(a, b)\n",
    "is_class_object_same(b, b)\n",
    "\n",
    "print(\"--------------------\")\n",
    "is_class_object_same2(a, a)\n",
    "is_class_object_same2(a, b)\n",
    "is_class_object_same2(b, b)"
   ]
  },
  {
   "cell_type": "code",
   "execution_count": null,
   "id": "7bfc4fbd-fb14-4670-9883-690c7d3121cd",
   "metadata": {},
   "outputs": [],
   "source": []
  }
 ],
 "metadata": {
  "kernelspec": {
   "display_name": "Python 3 (ipykernel)",
   "language": "python",
   "name": "python3"
  },
  "language_info": {
   "codemirror_mode": {
    "name": "ipython",
    "version": 3
   },
   "file_extension": ".py",
   "mimetype": "text/x-python",
   "name": "python",
   "nbconvert_exporter": "python",
   "pygments_lexer": "ipython3",
   "version": "3.10.4"
  }
 },
 "nbformat": 4,
 "nbformat_minor": 5
}
