{
 "cells": [
  {
   "cell_type": "markdown",
   "id": "0c0592a6-5b83-4bf8-a73e-abf3e715b01d",
   "metadata": {
    "tags": []
   },
   "source": [
    "## Magic methods __repr__ and __dict__ are created when define class with dataclass"
   ]
  },
  {
   "cell_type": "markdown",
   "id": "ff70d502-6fc3-4d06-bf9c-d13ac40841f8",
   "metadata": {
    "tags": []
   },
   "source": [
    "### Normal class definition"
   ]
  },
  {
   "cell_type": "code",
   "execution_count": 16,
   "id": "958ef9ac-f0ce-47c6-9dc3-b231e34fc0da",
   "metadata": {
    "tags": []
   },
   "outputs": [],
   "source": [
    "class Test: \n",
    "    var1 = \"abc\"\n",
    "    var2 = 100\n",
    "\n",
    "    def __init__(self, input_var3):\n",
    "        \n",
    "        var3 = input_var3"
   ]
  },
  {
   "cell_type": "code",
   "execution_count": 18,
   "id": "2676ac9a-aab7-4279-8850-6ff11dfc1326",
   "metadata": {
    "tags": []
   },
   "outputs": [
    {
     "name": "stdout",
     "output_type": "stream",
     "text": [
      "{}\n",
      "abc\n",
      "{}\n"
     ]
    }
   ],
   "source": [
    "test = Test(\"def\")\n",
    "\n",
    "print(test.__dict__)\n",
    "\n",
    "print(test.var1)\n",
    "\n",
    "print(test.__dict__)"
   ]
  },
  {
   "cell_type": "markdown",
   "id": "455d1e1f-4df8-460b-844f-fd345be6baeb",
   "metadata": {
    "tags": []
   },
   "source": [
    "### Class definition with @dataclass"
   ]
  },
  {
   "cell_type": "code",
   "execution_count": 42,
   "id": "cd019cec-9540-4ca7-865c-8805d736f610",
   "metadata": {
    "tags": []
   },
   "outputs": [],
   "source": [
    "from dataclasses import dataclass\n",
    "\n",
    "@dataclass\n",
    "class Test2: \n",
    "    var3 : str\n",
    "    var1 = \"abc\"\n",
    "    var2 = 100\n"
   ]
  },
  {
   "cell_type": "markdown",
   "id": "532f349f-9e90-45e5-8b9e-a1935ddae167",
   "metadata": {},
   "source": [
    "### __dict__ only print variables that define in __init__ and setting variable"
   ]
  },
  {
   "cell_type": "code",
   "execution_count": 47,
   "id": "4deaf457-0bf4-4d08-bc33-7138bc3daed2",
   "metadata": {
    "tags": []
   },
   "outputs": [
    {
     "name": "stdout",
     "output_type": "stream",
     "text": [
      "{'var3': 1000}\n"
     ]
    }
   ],
   "source": [
    "t = Test2(var3 = 1000)\n",
    "\n",
    "print(t.__dict__)"
   ]
  },
  {
   "cell_type": "markdown",
   "id": "c86ed10a-f595-4b10-aa72-c535ff4119ac",
   "metadata": {},
   "source": [
    "### although var1 is set , it's not printed in __dict__"
   ]
  },
  {
   "cell_type": "code",
   "execution_count": 48,
   "id": "e1a8c17c-95d9-45ec-bb3e-93ad34f2d3a8",
   "metadata": {
    "tags": []
   },
   "outputs": [
    {
     "name": "stdout",
     "output_type": "stream",
     "text": [
      "abc\n",
      "{'var3': 1000}\n"
     ]
    }
   ],
   "source": [
    "print(t.var1)\n",
    "print(t.__dict__)"
   ]
  },
  {
   "cell_type": "code",
   "execution_count": 45,
   "id": "56f431e7-1d06-4eb3-8169-fc50f81b6980",
   "metadata": {
    "tags": []
   },
   "outputs": [
    {
     "data": {
      "text/plain": [
       "'abc'"
      ]
     },
     "execution_count": 45,
     "metadata": {},
     "output_type": "execute_result"
    }
   ],
   "source": [
    " t.var1 = "
   ]
  },
  {
   "cell_type": "code",
   "execution_count": 46,
   "id": "b0ce8dd8-69af-42f0-a640-08004b69f223",
   "metadata": {
    "tags": []
   },
   "outputs": [
    {
     "data": {
      "text/plain": [
       "{'var3': 1000}"
      ]
     },
     "execution_count": 46,
     "metadata": {},
     "output_type": "execute_result"
    }
   ],
   "source": [
    "t.__dict__"
   ]
  },
  {
   "cell_type": "code",
   "execution_count": null,
   "id": "818dfe82-6a54-4825-b944-3a9681a65b9a",
   "metadata": {},
   "outputs": [],
   "source": []
  }
 ],
 "metadata": {
  "kernelspec": {
   "display_name": "Python 3 (ipykernel)",
   "language": "python",
   "name": "python3"
  },
  "language_info": {
   "codemirror_mode": {
    "name": "ipython",
    "version": 3
   },
   "file_extension": ".py",
   "mimetype": "text/x-python",
   "name": "python",
   "nbconvert_exporter": "python",
   "pygments_lexer": "ipython3",
   "version": "3.10.9"
  }
 },
 "nbformat": 4,
 "nbformat_minor": 5
}
