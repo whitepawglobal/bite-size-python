{
 "cells": [
  {
   "cell_type": "code",
   "execution_count": 5,
   "id": "bfe30d39-be54-443d-99b3-48089966fdf5",
   "metadata": {},
   "outputs": [],
   "source": [
    "from enum import Enum\n",
    "\n",
    "\n",
    "class Status(Enum):\n",
    "    \n",
    "    NOTDEFINED: int = -1\n",
    "    NEW : int = 0\n",
    "    PROCESSING : int = 1\n",
    "    DONE: int   = 2\n",
    "    ERROR: int = 3\n",
    "    "
   ]
  },
  {
   "cell_type": "markdown",
   "id": "21c02e89-26f7-4824-84f9-92ebd895caa2",
   "metadata": {},
   "source": [
    "# Get enum from string"
   ]
  },
  {
   "cell_type": "code",
   "execution_count": 11,
   "id": "a96dc383-3e16-4d80-b90c-4165f328506b",
   "metadata": {},
   "outputs": [
    {
     "data": {
      "text/plain": [
       "<Status.NEW: 0>"
      ]
     },
     "execution_count": 11,
     "metadata": {},
     "output_type": "execute_result"
    }
   ],
   "source": [
    "sample = getattr(Status, \"NEW\")\n",
    "\n",
    "sample"
   ]
  },
  {
   "cell_type": "markdown",
   "id": "6bfc38d1-0aca-475a-93e8-efb149fa92f1",
   "metadata": {},
   "source": [
    "# it creates attribute error if the string are not defined "
   ]
  },
  {
   "cell_type": "code",
   "execution_count": 14,
   "id": "ab14347e-c424-4bdd-8c68-8e8764ba3e8c",
   "metadata": {},
   "outputs": [
    {
     "name": "stdout",
     "output_type": "stream",
     "text": [
      "Error: new is not in the list\n"
     ]
    }
   ],
   "source": [
    "input_str = \"new\"\n",
    "\n",
    "try:\n",
    "   sample = getattr(Status, input_str)\n",
    "   print(sample)\n",
    "except AttributeError:\n",
    "   print(f'Error: {input_str} is not in the list')"
   ]
  },
  {
   "cell_type": "code",
   "execution_count": null,
   "id": "17e9a90e-339a-46c1-b13a-8a8fb2a2096e",
   "metadata": {},
   "outputs": [],
   "source": []
  }
 ],
 "metadata": {
  "kernelspec": {
   "display_name": "Python 3 (ipykernel)",
   "language": "python",
   "name": "python3"
  },
  "language_info": {
   "codemirror_mode": {
    "name": "ipython",
    "version": 3
   },
   "file_extension": ".py",
   "mimetype": "text/x-python",
   "name": "python",
   "nbconvert_exporter": "python",
   "pygments_lexer": "ipython3",
   "version": "3.8.5"
  }
 },
 "nbformat": 4,
 "nbformat_minor": 5
}
