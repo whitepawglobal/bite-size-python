{
 "cells": [
  {
   "cell_type": "markdown",
   "id": "bb524136-2685-4c34-ada9-8b890bfbe875",
   "metadata": {},
   "source": [
    "# Method 1 (Most straightforward method)"
   ]
  },
  {
   "cell_type": "code",
   "execution_count": 4,
   "id": "47c7f018-e5ce-4779-9b29-b507b648395f",
   "metadata": {},
   "outputs": [
    {
     "name": "stdout",
     "output_type": "stream",
     "text": [
      "Directions.NORTH\n",
      "NORTH\n",
      "north\n"
     ]
    }
   ],
   "source": [
    "from enum import Enum\n",
    "\n",
    "from fastapi import FastAPI\n",
    "\n",
    "\n",
    "class Directions(str, Enum):\n",
    "    NORTH = 'north'\n",
    "    SOUTH = 'south'\n",
    "    \n",
    "print(Directions.NORTH)\n",
    "print(Directions.NORTH.name)\n",
    "print(Directions.NORTH.value)"
   ]
  },
  {
   "cell_type": "markdown",
   "id": "2f4137a0-af8e-48e5-aa01-f4b213665251",
   "metadata": {
    "tags": []
   },
   "source": [
    "# Method 2"
   ]
  },
  {
   "cell_type": "markdown",
   "id": "9e7175c8-e8ea-4edc-8cb1-5fd6456e92ee",
   "metadata": {},
   "source": [
    "### For python 3.6+ but below python 3.11\n",
    "\n",
    "```\n",
    "pip install StrEnum\n",
    "```\n",
    "\n",
    "### References\n",
    "- https://stackoverflow.com/questions/58608361/string-based-enum-in-python"
   ]
  },
  {
   "cell_type": "code",
   "execution_count": 6,
   "id": "980121a4-e260-4b41-bcd1-67c0a8d60138",
   "metadata": {
    "tags": []
   },
   "outputs": [
    {
     "name": "stdout",
     "output_type": "stream",
     "text": [
      "Collecting strEnum\n",
      "  Using cached StrEnum-0.4.10-py3-none-any.whl (7.7 kB)\n",
      "Installing collected packages: strEnum\n",
      "Successfully installed strEnum-0.4.10\n"
     ]
    }
   ],
   "source": [
    "!pip install strEnum"
   ]
  },
  {
   "cell_type": "code",
   "execution_count": 7,
   "id": "7fa6f151-5f59-4b84-986b-028de25a2609",
   "metadata": {
    "tags": []
   },
   "outputs": [],
   "source": [
    "from strenum import StrEnum\n",
    "\n",
    "class Directions(StrEnum):\n",
    "    NORTH = 'north',    # notice the trailing comma\n",
    "    SOUTH = 'south'"
   ]
  },
  {
   "cell_type": "code",
   "execution_count": 8,
   "id": "0c410c4a-d8ff-4151-91af-b846aa3a1e28",
   "metadata": {
    "tags": []
   },
   "outputs": [
    {
     "data": {
      "text/plain": [
       "'SOUTH'"
      ]
     },
     "execution_count": 8,
     "metadata": {},
     "output_type": "execute_result"
    }
   ],
   "source": [
    "Directions.SOUTH.name"
   ]
  },
  {
   "cell_type": "code",
   "execution_count": 9,
   "id": "f301fbb0-86d9-4301-9396-f16d96b93f29",
   "metadata": {
    "tags": []
   },
   "outputs": [
    {
     "data": {
      "text/plain": [
       "'south'"
      ]
     },
     "execution_count": 9,
     "metadata": {},
     "output_type": "execute_result"
    }
   ],
   "source": [
    "Directions.SOUTH.value"
   ]
  },
  {
   "cell_type": "code",
   "execution_count": 10,
   "id": "4d69dfbd-892f-4bbe-aedd-81055df79a5e",
   "metadata": {
    "tags": []
   },
   "outputs": [
    {
     "data": {
      "text/plain": [
       "{'code': 'not_found', 'message': 'item not found'}"
      ]
     },
     "execution_count": 10,
     "metadata": {},
     "output_type": "execute_result"
    }
   ],
   "source": [
    "from dataclasses import dataclass\n",
    "from typing import Dict\n",
    "\n",
    "class ExceptionCode(StrEnum):\n",
    "    NOT_FOUND = \"not_found\"\n",
    "    \n",
    "\n",
    "@dataclass\n",
    "class ExceptionBody:\n",
    "    \n",
    "    code : ExceptionCode\n",
    "    message : str\n",
    "    \n",
    "    def get_dict(self) -> Dict[str, str]:\n",
    "        \n",
    "        return dict(code = self.code.value, message = self.message)\n",
    "    \n",
    "body = ExceptionBody(code = ExceptionCode.NOT_FOUND, message = \"item not found\")\n",
    "\n",
    "body.get_dict()"
   ]
  },
  {
   "cell_type": "code",
   "execution_count": null,
   "id": "36a4092f-fc6b-4d02-91cf-b7eb10fbe27e",
   "metadata": {},
   "outputs": [],
   "source": []
  }
 ],
 "metadata": {
  "kernelspec": {
   "display_name": "Python 3 (ipykernel)",
   "language": "python",
   "name": "python3"
  },
  "language_info": {
   "codemirror_mode": {
    "name": "ipython",
    "version": 3
   },
   "file_extension": ".py",
   "mimetype": "text/x-python",
   "name": "python",
   "nbconvert_exporter": "python",
   "pygments_lexer": "ipython3",
   "version": "3.10.4"
  }
 },
 "nbformat": 4,
 "nbformat_minor": 5
}
