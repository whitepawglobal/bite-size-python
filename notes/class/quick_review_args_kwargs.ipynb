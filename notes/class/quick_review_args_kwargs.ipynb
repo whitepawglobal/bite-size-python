{
 "cells": [
  {
   "cell_type": "markdown",
   "id": "ba5c2542-02bc-433f-9c54-bdadb2a482d8",
   "metadata": {},
   "source": [
    "## *args"
   ]
  },
  {
   "cell_type": "code",
   "execution_count": 1,
   "id": "b1d5bb5d-3692-4bb7-a81d-0fe1b6499f1a",
   "metadata": {},
   "outputs": [
    {
     "name": "stdout",
     "output_type": "stream",
     "text": [
      "(1, 2, 3)\n",
      "1\n",
      "2\n",
      "3\n"
     ]
    }
   ],
   "source": [
    "def test2(*args):\n",
    "\n",
    "    \n",
    "    print(args)\n",
    "\n",
    "    #since it's a tuple, you can iterate through it as well\n",
    "    for val in args:\n",
    "        print(val)\n",
    "test2(1,2,3)"
   ]
  },
  {
   "cell_type": "markdown",
   "id": "34bdd073-b77d-44b7-a063-299167ddad2e",
   "metadata": {},
   "source": [
    "### you can change the variable name, essentially just keep the asterisk"
   ]
  },
  {
   "cell_type": "code",
   "execution_count": 2,
   "id": "1b209456-358f-4e88-be5a-2673584a6455",
   "metadata": {},
   "outputs": [
    {
     "name": "stdout",
     "output_type": "stream",
     "text": [
      "(1, 2, 3)\n",
      "1\n",
      "2\n",
      "3\n"
     ]
    }
   ],
   "source": [
    "def test3(*randomvar):\n",
    "\n",
    "    \n",
    "    print(randomvar)\n",
    "\n",
    "    #since it's a tuple, you can iterate through it as well\n",
    "    for val in randomvar:\n",
    "        print(val)\n",
    "test3(1,2,3)"
   ]
  },
  {
   "cell_type": "markdown",
   "id": "f7c91282-74d0-4785-8743-0b364ca08a27",
   "metadata": {},
   "source": [
    "## **kwargs"
   ]
  },
  {
   "cell_type": "code",
   "execution_count": 3,
   "id": "db0e8f1a-ffde-42d5-bd34-c55d7e997275",
   "metadata": {},
   "outputs": [],
   "source": [
    "def test1(**kwargs):\n",
    "\n",
    "    print(kwargs[\"var1\"])\n",
    "    \n",
    "    print(kwargs[\"var2\"])\n"
   ]
  },
  {
   "cell_type": "code",
   "execution_count": 4,
   "id": "63e4e3c1-f241-410b-8c8c-840042c5d29d",
   "metadata": {},
   "outputs": [
    {
     "name": "stdout",
     "output_type": "stream",
     "text": [
      "ghk\n",
      "lmn\n"
     ]
    }
   ],
   "source": [
    "test1(var1 = \"ghk\", var2 = \"lmn\")"
   ]
  },
  {
   "cell_type": "markdown",
   "id": "4dd90c52-d4ff-437c-ab23-e6088a79de61",
   "metadata": {},
   "source": [
    "### adding ** infront unpacks this dictionary so that it is equivalent to calling test1(var1=\"abc\", var2=\"def\")."
   ]
  },
  {
   "cell_type": "code",
   "execution_count": 5,
   "id": "61881a9f-acdb-40ed-8742-b3bbdfedabba",
   "metadata": {},
   "outputs": [
    {
     "name": "stdout",
     "output_type": "stream",
     "text": [
      "abc\n",
      "def\n"
     ]
    }
   ],
   "source": [
    "test1(**dict(var1 = \"abc\", var2 = \"def\"))"
   ]
  },
  {
   "cell_type": "code",
   "execution_count": 6,
   "id": "69d8e35b-28e7-49f1-855c-da887e4429c2",
   "metadata": {},
   "outputs": [],
   "source": [
    "### likewise, you can change the variable name, essentially just keep the asterisk"
   ]
  },
  {
   "cell_type": "code",
   "execution_count": 7,
   "id": "3a7f9418-903c-4992-9eec-fc028849468a",
   "metadata": {},
   "outputs": [
    {
     "name": "stdout",
     "output_type": "stream",
     "text": [
      "abc\n",
      "def\n"
     ]
    }
   ],
   "source": [
    "def test4(**khj):\n",
    "\n",
    "    print(khj[\"var1\"])\n",
    "    \n",
    "    print(khj[\"var2\"])\n",
    "test4(**dict(var1 = \"abc\", var2 = \"def\"))"
   ]
  },
  {
   "cell_type": "code",
   "execution_count": null,
   "id": "fd81bfc2-3f7c-459a-b66c-26354e31026a",
   "metadata": {},
   "outputs": [],
   "source": []
  }
 ],
 "metadata": {
  "kernelspec": {
   "display_name": "Python 3 (ipykernel)",
   "language": "python",
   "name": "python3"
  },
  "language_info": {
   "codemirror_mode": {
    "name": "ipython",
    "version": 3
   },
   "file_extension": ".py",
   "mimetype": "text/x-python",
   "name": "python",
   "nbconvert_exporter": "python",
   "pygments_lexer": "ipython3",
   "version": "3.10.13"
  }
 },
 "nbformat": 4,
 "nbformat_minor": 5
}
