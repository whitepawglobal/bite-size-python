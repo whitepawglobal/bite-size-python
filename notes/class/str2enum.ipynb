{
 "cells": [
  {
   "cell_type": "code",
   "execution_count": 6,
   "id": "c5d357d2-2a8a-41c8-b78c-8a343e6ecdb0",
   "metadata": {
    "tags": []
   },
   "outputs": [
    {
     "data": {
      "text/plain": [
       "<DataType.VIDEO: 'video'>"
      ]
     },
     "execution_count": 6,
     "metadata": {},
     "output_type": "execute_result"
    }
   ],
   "source": [
    "from enum import Enum\n",
    "\n",
    "class DataType(str,Enum):\n",
    "    \"\"\"\n",
    "    Checking the data types\n",
    "    \"\"\"\n",
    "\n",
    "    VIDEO : str = \"video\"\n",
    "    IMAGE : str = \"image\"\n",
    "\n",
    "    def __dict__(self):\n",
    "    \n",
    "        return dict(statusname = self.name, statusvalue = self.value)\n",
    "    \n",
    "    \n",
    "value = \"VIDEO\" #value is the name , not the value\n",
    "DataType[value]"
   ]
  },
  {
   "cell_type": "code",
   "execution_count": 7,
   "id": "74bc136e-b972-4768-9357-c88c656a0f39",
   "metadata": {
    "tags": []
   },
   "outputs": [
    {
     "ename": "KeyError",
     "evalue": "'video'",
     "output_type": "error",
     "traceback": [
      "\u001b[0;31m---------------------------------------------------------------------------\u001b[0m",
      "\u001b[0;31mKeyError\u001b[0m                                  Traceback (most recent call last)",
      "Cell \u001b[0;32mIn[7], line 1\u001b[0m\n\u001b[0;32m----> 1\u001b[0m \u001b[43mDataType\u001b[49m\u001b[43m[\u001b[49m\u001b[38;5;124;43m\"\u001b[39;49m\u001b[38;5;124;43mvideo\u001b[39;49m\u001b[38;5;124;43m\"\u001b[39;49m\u001b[43m]\u001b[49m\n",
      "File \u001b[0;32m/opt/homebrew/Caskroom/miniforge/base/envs/fgdev/lib/python3.10/enum.py:440\u001b[0m, in \u001b[0;36mEnumMeta.__getitem__\u001b[0;34m(cls, name)\u001b[0m\n\u001b[1;32m    439\u001b[0m \u001b[38;5;28;01mdef\u001b[39;00m \u001b[38;5;21m__getitem__\u001b[39m(\u001b[38;5;28mcls\u001b[39m, name):\n\u001b[0;32m--> 440\u001b[0m     \u001b[38;5;28;01mreturn\u001b[39;00m \u001b[38;5;28;43mcls\u001b[39;49m\u001b[38;5;241;43m.\u001b[39;49m\u001b[43m_member_map_\u001b[49m\u001b[43m[\u001b[49m\u001b[43mname\u001b[49m\u001b[43m]\u001b[49m\n",
      "\u001b[0;31mKeyError\u001b[0m: 'video'"
     ]
    }
   ],
   "source": [
    "DataType[\"video\"]"
   ]
  },
  {
   "cell_type": "code",
   "execution_count": 11,
   "id": "9d1f659c-b30d-46b2-afe1-acd15070db3e",
   "metadata": {},
   "outputs": [
    {
     "data": {
      "text/plain": [
       "'VIDEO'"
      ]
     },
     "execution_count": 11,
     "metadata": {},
     "output_type": "execute_result"
    }
   ],
   "source": [
    "DataType.VIDEO.name"
   ]
  },
  {
   "cell_type": "code",
   "execution_count": null,
   "id": "042e2688-d3c4-4e53-a6ce-d52f82cb3a98",
   "metadata": {},
   "outputs": [],
   "source": []
  }
 ],
 "metadata": {
  "kernelspec": {
   "display_name": "Python 3 (ipykernel)",
   "language": "python",
   "name": "python3"
  },
  "language_info": {
   "codemirror_mode": {
    "name": "ipython",
    "version": 3
   },
   "file_extension": ".py",
   "mimetype": "text/x-python",
   "name": "python",
   "nbconvert_exporter": "python",
   "pygments_lexer": "ipython3",
   "version": "3.10.4"
  }
 },
 "nbformat": 4,
 "nbformat_minor": 5
}
