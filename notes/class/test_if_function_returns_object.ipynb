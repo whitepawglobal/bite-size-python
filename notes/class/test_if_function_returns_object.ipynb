{
 "cells": [
  {
   "cell_type": "code",
   "execution_count": 12,
   "id": "f242f9e5-81d0-4ea3-bc0d-f2c8f999fc0e",
   "metadata": {
    "tags": []
   },
   "outputs": [],
   "source": [
    "from typing import List\n",
    "\n",
    "def test1() -> List[int]:\n",
    "    \n",
    "    return [1,2,3]\n",
    "\n",
    "def test2() -> None:\n",
    "    #do nothing\n",
    "    pass"
   ]
  },
  {
   "cell_type": "code",
   "execution_count": 13,
   "id": "ba51d8e5-f42c-4ae7-8b25-0d25ed7d3c69",
   "metadata": {
    "tags": []
   },
   "outputs": [],
   "source": [
    "if not test1():\n",
    "    \n",
    "    print(\"test1() return something\")"
   ]
  },
  {
   "cell_type": "code",
   "execution_count": 14,
   "id": "8980d064-959a-4676-a5d6-804baf0850d6",
   "metadata": {
    "tags": []
   },
   "outputs": [
    {
     "name": "stdout",
     "output_type": "stream",
     "text": [
      "test2() did not return anything\n"
     ]
    }
   ],
   "source": [
    "if not test2():\n",
    "    \n",
    "    print(\"test2() did not return anything\")"
   ]
  },
  {
   "cell_type": "code",
   "execution_count": null,
   "id": "d38748b5-4b72-4aec-b136-7b8811016415",
   "metadata": {},
   "outputs": [],
   "source": []
  }
 ],
 "metadata": {
  "kernelspec": {
   "display_name": "Python 3 (ipykernel)",
   "language": "python",
   "name": "python3"
  },
  "language_info": {
   "codemirror_mode": {
    "name": "ipython",
    "version": 3
   },
   "file_extension": ".py",
   "mimetype": "text/x-python",
   "name": "python",
   "nbconvert_exporter": "python",
   "pygments_lexer": "ipython3",
   "version": "3.9.16"
  }
 },
 "nbformat": 4,
 "nbformat_minor": 5
}
