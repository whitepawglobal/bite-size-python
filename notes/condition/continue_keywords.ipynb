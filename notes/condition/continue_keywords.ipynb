{
 "cells": [
  {
   "cell_type": "markdown",
   "id": "7c8011b6-7077-474c-bdd2-21a95398c52f",
   "metadata": {
    "tags": []
   },
   "source": [
    "### continue\n",
    "https://www.w3schools.com/python/ref_keyword_continue.asp"
   ]
  },
  {
   "cell_type": "code",
   "execution_count": 2,
   "id": "bd202517-3b1b-4f37-bd14-73668c1285c3",
   "metadata": {
    "tags": []
   },
   "outputs": [
    {
     "name": "stdout",
     "output_type": "stream",
     "text": [
      "1\n",
      "2\n",
      "3\n",
      "4\n",
      "6\n",
      "7\n",
      "8\n",
      "9\n"
     ]
    }
   ],
   "source": [
    "i = 0\n",
    "while i < 9:\n",
    "    i += 1\n",
    "    \n",
    "    if i == 5:\n",
    "        continue\n",
    "        \n",
    "    print(i)"
   ]
  },
  {
   "cell_type": "code",
   "execution_count": 3,
   "id": "3ff77fa8-eea1-4b26-9526-0c3576032ed8",
   "metadata": {},
   "outputs": [
    {
     "name": "stdout",
     "output_type": "stream",
     "text": [
      "0\n",
      "1\n",
      "2\n",
      "4\n",
      "5\n",
      "6\n",
      "7\n",
      "8\n"
     ]
    }
   ],
   "source": [
    "for i in range(9):\n",
    "    if i == 3:\n",
    "        continue\n",
    "    print(i)"
   ]
  },
  {
   "cell_type": "markdown",
   "id": "a4a46986-2cf9-4b4e-bb03-257c9d0acbd0",
   "metadata": {},
   "source": [
    "### when using keyword pass"
   ]
  },
  {
   "cell_type": "code",
   "execution_count": null,
   "id": "0352c290-d1f8-498d-babe-c344faf1ede1",
   "metadata": {
    "tags": []
   },
   "outputs": [],
   "source": [
    "for i in range(9):\n",
    "    if i == 3:\n",
    "        pass\n",
    "    print(i)"
   ]
  }
 ],
 "metadata": {
  "kernelspec": {
   "display_name": "Python 3 (ipykernel)",
   "language": "python",
   "name": "python3"
  },
  "language_info": {
   "codemirror_mode": {
    "name": "ipython",
    "version": 3
   },
   "file_extension": ".py",
   "mimetype": "text/x-python",
   "name": "python",
   "nbconvert_exporter": "python",
   "pygments_lexer": "ipython3",
   "version": "3.10.4"
  }
 },
 "nbformat": 4,
 "nbformat_minor": 5
}
