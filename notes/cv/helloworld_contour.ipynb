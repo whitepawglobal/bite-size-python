{
 "cells": [
  {
   "cell_type": "code",
   "execution_count": 3,
   "id": "2276088a-b068-42a0-9d4d-712d00fc033e",
   "metadata": {
    "tags": []
   },
   "outputs": [],
   "source": [
    "import numpy as np\n",
    "import matplotlib.pyplot as plt\n",
    "import cv2"
   ]
  },
  {
   "cell_type": "code",
   "execution_count": 10,
   "id": "50f12e65-0ec8-4e7a-90f6-ff8aaa525ba0",
   "metadata": {
    "tags": []
   },
   "outputs": [
    {
     "data": {
      "text/plain": [
       "array([[[-1, -1, -1, -1]]], dtype=int32)"
      ]
     },
     "execution_count": 10,
     "metadata": {},
     "output_type": "execute_result"
    }
   ],
   "source": [
    "a = np.zeros((100,100), np.uint8)\n",
    "a[10:20,30:40] = 1\n",
    "\n",
    "\"\"\"\n",
    "reference: \n",
    "- https://opencv-python.readthedocs.io/en/latest/doc/15.imageContours/imageContours.html#find-draw-contours\n",
    "- hierarchy: https://vovkos.github.io/doxyrest-showcase/opencv/sphinxdoc/page_tutorial_py_contours_hierarchy.html\n",
    "\n",
    "findContours\n",
    "\n",
    "input\n",
    "first param: image\n",
    "second: contour retrieval mode \n",
    "third: contour approcimation method \n",
    "\n",
    "output\n",
    "first: np.array \n",
    "    - list of all the contours in the image\n",
    "second: hierarchy\n",
    "\n",
    "input-second (this details contours rank for example contour in another contour)\n",
    "cv2.RETR_LIST: return all conoturs regardless\n",
    "cv2.RETR_TREE: return contours with order explicilty stated\n",
    "cv2.RETR_EXTERNAL: return only external contour\n",
    "cv2.RETR_CCOMP: Return order or hierarchy only until second level\n",
    "\n",
    "input-third:\n",
    "cv2.CHAIN_APPROX_NONE: store all boundary points\n",
    "cv2.CHAIN_APPROX_SIMPLE: remove all redundant points and compresses the contours (suitable for use case with single line and only needing the two endpoints on the end)\n",
    "\n",
    "\"\"\"\n",
    "contours, hierarchy = cv2.findContours(a, cv2.RETR_TREE, cv2.CHAIN_APPROX_SIMPLE)\n"
   ]
  },
  {
   "cell_type": "code",
   "execution_count": 15,
   "id": "82e8b0cf-5b9a-4710-ae6c-a5e4a8c7eabb",
   "metadata": {
    "tags": []
   },
   "outputs": [
    {
     "name": "stdout",
     "output_type": "stream",
     "text": [
      "<class 'numpy.ndarray'>\n"
     ]
    }
   ],
   "source": [
    "print(type(contours[0]))"
   ]
  },
  {
   "cell_type": "code",
   "execution_count": 7,
   "id": "7079168c-14da-4ef9-ab17-ee7ed69501ce",
   "metadata": {
    "tags": []
   },
   "outputs": [
    {
     "data": {
      "text/plain": [
       "<matplotlib.image.AxesImage at 0x136208c10>"
      ]
     },
     "execution_count": 7,
     "metadata": {},
     "output_type": "execute_result"
    },
    {
     "data": {
      "image/png": "[encoded data removed]",
      "text/plain": [
       "<Figure size 480x480 with 1 Axes>"
      ]
     },
     "metadata": {},
     "output_type": "display_data"
    }
   ],
   "source": [
    "cim = np.zeros_like(a)\n",
    "\n",
    "\"\"\"\n",
    "drawContour\n",
    "\n",
    "first-param: np.array\n",
    "    - image\n",
    "second-param: tuple[np.array]\n",
    "    contours\n",
    "third-param: int\n",
    "    - index of contour to draw\n",
    "    - negative means draw all\n",
    "fourth-param: color\n",
    "fifth: thickness of line\n",
    "\"\"\"\n",
    "\n",
    "cv2.drawContours(cim, contours, -1, 255, 1)\n",
    "plt.matshow(cim, cmap=plt.cm.gray)"
   ]
  },
  {
   "cell_type": "code",
   "execution_count": null,
   "id": "34e2334b-7d1b-4df4-be48-70c624f1fb96",
   "metadata": {},
   "outputs": [],
   "source": []
  }
 ],
 "metadata": {
  "kernelspec": {
   "display_name": "Python 3 (ipykernel)",
   "language": "python",
   "name": "python3"
  },
  "language_info": {
   "codemirror_mode": {
    "name": "ipython",
    "version": 3
   },
   "file_extension": ".py",
   "mimetype": "text/x-python",
   "name": "python",
   "nbconvert_exporter": "python",
   "pygments_lexer": "ipython3",
   "version": "3.9.16"
  }
 },
 "nbformat": 4,
 "nbformat_minor": 5
}
