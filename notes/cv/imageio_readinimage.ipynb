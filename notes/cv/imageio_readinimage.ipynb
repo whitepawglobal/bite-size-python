{
 "cells": [
  {
   "cell_type": "code",
   "execution_count": 5,
   "id": "7ac89ca0-3608-40dc-bd23-796341c70d27",
   "metadata": {
    "tags": []
   },
   "outputs": [
    {
     "name": "stdout",
     "output_type": "stream",
     "text": [
      "<class 'numpy.ndarray'>\n",
      "(183, 275, 3)\n"
     ]
    }
   ],
   "source": [
    "import imageio.v3 as iio\n",
    "\n",
    "image = \"cat.jpg\"\n",
    "\n",
    "im = iio.imread(image)\n",
    "\n",
    "print(type(im))\n",
    "print(im.shape)  # (300, 451, 3)"
   ]
  },
  {
   "cell_type": "code",
   "execution_count": null,
   "id": "f31b5872-809a-4156-bb6a-d105c6e5bada",
   "metadata": {},
   "outputs": [],
   "source": []
  }
 ],
 "metadata": {
  "kernelspec": {
   "display_name": "Python 3 (ipykernel)",
   "language": "python",
   "name": "python3"
  },
  "language_info": {
   "codemirror_mode": {
    "name": "ipython",
    "version": 3
   },
   "file_extension": ".py",
   "mimetype": "text/x-python",
   "name": "python",
   "nbconvert_exporter": "python",
   "pygments_lexer": "ipython3",
   "version": "3.10.4"
  }
 },
 "nbformat": 4,
 "nbformat_minor": 5
}
