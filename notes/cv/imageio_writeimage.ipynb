{
 "cells": [
  {
   "cell_type": "code",
   "execution_count": 6,
   "id": "4bc425ae-c69e-4ad4-a817-7535f79153a6",
   "metadata": {
    "tags": []
   },
   "outputs": [
    {
     "name": "stdout",
     "output_type": "stream",
     "text": [
      "<class 'numpy.ndarray'>\n",
      "(168, 299, 3)\n"
     ]
    }
   ],
   "source": [
    "import imageio.v3 as iio\n",
    "\n",
    "imagepath = \"sample/cat.jpg\"\n",
    "outimagepath = \"sample/cat_out.jpg\"\n",
    "\n",
    "image = iio.imread(imagepath)\n",
    "\n",
    "print(type(image))\n",
    "print(image.shape)  # (300, 451, 3)"
   ]
  },
  {
   "cell_type": "code",
   "execution_count": 8,
   "id": "3c9952d5-b592-46a2-8d43-a86844d81f12",
   "metadata": {
    "tags": []
   },
   "outputs": [],
   "source": [
    "subimage = image[50:167, 100: 298, :]\n",
    "\n",
    "iio.imwrite(outimagepath, subimage)"
   ]
  },
  {
   "cell_type": "code",
   "execution_count": null,
   "id": "ac0478ae-b8f2-4f04-b492-5c04d1e0f237",
   "metadata": {},
   "outputs": [],
   "source": []
  }
 ],
 "metadata": {
  "kernelspec": {
   "display_name": "Python 3 (ipykernel)",
   "language": "python",
   "name": "python3"
  },
  "language_info": {
   "codemirror_mode": {
    "name": "ipython",
    "version": 3
   },
   "file_extension": ".py",
   "mimetype": "text/x-python",
   "name": "python",
   "nbconvert_exporter": "python",
   "pygments_lexer": "ipython3",
   "version": "3.10.4"
  }
 },
 "nbformat": 4,
 "nbformat_minor": 5
}
