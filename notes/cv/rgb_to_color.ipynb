{
 "cells": [
  {
   "cell_type": "code",
   "execution_count": 1,
   "id": "97cec572-7bb7-47ac-8ad4-42eb63de59d8",
   "metadata": {},
   "outputs": [
    {
     "name": "stdout",
     "output_type": "stream",
     "text": [
      "Requirement already satisfied: webcolors in /Users/chiawei/miniconda3/envs/dev/lib/python3.10/site-packages (24.11.1)\n"
     ]
    }
   ],
   "source": [
    "!pip install webcolors matplotlib"
   ]
  },
  {
   "cell_type": "code",
   "execution_count": 49,
   "id": "e9e3d081-f875-4926-bf78-3cbfc26c9cf5",
   "metadata": {},
   "outputs": [],
   "source": [
    "rgb = (128, 3, 3)"
   ]
  },
  {
   "cell_type": "markdown",
   "id": "56ed29e6-233d-475c-b11e-7addb9d9519f",
   "metadata": {},
   "source": [
    "## RGB to color name"
   ]
  },
  {
   "cell_type": "code",
   "execution_count": 50,
   "id": "4097054b-3774-4022-8341-4b3f6f3f8f49",
   "metadata": {},
   "outputs": [
    {
     "name": "stdout",
     "output_type": "stream",
     "text": [
      "The color is closest to: purpley\n"
     ]
    }
   ],
   "source": [
    "import webcolors\n",
    "import matplotlib.colors as mcolors\n",
    "\n",
    "# Load XKCD color names\n",
    "xkcd_colors = mcolors.XKCD_COLORS  # dict of { 'xkcd:colorname': '#hex' }\n",
    "\n",
    "def closest_xkcd_color_name(rgb_tuple):\n",
    "    min_distance = float('inf')\n",
    "    closest_name = None\n",
    "    for name, hex_value in xkcd_colors.items():\n",
    "        r_c, g_c, b_c = webcolors.hex_to_rgb(hex_value)\n",
    "                    (g_c - rgb_tuple[1]) ** 2 +\n",
    "                    (b_c - rgb_tuple[2]) ** 2)\n",
    "        if distance < min_distance:\n",
    "            min_distance = distance\n",
    "            closest_name = name\n",
    "    return closest_name.replace(\"xkcd:\", \"\")\n",
    "\n",
    "# Example\n",
    "rgb_input = (123, 104, 238)\n",
    "color_name = closest_xkcd_color_name(rgb_input)\n",
    "print(f\"The color is closest to: {color_name}\")"
   ]
  },
  {
   "cell_type": "markdown",
   "id": "9c756037-f9a5-489c-a7a1-72e4f25ff6be",
   "metadata": {},
   "source": [
    "## Human Friendly color name"
   ]
  },
  {
   "cell_type": "code",
   "execution_count": 54,
   "id": "b32e9b3e-bfcd-45aa-b39a-dc56bc417d2e",
   "metadata": {},
   "outputs": [
    {
     "name": "stdout",
     "output_type": "stream",
     "text": [
      "maroon\n"
     ]
    }
   ],
   "source": [
    "import webcolors\n",
    "\n",
    "def closest_color_name(requested_color):\n",
    "    min_distance = float('inf')\n",
    "    closest_name = None\n",
    "\n",
    "    for color_name in webcolors.names(spec=\"css3\"):\n",
    "        hex_value = webcolors.name_to_hex(color_name)\n",
    "        r_c, g_c, b_c = webcolors.hex_to_rgb(hex_value)\n",
    "        distance = ((r_c - requested_color[0]) ** 2 +\n",
    "                    (g_c - requested_color[1]) ** 2 +\n",
    "                    (b_c - requested_color[2]) ** 2)\n",
    "        if distance < min_distance:\n",
    "            min_distance = distance\n",
    "            closest_name = color_name\n",
    "\n",
    "    return closest_name\n",
    "\n",
    "def get_color_name(rgb_tuple):\n",
    "    try:\n",
    "        return webcolors.rgb_to_name(rgb_tuple)\n",
    "    except ValueError:\n",
    "        return closest_color_name(rgb_tuple)\n",
    "# Example\n",
    "\n",
    "print(get_color_name(rgb))  # Output: mediumslateblue"
   ]
  },
  {
   "cell_type": "code",
   "execution_count": null,
   "id": "76bfb844-ee85-489d-bc1a-da37bea738b7",
   "metadata": {},
   "outputs": [],
   "source": []
  }
 ],
 "metadata": {
  "kernelspec": {
   "display_name": "Python 3 (ipykernel)",
   "language": "python",
   "name": "python3"
  },
  "language_info": {
   "codemirror_mode": {
    "name": "ipython",
    "version": 3
   },
   "file_extension": ".py",
   "mimetype": "text/x-python",
   "name": "python",
   "nbconvert_exporter": "python",
   "pygments_lexer": "ipython3",
   "version": "3.10.13"
  }
 },
 "nbformat": 4,
 "nbformat_minor": 5
}
