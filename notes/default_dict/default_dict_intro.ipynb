{
 "cells": [
  {
   "cell_type": "code",
   "execution_count": 4,
   "id": "2bd71346-9029-474a-bbc1-225a12ef309f",
   "metadata": {
    "tags": []
   },
   "outputs": [
    {
     "data": {
      "text/plain": [
       "defaultdict(list, {'yellow': [1, 3], 'blue': [2, 4], 'red': [1]})"
      ]
     },
     "execution_count": 4,
     "metadata": {},
     "output_type": "execute_result"
    }
   ],
   "source": [
    "import collections\n",
    "\n",
    "keyvalue = collections.defaultdict(list)\n",
    "\n",
    "s = [('yellow', 1), ('blue', 2), ('yellow', 3), ('blue', 4), ('red', 1)]\n",
    "\n",
    "for k, v in s:\n",
    "    keyvalue[k].append(v)\n",
    "    \n",
    "keyvalue"
   ]
  },
  {
   "cell_type": "markdown",
   "id": "9bac7de3-31cc-443a-b6ff-25f35850c2eb",
   "metadata": {},
   "source": [
    "### one of the perks: \n",
    "inferrring a key not exist will not create error, instead empty value filled the key"
   ]
  },
  {
   "cell_type": "code",
   "execution_count": 5,
   "id": "130f4f9c-6563-4a32-970a-c9fc0a24de71",
   "metadata": {
    "tags": []
   },
   "outputs": [
    {
     "name": "stdout",
     "output_type": "stream",
     "text": [
      "black not found\n"
     ]
    },
    {
     "data": {
      "text/plain": [
       "defaultdict(list, {'yellow': [1, 3], 'blue': [2, 4], 'red': [1], 'black': []})"
      ]
     },
     "execution_count": 5,
     "metadata": {},
     "output_type": "execute_result"
    }
   ],
   "source": [
    "key = \"black\"\n",
    "if not keyvalue[key]:\n",
    "    \n",
    "    print(f\"{key} not found\")\n",
    "    \n",
    "keyvalue"
   ]
  },
  {
   "cell_type": "code",
   "execution_count": 6,
   "id": "0d061847-4f99-4553-a649-c38d43fac5ae",
   "metadata": {
    "tags": []
   },
   "outputs": [
    {
     "name": "stdout",
     "output_type": "stream",
     "text": [
      "keyvalue2 empty\n"
     ]
    },
    {
     "data": {
      "text/plain": [
       "defaultdict(list, {20: []})"
      ]
     },
     "execution_count": 6,
     "metadata": {},
     "output_type": "execute_result"
    }
   ],
   "source": [
    "import collections\n",
    "\n",
    "keyvalue2 = collections.defaultdict(list)\n",
    "\n",
    "if not keyvalue2:\n",
    "    \n",
    "    print(\"keyvalue2 empty\")\n",
    "    \n",
    "keyvalue2[20]\n",
    "\n",
    "keyvalue2"
   ]
  },
  {
   "cell_type": "markdown",
   "id": "93340233-94c0-48e8-b134-851b5109c694",
   "metadata": {},
   "source": [
    "## iteration"
   ]
  },
  {
   "cell_type": "code",
   "execution_count": 8,
   "id": "1eaf180c-6078-4df9-950f-19a42ea47d07",
   "metadata": {
    "tags": []
   },
   "outputs": [
    {
     "name": "stdout",
     "output_type": "stream",
     "text": [
      "yellow: [1, 3]\n",
      "blue: [2, 4]\n",
      "red: [1]\n",
      "black: []\n"
     ]
    }
   ],
   "source": [
    "for k, v in keyvalue.items():\n",
    "    \n",
    "    print(f\"{k}: {v}\")\n"
   ]
  },
  {
   "cell_type": "code",
   "execution_count": null,
   "id": "d4da9b4c-df92-43f3-93ac-584f9879b5f4",
   "metadata": {},
   "outputs": [],
   "source": []
  }
 ],
 "metadata": {
  "kernelspec": {
   "display_name": "Python 3 (ipykernel)",
   "language": "python",
   "name": "python3"
  },
  "language_info": {
   "codemirror_mode": {
    "name": "ipython",
    "version": 3
   },
   "file_extension": ".py",
   "mimetype": "text/x-python",
   "name": "python",
   "nbconvert_exporter": "python",
   "pygments_lexer": "ipython3",
   "version": "3.10.4"
  }
 },
 "nbformat": 4,
 "nbformat_minor": 5
}
