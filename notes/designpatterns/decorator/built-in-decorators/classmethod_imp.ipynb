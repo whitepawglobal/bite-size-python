{
 "cells": [
  {
   "cell_type": "markdown",
   "id": "f298bc73-c347-4336-8ae2-2a08ac4da4e3",
   "metadata": {},
   "source": [
    "## when to use @classmethod\n",
    "- Use case 1: Factory Methods: When you want to provide an alternative way to create an instance of the class.\n",
    "    -  as written below\n",
    "- Use case 2: Accessing/Modifying Class State\n",
    "- Use case 3: Maintaining State Across Instances: \n",
    "\n",
    "## key to use @classmethod\n",
    "1. define constructor\n",
    "2. call @classmethod with the first parameter as cls\n",
    "3. `cls` will be used to call the constructor\n",
    "4. return the output of clas"
   ]
  },
  {
   "cell_type": "markdown",
   "id": "0f8bd167-843d-4a75-b769-180ce850a110",
   "metadata": {},
   "source": [
    "### use case 1: factory method, alternative constructor"
   ]
  },
  {
   "cell_type": "code",
   "execution_count": 1,
   "id": "efbdcd00-25e1-49cb-a084-d2f9bce61999",
   "metadata": {},
   "outputs": [
    {
     "name": "stdout",
     "output_type": "stream",
     "text": [
      "john\n",
      "doe\n"
     ]
    }
   ],
   "source": [
    "class StudentFactory:\n",
    "\n",
    "    def __init__(self, first_name : str, last_name: str):\n",
    "\n",
    "        self.first_name = first_name\n",
    "        self.last_name = last_name\n",
    "\n",
    "    @classmethod\n",
    "    def from_full_name(cls, full_name : str):\n",
    "\n",
    "        first_name, last_name = full_name.split(\" \")\n",
    "        student = cls(first_name, last_name)\n",
    "        return student\n",
    "\n",
    "    @classmethod\n",
    "    def from_json(cls, json_file : str):\n",
    "\n",
    "        raise NotImplementedError(\"Implement this\")\n",
    "\n",
    "    @classmethod\n",
    "    def from_csv(cls, csv_file : str):\n",
    "\n",
    "        raise NotImplementedError(\"Implement this\")\n",
    "        \n",
    "john = StudentFactory.from_full_name(\"john doe\")\n",
    "\n",
    "print(john.first_name)\n",
    "print(john.last_name)"
   ]
  },
  {
   "cell_type": "markdown",
   "id": "b831e598-14ce-45ea-bb8d-5af80ee2dd1d",
   "metadata": {},
   "source": [
    "## use case 2: Accessing/Modifying Class State"
   ]
  },
  {
   "cell_type": "code",
   "execution_count": 2,
   "id": "862d7a91-9785-4928-a3e1-d30dacb75de8",
   "metadata": {},
   "outputs": [
    {
     "name": "stdout",
     "output_type": "stream",
     "text": [
      "1\n",
      "2\n",
      "2\n"
     ]
    }
   ],
   "source": [
    "class ClassLevel:\n",
    "\n",
    "    count : int = 0\n",
    "\n",
    "    def __init__(self):\n",
    "\n",
    "        ClassLevel.count += 1\n",
    "\n",
    "    @classmethod\n",
    "    def get_count(cls):\n",
    "\n",
    "        return cls.count\n",
    "\n",
    "cls1 = ClassLevel()\n",
    "\n",
    "\n",
    "print(cls1.get_count())\n",
    "\n",
    "\n",
    "\n",
    "cls2 = ClassLevel()\n",
    "\n",
    "print(cls1.get_count())\n",
    "print(cls2.get_count())"
   ]
  },
  {
   "cell_type": "markdown",
   "id": "4bd707db-5e2d-418b-9e85-0e30df8ee754",
   "metadata": {},
   "source": [
    "## Use case 3: Maintaining State Across Instances: \n",
    "\n",
    "When you need to maintain a shared state across instances but encapsulate the logic within methods that operate on this state."
   ]
  },
  {
   "cell_type": "code",
   "execution_count": 3,
   "id": "545496cb-9a9a-4dae-8320-d6d63f9831d5",
   "metadata": {},
   "outputs": [
    {
     "name": "stdout",
     "output_type": "stream",
     "text": [
      "True\n"
     ]
    }
   ],
   "source": [
    "class Configuration:\n",
    "    _config = dict()\n",
    "\n",
    "    @classmethod\n",
    "    def set_config(cls, key, value):\n",
    "        cls._config[key] = value\n",
    "\n",
    "    @classmethod\n",
    "    def get_config(cls, key):\n",
    "        return cls._config.get(key)\n",
    "\n",
    "Configuration.set_config('debug', True)\n",
    "print(Configuration.get_config('debug'))  # Output: True\n"
   ]
  },
  {
   "cell_type": "code",
   "execution_count": null,
   "id": "62f0d421-ebe2-438a-a146-a05d03b4c8b1",
   "metadata": {},
   "outputs": [],
   "source": []
  },
  {
   "cell_type": "code",
   "execution_count": null,
   "id": "6c8d1b09-defc-40c2-9197-deefe10f31f9",
   "metadata": {},
   "outputs": [],
   "source": []
  }
 ],
 "metadata": {
  "kernelspec": {
   "display_name": "Python 3 (ipykernel)",
   "language": "python",
   "name": "python3"
  },
  "language_info": {
   "codemirror_mode": {
    "name": "ipython",
    "version": 3
   },
   "file_extension": ".py",
   "mimetype": "text/x-python",
   "name": "python",
   "nbconvert_exporter": "python",
   "pygments_lexer": "ipython3",
   "version": "3.10.13"
  }
 },
 "nbformat": 4,
 "nbformat_minor": 5
}
