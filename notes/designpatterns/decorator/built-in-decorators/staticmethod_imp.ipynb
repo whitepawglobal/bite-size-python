{
 "cells": [
  {
   "cell_type": "markdown",
   "id": "4cf0ebee-28be-4c0f-8055-21c624b0bc21",
   "metadata": {},
   "source": [
    "## when to use @staticmethod\n",
    "- Use case 1: utility function\n",
    "- Use case 2: Grouping Functions with a Class:\n",
    "    - When you want to logically group functions that share some conceptual relation to the class but don't need to access or modify the state of the class or its instances.\n",
    "## note\n",
    "- @staticmethod no pass in function of the class"
   ]
  },
  {
   "cell_type": "code",
   "execution_count": 1,
   "id": "ea2b755e-7fcd-4226-a587-5c102647ee1a",
   "metadata": {},
   "outputs": [],
   "source": [
    "## use case 1: utility function"
   ]
  },
  {
   "cell_type": "code",
   "execution_count": 2,
   "id": "705afc5e-05fe-4692-aaf1-a0143d0cef8f",
   "metadata": {},
   "outputs": [
    {
     "name": "stdout",
     "output_type": "stream",
     "text": [
      "True\n",
      "False\n",
      "<__main__.Student object at 0x00000256ED9E9840>\n"
     ]
    }
   ],
   "source": [
    "class Student:\n",
    "\n",
    "    @staticmethod\n",
    "    def is_full_name(name : str):\n",
    "\n",
    "        namesplit = name.split(\" \")\n",
    "\n",
    "        return len(namesplit) > 1\n",
    "\n",
    "if __name__ == \"__main__\":\n",
    "\n",
    "    print(Student.is_full_name(\"John Smith\"))\n",
    "    print(Student.is_full_name(\"John\"))\n",
    "\n",
    "    student = Student()\n",
    "\n",
    "    print(student)"
   ]
  },
  {
   "cell_type": "code",
   "execution_count": null,
   "id": "e0f0c6ce-31e4-4be2-9083-bdb024196d42",
   "metadata": {},
   "outputs": [],
   "source": []
  }
 ],
 "metadata": {
  "kernelspec": {
   "display_name": "Python 3 (ipykernel)",
   "language": "python",
   "name": "python3"
  },
  "language_info": {
   "codemirror_mode": {
    "name": "ipython",
    "version": 3
   },
   "file_extension": ".py",
   "mimetype": "text/x-python",
   "name": "python",
   "nbconvert_exporter": "python",
   "pygments_lexer": "ipython3",
   "version": "3.10.13"
  }
 },
 "nbformat": 4,
 "nbformat_minor": 5
}
