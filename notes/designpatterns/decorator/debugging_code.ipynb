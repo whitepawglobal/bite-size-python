{
 "cells": [
  {
   "cell_type": "code",
   "execution_count": 2,
   "id": "155f79cd-950e-487b-b0a1-aededeef4b59",
   "metadata": {},
   "outputs": [
    {
     "name": "stdout",
     "output_type": "stream",
     "text": [
      "Length of array: 5\n",
      "Found minimum value: 0\n",
      "Found maximum value: 0\n",
      "-------------------\n",
      "min_val: 0\n",
      "max_val: 0\n"
     ]
    }
   ],
   "source": [
    "import functools\n",
    "import time\n",
    "\n",
    "def debug(func):\n",
    "\n",
    "    @functools.wraps(func)\n",
    "    def wrapper(*args, **kwargs):\n",
    "\n",
    "        print(f\"Length of array: {len(args[0])}\")\n",
    "        print(f\"Found minimum value: {min(args[0])}\")\n",
    "        print(f\"Found maximum value: {max(args[0])}\")\n",
    "        value = func(*args, **kwargs)\n",
    "        return value\n",
    "\n",
    "    return wrapper\n",
    "\n",
    "import random\n",
    "\n",
    "@debug\n",
    "def get_min_max(array : list[int]) -> (int, int):\n",
    "    \n",
    "    \n",
    "    return (min(array), max(array))\n",
    "                                      \n",
    "                                      \n",
    "min_val, max_val = get_min_max([0] * 5)\n",
    "\n",
    "print(\"-------------------\")\n",
    "print(f\"min_val: {min_val}\")\n",
    "print(f\"max_val: {max_val}\")"
   ]
  },
  {
   "cell_type": "code",
   "execution_count": null,
   "id": "f97f5dd4-b9ae-49f3-a733-1b46b7617893",
   "metadata": {},
   "outputs": [],
   "source": []
  }
 ],
 "metadata": {
  "kernelspec": {
   "display_name": "Python 3 (ipykernel)",
   "language": "python",
   "name": "python3"
  },
  "language_info": {
   "codemirror_mode": {
    "name": "ipython",
    "version": 3
   },
   "file_extension": ".py",
   "mimetype": "text/x-python",
   "name": "python",
   "nbconvert_exporter": "python",
   "pygments_lexer": "ipython3",
   "version": "3.10.4"
  }
 },
 "nbformat": 4,
 "nbformat_minor": 5
}
