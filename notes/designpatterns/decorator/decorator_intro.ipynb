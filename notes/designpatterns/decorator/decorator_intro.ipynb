{
 "cells": [
  {
   "cell_type": "markdown",
   "id": "3b08882b-0169-4a4c-9155-d22d93d000ec",
   "metadata": {
    "tags": []
   },
   "source": [
    "### Definition\n",
    "A decorator is a function that takes another function \n",
    "and extends the behavior of the latter function without explicitly modifying it. \n",
    "\n",
    "### Notes\n",
    "- Function are just like any object in python\n",
    "- can be passed as argumengt or return (to be called later)\n",
    "\n",
    "### References\n",
    "- https://realpython.com/primer-on-python-decorators/"
   ]
  },
  {
   "cell_type": "markdown",
   "id": "bfac746c-3371-43d0-8ae7-851e5999de33",
   "metadata": {},
   "source": [
    "### Pass as function"
   ]
  },
  {
   "cell_type": "code",
   "execution_count": null,
   "id": "5264e7ba-7595-43ed-b89e-b48515eaa764",
   "metadata": {
    "tags": []
   },
   "outputs": [],
   "source": [
    "def say_hello(name):\n",
    "    return f\"Hello {name}\"\n",
    "\n",
    "def be_awesome(name):\n",
    "    return f\"Yo {name}, together we're the awesomest!\"\n",
    "\n",
    "def greet_bob(greeter_func):\n",
    "    return greeter_func(\"Bob\")"
   ]
  },
  {
   "cell_type": "code",
   "execution_count": null,
   "id": "e419ea6f-1e73-4767-8a4f-bf2deda771cc",
   "metadata": {
    "tags": []
   },
   "outputs": [],
   "source": [
    "greet_bob(say_hello)"
   ]
  },
  {
   "cell_type": "code",
   "execution_count": null,
   "id": "b338cf12-4944-4dc4-b572-74fbfda2beeb",
   "metadata": {
    "tags": []
   },
   "outputs": [],
   "source": [
    "greet_bob(be_awesome)"
   ]
  },
  {
   "cell_type": "markdown",
   "id": "0bc16f22-e212-452b-b125-c5327409e3ef",
   "metadata": {},
   "source": [
    "### Argument return as function\n",
    "\n",
    "- got a reference to each function that you could call in the future."
   ]
  },
  {
   "cell_type": "code",
   "execution_count": null,
   "id": "84780e67-a56a-4cac-b8e0-e06d97ccd150",
   "metadata": {
    "tags": []
   },
   "outputs": [],
   "source": [
    "def greet_somebody():\n",
    "    \n",
    "    return say_hello\n",
    "\n",
    "func1 = greet_somebody()\n",
    "\n",
    "func1(\"john\")"
   ]
  },
  {
   "cell_type": "markdown",
   "id": "bc9234da-fd7a-4c48-9bc5-5a545c2d5aaa",
   "metadata": {},
   "source": [
    "## hello decorator\n",
    "\n",
    "- return the inner function (the wrapper)\n",
    "- **Put simply, a decorator wraps a function, modifying its behavior.**"
   ]
  },
  {
   "cell_type": "code",
   "execution_count": null,
   "id": "2ef469bc-7973-4075-95d5-9bc9510a7140",
   "metadata": {
    "tags": []
   },
   "outputs": [],
   "source": [
    "def decorator(func):\n",
    "    \n",
    "    def wrapper():\n",
    "        print(\"Something is happening before the function is called.\")\n",
    "        func()\n",
    "        print(\"Something is happening after the function is called.\")\n",
    "        \n",
    "    return wrapper\n",
    "\n",
    "def say_whee():\n",
    "    print(\"Whee!\")\n",
    "\n",
    "say_whee_new = decorator(say_whee)"
   ]
  },
  {
   "cell_type": "code",
   "execution_count": null,
   "id": "3e55af75-0607-46fb-9475-d741d701f655",
   "metadata": {
    "tags": []
   },
   "outputs": [],
   "source": [
    "from datetime import datetime\n",
    "\n",
    "def not_during_the_night(func):\n",
    "    def wrapper():\n",
    "        if 7 <= datetime.now().hour < 22:\n",
    "            func()\n",
    "        else:\n",
    "            pass  # Hush, the neighbors are asleep\n",
    "    return wrapper\n",
    "\n",
    "def say_whee():\n",
    "    print(\"Whee!\")\n",
    "\n",
    "say_whee = not_during_the_night(say_whee)"
   ]
  },
  {
   "cell_type": "markdown",
   "id": "73a54615-6187-487c-ba44-c360449c77d2",
   "metadata": {},
   "source": [
    "## write it with @\n",
    "- @decorator is just a shorter way of saying say_whee = decorator(say_whee)\n",
    "- You can name your inner function whatever you want, and a generic name like wrapper() is usually okay. \n",
    "- tldr: `@functools.wraps(func)` is tho keep the name and documentation"
   ]
  },
  {
   "cell_type": "code",
   "execution_count": null,
   "id": "633f6681-b51a-47e3-8eed-b6fb00498098",
   "metadata": {
    "tags": []
   },
   "outputs": [],
   "source": [
    "def decorator(func):\n",
    "    \n",
    "    def wrapper():\n",
    "        print(\"Something is happening before the function is called.\")\n",
    "        func()\n",
    "        print(\"Something is happening after the function is called.\")\n",
    "        \n",
    "    return wrapper\n",
    "\n",
    "@decorator\n",
    "def say_whee():\n",
    "    print(\"Whee!\")\n",
    "    \n",
    "say_whee()"
   ]
  },
  {
   "cell_type": "markdown",
   "id": "106508be-8ddb-4441-a019-d4ea83db4829",
   "metadata": {},
   "source": [
    "## create a module where you store your decorators and that you can use in many other functions."
   ]
  },
  {
   "cell_type": "code",
   "execution_count": null,
   "id": "2551bfbd-ea82-449a-9aea-a00681b213e5",
   "metadata": {
    "tags": []
   },
   "outputs": [],
   "source": [
    "from decorators import do_twice\n",
    "\n",
    "@do_twice\n",
    "def say_whee():\n",
    "    print(\"Whee!\")\n",
    "    \n",
    "say_whee()"
   ]
  },
  {
   "cell_type": "markdown",
   "id": "ca01bedb-e0ed-4c3a-b013-a6c6b03bc527",
   "metadata": {},
   "source": [
    "## for it to accept argument\n",
    "\n",
    "add `*args, **kwargs`"
   ]
  },
  {
   "cell_type": "code",
   "execution_count": null,
   "id": "79e0dade-5fc6-4676-8411-b288a5ffdb76",
   "metadata": {
    "tags": []
   },
   "outputs": [],
   "source": [
    "from decorators import do_twice_with_arg\n",
    "\n",
    "@do_twice_with_arg\n",
    "def say_random(words : str):\n",
    "    print(words)\n",
    "    \n",
    "say_random(\"hello!\")\n",
    "\n"
   ]
  },
  {
   "cell_type": "markdown",
   "id": "1781acc4-0ef3-4cbc-9032-adb1528e1499",
   "metadata": {},
   "source": [
    "## Returning Values From Decorated Functions\n",
    "- depends on the decorator function"
   ]
  },
  {
   "cell_type": "code",
   "execution_count": 2,
   "id": "c976467a-f67f-4721-8d16-7a5e18e04cfe",
   "metadata": {
    "tags": []
   },
   "outputs": [
    {
     "name": "stdout",
     "output_type": "stream",
     "text": [
      "hi\n",
      "hi\n"
     ]
    },
    {
     "data": {
      "text/plain": [
       "'TESTING 123'"
      ]
     },
     "execution_count": 2,
     "metadata": {},
     "output_type": "execute_result"
    }
   ],
   "source": [
    "from decorators import do_with_return\n",
    "\n",
    "@do_with_return\n",
    "def say_random(words : str):\n",
    "    print(words)\n",
    "    \n",
    "returned_value = say_random(\"hi\")\n",
    "\n",
    "returned_value"
   ]
  },
  {
   "cell_type": "code",
   "execution_count": null,
   "id": "aac75ea6-6bbb-4f69-a95c-319966949d5f",
   "metadata": {},
   "outputs": [],
   "source": []
  }
 ],
 "metadata": {
  "kernelspec": {
   "display_name": "Python 3 (ipykernel)",
   "language": "python",
   "name": "python3"
  },
  "language_info": {
   "codemirror_mode": {
    "name": "ipython",
    "version": 3
   },
   "file_extension": ".py",
   "mimetype": "text/x-python",
   "name": "python",
   "nbconvert_exporter": "python",
   "pygments_lexer": "ipython3",
   "version": "3.10.4"
  }
 },
 "nbformat": 4,
 "nbformat_minor": 5
}
