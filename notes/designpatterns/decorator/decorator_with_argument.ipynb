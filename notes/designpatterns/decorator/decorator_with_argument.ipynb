{
 "cells": [
  {
   "cell_type": "code",
   "execution_count": 5,
   "id": "3410e285-2b51-47f5-8d33-a8260ec809e3",
   "metadata": {
    "tags": []
   },
   "outputs": [
    {
     "name": "stdout",
     "output_type": "stream",
     "text": [
      "Hello World\n",
      "Hello World\n",
      "Hello World\n",
      "Hello World\n",
      "Hello World\n"
     ]
    }
   ],
   "source": [
    "import functools\n",
    "import time\n",
    "\n",
    "def repeat(num_times : int):\n",
    "    \n",
    "    def decorator_repeat(func):\n",
    "\n",
    "        @functools.wraps(func)\n",
    "        def wrapper(*args, **kwargs):\n",
    "\n",
    "            for i in range(num_times):\n",
    "                value = func(*args, **kwargs)\n",
    "                \n",
    "            return value\n",
    "\n",
    "        return wrapper\n",
    "\n",
    "    \n",
    "    return decorator_repeat\n",
    "\n",
    "@repeat(5)\n",
    "def print_random_text(text : str):\n",
    "    \n",
    "    print(text)\n",
    "    \n",
    "    \n",
    "print_random_text(\"Hello World\")"
   ]
  },
  {
   "cell_type": "code",
   "execution_count": 8,
   "id": "a0826358-3d50-47f0-ba6a-c3ac791a859f",
   "metadata": {
    "tags": []
   },
   "outputs": [
    {
     "name": "stdout",
     "output_type": "stream",
     "text": [
      "Jane Doe\n",
      "Jane Doe\n",
      "Jane Doe\n",
      "Jane Doe\n",
      "Jane Doe\n",
      "Jane Doe\n",
      "Jane Doe\n",
      "Jane Doe\n",
      "Jane Doe\n",
      "Jane Doe\n"
     ]
    }
   ],
   "source": [
    "@repeat(10)\n",
    "def print_random_text_again(text : str):\n",
    "    \n",
    "    print(text)\n",
    "    \n",
    "print_random_text_again(\"Jane Doe\")"
   ]
  },
  {
   "cell_type": "code",
   "execution_count": null,
   "id": "e541d696-eccc-4210-98a0-3cf1ce673408",
   "metadata": {},
   "outputs": [],
   "source": []
  }
 ],
 "metadata": {
  "kernelspec": {
   "display_name": "Python 3 (ipykernel)",
   "language": "python",
   "name": "python3"
  },
  "language_info": {
   "codemirror_mode": {
    "name": "ipython",
    "version": 3
   },
   "file_extension": ".py",
   "mimetype": "text/x-python",
   "name": "python",
   "nbconvert_exporter": "python",
   "pygments_lexer": "ipython3",
   "version": "3.10.4"
  }
 },
 "nbformat": 4,
 "nbformat_minor": 5
}
