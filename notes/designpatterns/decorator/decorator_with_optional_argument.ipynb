{
 "cells": [
  {
   "cell_type": "markdown",
   "id": "6f53da0f-9e55-4158-9769-868652663970",
   "metadata": {},
   "source": [
    "## tldr just use the format \n",
    "\n",
    "```\n",
    "(_func=None, *, num_times=1):\n",
    "    \n",
    "...\n",
    "\n",
    "if _func is None:\n",
    "        return decorator_repeat\n",
    "    else:\n",
    "        return decorator_repeat(_func)\n",
    "```\n",
    "\n",
    "add more key-value arguments as per necessary"
   ]
  },
  {
   "cell_type": "code",
   "execution_count": 3,
   "id": "3410e285-2b51-47f5-8d33-a8260ec809e3",
   "metadata": {
    "tags": []
   },
   "outputs": [
    {
     "name": "stdout",
     "output_type": "stream",
     "text": [
      "Hello World\n",
      "Hello World\n"
     ]
    }
   ],
   "source": [
    "import functools\n",
    "import time\n",
    "\n",
    "\n",
    "def repeat(_func=None, *, num_times=2):\n",
    "    \n",
    "    def decorator_repeat(func):\n",
    "\n",
    "        @functools.wraps(func)\n",
    "        def wrapper(*args, **kwargs):\n",
    "\n",
    "            for i in range(num_times):\n",
    "                value = func(*args, **kwargs)\n",
    "                \n",
    "            return value\n",
    "\n",
    "        return wrapper\n",
    "\n",
    "    if _func is None:\n",
    "        return decorator_repeat\n",
    "    else:\n",
    "        return decorator_repeat(_func)\n",
    "    \n",
    "    return decorator_repeat\n",
    "\n",
    "@repeat()\n",
    "def print_random_text(text : str):\n",
    "    \n",
    "    print(text)\n",
    "    \n",
    "    \n",
    "print_random_text(\"Hello World\")"
   ]
  },
  {
   "cell_type": "code",
   "execution_count": 4,
   "id": "a0826358-3d50-47f0-ba6a-c3ac791a859f",
   "metadata": {
    "tags": []
   },
   "outputs": [
    {
     "name": "stdout",
     "output_type": "stream",
     "text": [
      "Jane Doe\n",
      "Jane Doe\n",
      "Jane Doe\n",
      "Jane Doe\n",
      "Jane Doe\n"
     ]
    }
   ],
   "source": [
    "@repeat(num_times = 5)\n",
    "def print_random_text_again(text : str):\n",
    "    \n",
    "    print(text)\n",
    "    \n",
    "print_random_text_again(\"Jane Doe\")"
   ]
  },
  {
   "cell_type": "markdown",
   "id": "f6bc76ae-9496-42e0-b4f9-b5eef06a340c",
   "metadata": {},
   "source": [
    "## test with more arguments"
   ]
  },
  {
   "cell_type": "code",
   "execution_count": 11,
   "id": "042811b9-26c6-4ec4-8772-61becdaee35d",
   "metadata": {
    "tags": []
   },
   "outputs": [
    {
     "name": "stdout",
     "output_type": "stream",
     "text": [
      "---------Default Prefix--------\n",
      "Hello World\n",
      "Hello World\n",
      "Hello World\n",
      "Hello World\n",
      "Hello World\n"
     ]
    }
   ],
   "source": [
    "import functools\n",
    "import time\n",
    "\n",
    "\n",
    "def repeat_with_prefix(_func=None, *, num_times=2, prefix = \"---------Default Prefix--------\"):\n",
    "    \n",
    "    def decorator_repeat(func):\n",
    "\n",
    "        @functools.wraps(func)\n",
    "        def wrapper(*args, **kwargs):\n",
    "\n",
    "            print(prefix)\n",
    "            for i in range(num_times):\n",
    "                \n",
    "                \n",
    "                value = func(*args, **kwargs)\n",
    "                \n",
    "            return value\n",
    "\n",
    "        return wrapper\n",
    "\n",
    "    if _func is None:\n",
    "        return decorator_repeat\n",
    "    else:\n",
    "        return decorator_repeat(_func)\n",
    "    \n",
    "    return decorator_repeat\n",
    "\n",
    "@repeat_with_prefix(num_times = 5)\n",
    "def print_random_text(text : str):\n",
    "    \n",
    "    print(text)\n",
    "    \n",
    "    \n",
    "print_random_text(\"Hello World\")"
   ]
  },
  {
   "cell_type": "code",
   "execution_count": 12,
   "id": "00b8778a-8ba3-4bae-96e8-dbe5a182dd68",
   "metadata": {
    "tags": []
   },
   "outputs": [
    {
     "name": "stdout",
     "output_type": "stream",
     "text": [
      "---------New Prefix--------\n",
      "Hello World\n",
      "Hello World\n"
     ]
    }
   ],
   "source": [
    "@repeat_with_prefix(prefix = \"---------New Prefix--------\")\n",
    "def print_random_text(text : str):\n",
    "    \n",
    "    print(text)\n",
    "    \n",
    "    \n",
    "print_random_text(\"Hello World\")"
   ]
  },
  {
   "cell_type": "code",
   "execution_count": null,
   "id": "a6b15746-cd95-4c1d-b99a-21bf4eb832b7",
   "metadata": {},
   "outputs": [],
   "source": []
  }
 ],
 "metadata": {
  "kernelspec": {
   "display_name": "Python 3 (ipykernel)",
   "language": "python",
   "name": "python3"
  },
  "language_info": {
   "codemirror_mode": {
    "name": "ipython",
    "version": 3
   },
   "file_extension": ".py",
   "mimetype": "text/x-python",
   "name": "python",
   "nbconvert_exporter": "python",
   "pygments_lexer": "ipython3",
   "version": "3.10.4"
  }
 },
 "nbformat": 4,
 "nbformat_minor": 5
}
