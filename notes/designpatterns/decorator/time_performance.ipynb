{
 "cells": [
  {
   "cell_type": "code",
   "execution_count": 7,
   "id": "df846760-9973-4633-962c-91b3419be655",
   "metadata": {
    "tags": []
   },
   "outputs": [],
   "source": [
    "import functools\n",
    "import time\n",
    "\n",
    "def clock_time(func):\n",
    "\n",
    "    @functools.wraps(func)\n",
    "    def wrapper(*args, **kwargs):\n",
    "\n",
    "        start = time.perf_counter()\n",
    "\n",
    "        value = func(*args, **kwargs)\n",
    "\n",
    "        end = time.perf_counter()\n",
    "        \n",
    "        print(\"Time consumed in seconds: %.4fs\" % (end-start))\n",
    "\n",
    "        return value\n",
    "\n",
    "    return wrapper\n",
    "\n",
    "import random\n",
    "\n",
    "@clock_time\n",
    "def clock_random_function():\n",
    "    \n",
    "    for i in range(1000):\n",
    "\n",
    "        # Sample 10 numbers in between the range 10 to 1000\n",
    "        randomlist = random.sample(range(10, 1000), 10)\n",
    "        randomlist.sort()"
   ]
  },
  {
   "cell_type": "code",
   "execution_count": 8,
   "id": "b8c4444d-0659-4c20-a69b-59d034235a32",
   "metadata": {
    "tags": []
   },
   "outputs": [
    {
     "name": "stdout",
     "output_type": "stream",
     "text": [
      "Time consumed in seconds: 0.0099s\n"
     ]
    }
   ],
   "source": [
    "clock_random_function()"
   ]
  },
  {
   "cell_type": "code",
   "execution_count": null,
   "id": "155f79cd-950e-487b-b0a1-aededeef4b59",
   "metadata": {},
   "outputs": [],
   "source": []
  }
 ],
 "metadata": {
  "kernelspec": {
   "display_name": "Python 3 (ipykernel)",
   "language": "python",
   "name": "python3"
  },
  "language_info": {
   "codemirror_mode": {
    "name": "ipython",
    "version": 3
   },
   "file_extension": ".py",
   "mimetype": "text/x-python",
   "name": "python",
   "nbconvert_exporter": "python",
   "pygments_lexer": "ipython3",
   "version": "3.10.4"
  }
 },
 "nbformat": 4,
 "nbformat_minor": 5
}
