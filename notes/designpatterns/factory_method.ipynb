{
 "cells": [
  {
   "cell_type": "markdown",
   "id": "7d10c22f-b9dc-4dec-80a7-1f1dc2f44ee9",
   "metadata": {},
   "source": [
    "## What is a factory method (In general)\n",
    "-  design pattern used in object-oriented programming to create objects.\n",
    "-  Instead of calling a constructor directly to create an instance of a class, a factory method is used to encapsulate the creation logic. This provides flexibility in object creation and helps manage complex construction processes.\n",
    "\n",
    "## TLDR:\n",
    "factory method captures key logic to create an instance based on the input\n",
    "\n",
    "## when to use factory method\n",
    "- When the exact type of the object to be created is determined by dynamic factors at runtime.\n",
    "- When creating an object involves complex logic that isn't appropriate to include within a constructor.\n",
    "- When you want to manage and centralize the logic of creating objects."
   ]
  },
  {
   "cell_type": "code",
   "execution_count": 2,
   "id": "1b37e9fa-e83b-4fd9-bea0-14a944c00a6a",
   "metadata": {},
   "outputs": [
    {
     "name": "stdout",
     "output_type": "stream",
     "text": [
      "Drawing a circle\n",
      "Drawing a square\n",
      "Drawing a rectangle\n"
     ]
    }
   ],
   "source": [
    "class Shape:\n",
    "    def draw(self):\n",
    "        raise NotImplementedError(\"This method should be overridden.\")\n",
    "\n",
    "class Circle(Shape):\n",
    "    def draw(self):\n",
    "        return \"Drawing a circle\"\n",
    "\n",
    "class Square(Shape):\n",
    "    def draw(self):\n",
    "        return \"Drawing a square\"\n",
    "\n",
    "class Rectangle(Shape):\n",
    "    def draw(self):\n",
    "        return \"Drawing a rectangle\"\n",
    "\n",
    "class ShapeFactory:\n",
    "    @staticmethod\n",
    "    def create_shape(shape_type):\n",
    "        if shape_type == 'circle':\n",
    "            return Circle()\n",
    "        elif shape_type == 'square':\n",
    "            return Square()\n",
    "        elif shape_type == 'rectangle':\n",
    "            return Rectangle()\n",
    "        else:\n",
    "            raise ValueError(f\"Unknown shape type: {shape_type}\")\n",
    "\n",
    "# Usage\n",
    "factory = ShapeFactory()\n",
    "shape1 = factory.create_shape('circle')\n",
    "shape2 = factory.create_shape('square')\n",
    "shape3 = factory.create_shape('rectangle')\n",
    "\n",
    "print(shape1.draw())  # Output: Drawing a circle\n",
    "print(shape2.draw())  # Output: Drawing a square\n",
    "print(shape3.draw())  # Output: Drawing a rectangle\n"
   ]
  },
  {
   "cell_type": "code",
   "execution_count": 5,
   "id": "16db7b78-7b62-4d2f-9b4a-9dd26f6d5f8c",
   "metadata": {},
   "outputs": [
    {
     "name": "stdout",
     "output_type": "stream",
     "text": [
      "<class '__main__.Circle'>\n",
      "<class '__main__.Square'>\n",
      "<class '__main__.Rectangle'>\n"
     ]
    }
   ],
   "source": [
    "print(type(shape1))\n",
    "print(type(shape2))\n",
    "print(type(shape3))"
   ]
  },
  {
   "cell_type": "code",
   "execution_count": null,
   "id": "4b485af8-498d-4d71-b6cc-45f6b441a538",
   "metadata": {},
   "outputs": [],
   "source": []
  }
 ],
 "metadata": {
  "kernelspec": {
   "display_name": "Python 3 (ipykernel)",
   "language": "python",
   "name": "python3"
  },
  "language_info": {
   "codemirror_mode": {
    "name": "ipython",
    "version": 3
   },
   "file_extension": ".py",
   "mimetype": "text/x-python",
   "name": "python",
   "nbconvert_exporter": "python",
   "pygments_lexer": "ipython3",
   "version": "3.10.13"
  }
 },
 "nbformat": 4,
 "nbformat_minor": 5
}
