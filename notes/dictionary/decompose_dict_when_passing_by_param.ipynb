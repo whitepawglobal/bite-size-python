{
 "cells": [
  {
   "cell_type": "code",
   "execution_count": 10,
   "id": "aab36f13-2ae8-4311-9257-6ec485ba3845",
   "metadata": {
    "tags": []
   },
   "outputs": [],
   "source": [
    "dictpair = dict(email = \"john@yahoo.com\", name = \"john doe\")"
   ]
  },
  {
   "cell_type": "markdown",
   "id": "5e9adc24-2b75-4f2a-b027-643964ea6122",
   "metadata": {},
   "source": [
    "### decompose dictionary type with ** when passing by argument\n",
    "\n",
    "Example: `**dictpair`"
   ]
  },
  {
   "cell_type": "markdown",
   "id": "ee4680f0-5133-4b68-ade7-4457fb24901d",
   "metadata": {},
   "source": [
    "## can use it for class declaration"
   ]
  },
  {
   "cell_type": "code",
   "execution_count": 12,
   "id": "ae09108e-8e1c-4955-b2ea-5c8327937371",
   "metadata": {
    "tags": []
   },
   "outputs": [
    {
     "data": {
      "text/plain": [
       "User(email='john@yahoo.com', name='john doe')"
      ]
     },
     "execution_count": 12,
     "metadata": {},
     "output_type": "execute_result"
    }
   ],
   "source": [
    "from dataclasses import dataclass\n",
    "\n",
    "@dataclass\n",
    "class User:\n",
    "    email : str\n",
    "    name : str\n",
    "    \n",
    "User(**dictpair)"
   ]
  },
  {
   "cell_type": "markdown",
   "id": "d248892c-b7d8-4c67-b3a9-e68b3b4d142b",
   "metadata": {
    "tags": []
   },
   "source": [
    "### how does error looks like"
   ]
  },
  {
   "cell_type": "code",
   "execution_count": 14,
   "id": "8d0b3680-1ff9-46b0-a28e-5687cc6cbb98",
   "metadata": {
    "tags": []
   },
   "outputs": [
    {
     "ename": "TypeError",
     "evalue": "__init__() got an unexpected keyword argument 'name'",
     "output_type": "error",
     "traceback": [
      "\u001b[0;31m---------------------------------------------------------------------------\u001b[0m",
      "\u001b[0;31mTypeError\u001b[0m                                 Traceback (most recent call last)",
      "Cell \u001b[0;32mIn[14], line 8\u001b[0m\n\u001b[1;32m      5\u001b[0m     email : \u001b[38;5;28mstr\u001b[39m\n\u001b[1;32m      6\u001b[0m     credential : \u001b[38;5;28mstr\u001b[39m\n\u001b[0;32m----> 8\u001b[0m \u001b[43mAnotherClass\u001b[49m\u001b[43m(\u001b[49m\u001b[38;5;241;43m*\u001b[39;49m\u001b[38;5;241;43m*\u001b[39;49m\u001b[43mdictpair\u001b[49m\u001b[43m)\u001b[49m\n",
      "\u001b[0;31mTypeError\u001b[0m: __init__() got an unexpected keyword argument 'name'"
     ]
    }
   ],
   "source": [
    "from dataclasses import dataclass\n",
    "\n",
    "@dataclass\n",
    "class AnotherClass:\n",
    "    email : str\n",
    "    credential : str\n",
    "    \n",
    "AnotherClass(**dictpair)"
   ]
  },
  {
   "cell_type": "code",
   "execution_count": null,
   "id": "cc9eed5d-0764-4b15-9d67-e76b6015cac5",
   "metadata": {},
   "outputs": [],
   "source": []
  }
 ],
 "metadata": {
  "kernelspec": {
   "display_name": "Python 3 (ipykernel)",
   "language": "python",
   "name": "python3"
  },
  "language_info": {
   "codemirror_mode": {
    "name": "ipython",
    "version": 3
   },
   "file_extension": ".py",
   "mimetype": "text/x-python",
   "name": "python",
   "nbconvert_exporter": "python",
   "pygments_lexer": "ipython3",
   "version": "3.9.16"
  }
 },
 "nbformat": 4,
 "nbformat_minor": 5
}
