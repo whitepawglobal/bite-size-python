{
 "cells": [
  {
   "cell_type": "markdown",
   "id": "a48a0301-1542-46cd-88c3-bd77c16b24c7",
   "metadata": {},
   "source": [
    "### Given a key value pair, build the reverse key value pair\n",
    "\n",
    "from\n",
    "a = 1\n",
    "b = 2\n",
    "c = 3\n",
    "\n",
    "\n",
    "to \n",
    "1 = a\n",
    "2 = b \n",
    "3 = c\n"
   ]
  },
  {
   "cell_type": "code",
   "execution_count": 1,
   "id": "a17ee2af-7966-419b-96b4-ebc75d96e5d8",
   "metadata": {
    "tags": []
   },
   "outputs": [
    {
     "data": {
      "text/plain": [
       "{'ABC': 'abc', 'GHJ': 'ghj'}"
      ]
     },
     "execution_count": 1,
     "metadata": {},
     "output_type": "execute_result"
    }
   ],
   "source": [
    "a = dict(abc = \"ABC\", ghj = \"GHJ\")\n",
    "\n",
    "reverse_a = dict(zip(a.values(), a.keys()))\n",
    "\n",
    "reverse_a"
   ]
  },
  {
   "cell_type": "code",
   "execution_count": null,
   "id": "ccd35a08-8c2e-4706-89f1-ac5246989f68",
   "metadata": {},
   "outputs": [],
   "source": []
  }
 ],
 "metadata": {
  "kernelspec": {
   "display_name": "Python 3 (ipykernel)",
   "language": "python",
   "name": "python3"
  },
  "language_info": {
   "codemirror_mode": {
    "name": "ipython",
    "version": 3
   },
   "file_extension": ".py",
   "mimetype": "text/x-python",
   "name": "python",
   "nbconvert_exporter": "python",
   "pygments_lexer": "ipython3",
   "version": "3.10.4"
  }
 },
 "nbformat": 4,
 "nbformat_minor": 5
}
