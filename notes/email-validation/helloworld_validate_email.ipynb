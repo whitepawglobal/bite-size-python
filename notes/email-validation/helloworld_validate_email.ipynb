{
 "cells": [
  {
   "cell_type": "markdown",
   "id": "1e3fc982-f7e8-4dbe-87fb-d5b1b1ef3a94",
   "metadata": {},
   "source": [
    "### Install with \n",
    "```\n",
    "pip install email-validator\n",
    "```\n",
    "\n",
    "### Pypi package\n",
    "- https://github.com/JoshData/python-email-validator"
   ]
  },
  {
   "cell_type": "markdown",
   "id": "e21b723b-ac66-4a70-83b5-c10c4b6e2d2b",
   "metadata": {},
   "source": [
    "### validate email address before creating a new user account"
   ]
  },
  {
   "cell_type": "code",
   "execution_count": 14,
   "id": "74fc0caa-130d-4ff3-bf31-a6d55d75561c",
   "metadata": {
    "tags": []
   },
   "outputs": [],
   "source": [
    "from email_validator import validate_email, EmailNotValidError\n",
    "\n",
    "def checkemail(email : str):\n",
    "\n",
    "    is_new_account = True # False for login pages\n",
    "\n",
    "    try:\n",
    "        # Check that the email address is valid.\n",
    "        validation = validate_email(email, check_deliverability=is_new_account)\n",
    "\n",
    "        # Take the normalized form of the email address\n",
    "        # for all logic beyond this point (especially\n",
    "        # before going to a database query where equality\n",
    "        # may not take into account Unicode normalization).  \n",
    "        email = validation.email\n",
    "\n",
    "        print(\"Email valid\")\n",
    "\n",
    "    except EmailNotValidError as e:\n",
    "\n",
    "        # Email is not valid.\n",
    "        # The exception message is human-readable.\n",
    "        print(str(e))"
   ]
  },
  {
   "cell_type": "code",
   "execution_count": 15,
   "id": "da1cbf7f-fcf4-4ba3-a397-f1a0f35c4b4a",
   "metadata": {
    "tags": []
   },
   "outputs": [
    {
     "name": "stdout",
     "output_type": "stream",
     "text": [
      "The domain name kakaokai.com does not exist.\n"
     ]
    }
   ],
   "source": [
    "checkemail(\"avc@kakaokai.com\")"
   ]
  },
  {
   "cell_type": "code",
   "execution_count": 16,
   "id": "6316133f-bc97-4d38-a52e-d01e4c191087",
   "metadata": {
    "tags": []
   },
   "outputs": [
    {
     "name": "stdout",
     "output_type": "stream",
     "text": [
      "Email valid\n"
     ]
    }
   ],
   "source": [
    "checkemail(\"avc@kakao.com\")"
   ]
  },
  {
   "cell_type": "code",
   "execution_count": 17,
   "id": "e3d8a8ec-6863-4fbe-bdff-2a051a459fa9",
   "metadata": {
    "tags": []
   },
   "outputs": [
    {
     "name": "stdout",
     "output_type": "stream",
     "text": [
      "The domain name ken123.com does not exist.\n"
     ]
    }
   ],
   "source": [
    "checkemail(\"avc@ken123.com\")"
   ]
  },
  {
   "cell_type": "code",
   "execution_count": 18,
   "id": "aaf28e89-3531-4503-94d7-bb1832b64d06",
   "metadata": {
    "tags": []
   },
   "outputs": [
    {
     "name": "stdout",
     "output_type": "stream",
     "text": [
      "The email address is not valid. It must have exactly one @-sign.\n"
     ]
    }
   ],
   "source": [
    "checkemail(\"avc.com\")"
   ]
  },
  {
   "cell_type": "code",
   "execution_count": null,
   "id": "3e58602a-457d-4b63-8044-b66180b85204",
   "metadata": {},
   "outputs": [],
   "source": []
  }
 ],
 "metadata": {
  "kernelspec": {
   "display_name": "Python 3 (ipykernel)",
   "language": "python",
   "name": "python3"
  },
  "language_info": {
   "codemirror_mode": {
    "name": "ipython",
    "version": 3
   },
   "file_extension": ".py",
   "mimetype": "text/x-python",
   "name": "python",
   "nbconvert_exporter": "python",
   "pygments_lexer": "ipython3",
   "version": "3.9.16"
  }
 },
 "nbformat": 4,
 "nbformat_minor": 5
}
