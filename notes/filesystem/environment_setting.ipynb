{
 "cells": [
  {
   "cell_type": "markdown",
   "id": "72f5fba5-5bdf-4277-a4ad-ff9bbca70ac4",
   "metadata": {
    "tags": []
   },
   "source": [
    "### os.environ: set key<>value pair environment variable"
   ]
  },
  {
   "cell_type": "markdown",
   "id": "fafa3da7-4357-4c44-bf4a-50357058623c",
   "metadata": {},
   "source": [
    "### print environment variable"
   ]
  },
  {
   "cell_type": "code",
   "execution_count": 1,
   "id": "691c35c2-6428-4918-8121-7619cd033a9f",
   "metadata": {
    "tags": []
   },
   "outputs": [
    {
     "data": {
      "text/plain": [
       "'C:\\\\Program Files\\\\Eclipse Foundation\\\\jdk-8.0.302.8-hotspot'"
      ]
     },
     "execution_count": 1,
     "metadata": {},
     "output_type": "execute_result"
    }
   ],
   "source": [
    "import os\n",
    "import pprint\n",
    "  \n",
    "# Get the list of user's\n",
    "# environment variables\n",
    "env_var = os.environ\n",
    "  \n",
    "type(env_var)\n",
    "env_var[\"JAVA_HOME\"]"
   ]
  },
  {
   "cell_type": "code",
   "execution_count": null,
   "id": "59db1d5f-c921-4acf-b90f-a1266131d0a9",
   "metadata": {
    "tags": []
   },
   "outputs": [],
   "source": [
    "# Print the list of user's\n",
    "# environment variables\n",
    "print(\"User's Environment variable:\")\n",
    "pprint.pprint(dict(env_var), width = 1)"
   ]
  },
  {
   "cell_type": "markdown",
   "id": "c2e5e865-7657-45c4-922a-12416effdbb9",
   "metadata": {},
   "source": [
    "## set environment (only on current setting)"
   ]
  },
  {
   "cell_type": "code",
   "execution_count": null,
   "id": "1de5b5b5-7219-458a-94a3-aea7419b95e3",
   "metadata": {
    "tags": []
   },
   "outputs": [],
   "source": [
    "env_var[\"ffmpeg\"]"
   ]
  },
  {
   "cell_type": "code",
   "execution_count": null,
   "id": "1839aaca-4af4-4deb-9f54-d65d23d76859",
   "metadata": {
    "tags": []
   },
   "outputs": [],
   "source": [
    "env_var['ffmpeg'] = \"/usr/bin/ffmpeg\""
   ]
  },
  {
   "cell_type": "code",
   "execution_count": 2,
   "id": "40259be2-798d-4e91-b0da-973263640ba9",
   "metadata": {
    "tags": []
   },
   "outputs": [
    {
     "ename": "KeyError",
     "evalue": "'ffmpeg'",
     "output_type": "error",
     "traceback": [
      "\u001b[1;31m---------------------------------------------------------------------------\u001b[0m",
      "\u001b[1;31mKeyError\u001b[0m                                  Traceback (most recent call last)",
      "Cell \u001b[1;32mIn[2], line 1\u001b[0m\n\u001b[1;32m----> 1\u001b[0m \u001b[43menv_var\u001b[49m\u001b[43m[\u001b[49m\u001b[38;5;124;43m'\u001b[39;49m\u001b[38;5;124;43mffmpeg\u001b[39;49m\u001b[38;5;124;43m'\u001b[39;49m\u001b[43m]\u001b[49m\n",
      "File \u001b[1;32m~\\.conda\\envs\\face-guardian\\lib\\os.py:679\u001b[0m, in \u001b[0;36m_Environ.__getitem__\u001b[1;34m(self, key)\u001b[0m\n\u001b[0;32m    676\u001b[0m     value \u001b[38;5;241m=\u001b[39m \u001b[38;5;28mself\u001b[39m\u001b[38;5;241m.\u001b[39m_data[\u001b[38;5;28mself\u001b[39m\u001b[38;5;241m.\u001b[39mencodekey(key)]\n\u001b[0;32m    677\u001b[0m \u001b[38;5;28;01mexcept\u001b[39;00m \u001b[38;5;167;01mKeyError\u001b[39;00m:\n\u001b[0;32m    678\u001b[0m     \u001b[38;5;66;03m# raise KeyError with the original key value\u001b[39;00m\n\u001b[1;32m--> 679\u001b[0m     \u001b[38;5;28;01mraise\u001b[39;00m \u001b[38;5;167;01mKeyError\u001b[39;00m(key) \u001b[38;5;28;01mfrom\u001b[39;00m \u001b[38;5;28;01mNone\u001b[39;00m\n\u001b[0;32m    680\u001b[0m \u001b[38;5;28;01mreturn\u001b[39;00m \u001b[38;5;28mself\u001b[39m\u001b[38;5;241m.\u001b[39mdecodevalue(value)\n",
      "\u001b[1;31mKeyError\u001b[0m: 'ffmpeg'"
     ]
    }
   ],
   "source": [
    "env_var['ffmpeg']"
   ]
  },
  {
   "cell_type": "code",
   "execution_count": null,
   "id": "8797667a-befa-45fd-be55-9006a9ca965e",
   "metadata": {},
   "outputs": [],
   "source": []
  }
 ],
 "metadata": {
  "kernelspec": {
   "display_name": "Python 3 (ipykernel)",
   "language": "python",
   "name": "python3"
  },
  "language_info": {
   "codemirror_mode": {
    "name": "ipython",
    "version": 3
   },
   "file_extension": ".py",
   "mimetype": "text/x-python",
   "name": "python",
   "nbconvert_exporter": "python",
   "pygments_lexer": "ipython3",
   "version": "3.10.4"
  }
 },
 "nbformat": 4,
 "nbformat_minor": 5
}
