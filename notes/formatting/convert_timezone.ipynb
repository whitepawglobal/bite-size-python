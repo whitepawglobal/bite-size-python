{
 "cells": [
  {
   "cell_type": "code",
   "execution_count": 3,
   "id": "13746667-a161-411f-8997-eeca37ba351e",
   "metadata": {},
   "outputs": [
    {
     "data": {
      "text/plain": [
       "datetime.datetime(2024, 5, 21, 15, 0, tzinfo=<UTC>)"
      ]
     },
     "execution_count": 3,
     "metadata": {},
     "output_type": "execute_result"
    }
   ],
   "source": [
    "import pytz\n",
    "from datetime import datetime\n",
    "time_zone = \"Asia/Seoul\"\n",
    "local_tz = pytz.timezone(time_zone)  # replace with your local timezone\n",
    "local_start_date = local_tz.localize(datetime(2024, 5, 22))\n",
    "start_date_utc = local_start_date.astimezone(pytz.utc)\n",
    "\n",
    "start_date_utc"
   ]
  },
  {
   "cell_type": "code",
   "execution_count": 4,
   "id": "18fcd24f-5e11-44bb-88ec-d34c1c69efd2",
   "metadata": {},
   "outputs": [
    {
     "data": {
      "text/plain": [
       "datetime.datetime(2024, 5, 22, 1, 1, tzinfo=<UTC>)"
      ]
     },
     "execution_count": 4,
     "metadata": {},
     "output_type": "execute_result"
    }
   ],
   "source": [
    "\n",
    "local_tz = pytz.timezone(time_zone)  # replace with your local timezone\n",
    "local_start_date = local_tz.localize(datetime(2024, 5, 22, 10, 1))\n",
    "start_datetime_utc = local_start_date.astimezone(pytz.utc)\n",
    "\n",
    "start_datetime_utc"
   ]
  },
  {
   "cell_type": "code",
   "execution_count": null,
   "id": "9a050121-b5f1-4862-8300-fe374f455ff1",
   "metadata": {},
   "outputs": [],
   "source": []
  }
 ],
 "metadata": {
  "kernelspec": {
   "display_name": "Python 3 (ipykernel)",
   "language": "python",
   "name": "python3"
  },
  "language_info": {
   "codemirror_mode": {
    "name": "ipython",
    "version": 3
   },
   "file_extension": ".py",
   "mimetype": "text/x-python",
   "name": "python",
   "nbconvert_exporter": "python",
   "pygments_lexer": "ipython3",
   "version": "3.10.13"
  }
 },
 "nbformat": 4,
 "nbformat_minor": 5
}
