{
 "cells": [
  {
   "cell_type": "code",
   "execution_count": 4,
   "id": "5a0ab00f-a9fa-42b3-b57a-2784438fd22b",
   "metadata": {
    "tags": []
   },
   "outputs": [
    {
     "name": "stdout",
     "output_type": "stream",
     "text": [
      "2022-12-25\n"
     ]
    }
   ],
   "source": [
    "import datetime\n",
    "\n",
    "d = datetime.date(2022, 12, 25)\n",
    "print(d)"
   ]
  },
  {
   "cell_type": "code",
   "execution_count": 5,
   "id": "8cbd2bf9-d38c-403e-8382-bfbda744fb9e",
   "metadata": {
    "tags": []
   },
   "outputs": [],
   "source": [
    "datetimelist = [datetime.date(2022, 12, 25), datetime.date(2023, 6, 2), datetime.date(2023, 7, 2), datetime.date(2023, 12, 23)]"
   ]
  },
  {
   "cell_type": "code",
   "execution_count": 6,
   "id": "44fd29bf-0a19-4563-b161-33471f381c05",
   "metadata": {
    "tags": []
   },
   "outputs": [
    {
     "data": {
      "text/plain": [
       "[datetime.date(2023, 7, 2), datetime.date(2023, 12, 23)]"
      ]
     },
     "execution_count": 6,
     "metadata": {},
     "output_type": "execute_result"
    }
   ],
   "source": [
    "datetimecompare = datetime.date(2023, 7, 1)\n",
    "\n",
    "output = []\n",
    "\n",
    "for i in datetimelist:\n",
    "    \n",
    "    if i > datetimecompare:\n",
    "        \n",
    "        output.append(i)\n",
    "        \n",
    "output"
   ]
  },
  {
   "cell_type": "code",
   "execution_count": 8,
   "id": "1a717613-3b33-49e4-a962-501e04ea6955",
   "metadata": {
    "tags": []
   },
   "outputs": [
    {
     "ename": "TypeError",
     "evalue": "can't compare datetime.datetime to datetime.date",
     "output_type": "error",
     "traceback": [
      "\u001b[0;31m---------------------------------------------------------------------------\u001b[0m",
      "\u001b[0;31mTypeError\u001b[0m                                 Traceback (most recent call last)",
      "Cell \u001b[0;32mIn[8], line 3\u001b[0m\n\u001b[1;32m      1\u001b[0m otherdatetime \u001b[38;5;241m=\u001b[39m datetime\u001b[38;5;241m.\u001b[39mdatetime(\u001b[38;5;241m2022\u001b[39m, \u001b[38;5;241m12\u001b[39m, \u001b[38;5;241m28\u001b[39m, \u001b[38;5;241m23\u001b[39m, \u001b[38;5;241m55\u001b[39m, \u001b[38;5;241m59\u001b[39m, \u001b[38;5;241m342380\u001b[39m)\n\u001b[0;32m----> 3\u001b[0m \u001b[38;5;28;01mif\u001b[39;00m \u001b[43motherdatetime\u001b[49m\u001b[43m \u001b[49m\u001b[38;5;241;43m<\u001b[39;49m\u001b[43m \u001b[49m\u001b[43mdatetimecompare\u001b[49m:\n\u001b[1;32m      5\u001b[0m     \u001b[38;5;28mprint\u001b[39m(\u001b[38;5;124mf\u001b[39m\u001b[38;5;124m\"\u001b[39m\u001b[38;5;132;01m{\u001b[39;00motherdatetime\u001b[38;5;132;01m}\u001b[39;00m\u001b[38;5;124m is before \u001b[39m\u001b[38;5;132;01m{\u001b[39;00mdatetimecompare\u001b[38;5;132;01m}\u001b[39;00m\u001b[38;5;124m\"\u001b[39m)\n",
      "\u001b[0;31mTypeError\u001b[0m: can't compare datetime.datetime to datetime.date"
     ]
    }
   ],
   "source": [
    "otherdatetime = datetime.datetime(2022, 12, 28, 23, 55, 59, 342380)\n",
    "\n",
    "if otherdatetime < datetimecompare:\n",
    "    \n",
    "    print(f\"{otherdatetime} is before {datetimecompare}\")"
   ]
  },
  {
   "cell_type": "code",
   "execution_count": 10,
   "id": "d841b8f9-6bc8-4137-8bd0-3dcf0888951d",
   "metadata": {
    "tags": []
   },
   "outputs": [
    {
     "name": "stdout",
     "output_type": "stream",
     "text": [
      "2022-12-28 23:55:59.342380 is before 2023-07-01 00:00:00\n"
     ]
    }
   ],
   "source": [
    "otherdatetimecompare = datetime.datetime(2023, 7, 1, 0, 0, 0)\n",
    "\n",
    "if otherdatetime < otherdatetimecompare:\n",
    "    \n",
    "    print(f\"{otherdatetime} is before {otherdatetimecompare}\")"
   ]
  },
  {
   "cell_type": "code",
   "execution_count": null,
   "id": "1c881035-234e-4f88-91d1-7edd81cdbd51",
   "metadata": {},
   "outputs": [],
   "source": []
  }
 ],
 "metadata": {
  "kernelspec": {
   "display_name": "Python 3 (ipykernel)",
   "language": "python",
   "name": "python3"
  },
  "language_info": {
   "codemirror_mode": {
    "name": "ipython",
    "version": 3
   },
   "file_extension": ".py",
   "mimetype": "text/x-python",
   "name": "python",
   "nbconvert_exporter": "python",
   "pygments_lexer": "ipython3",
   "version": "3.10.4"
  }
 },
 "nbformat": 4,
 "nbformat_minor": 5
}
