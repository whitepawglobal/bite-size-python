{
 "cells": [
  {
   "cell_type": "code",
   "execution_count": 2,
   "id": "2024ad56-7507-4127-87e2-9f6ca34eeb78",
   "metadata": {
    "tags": []
   },
   "outputs": [],
   "source": [
    "from datetime import datetime, timedelta"
   ]
  },
  {
   "cell_type": "code",
   "execution_count": 36,
   "id": "69100b9e-a441-46f3-af34-69e2f08bca9f",
   "metadata": {
    "tags": []
   },
   "outputs": [
    {
     "data": {
      "text/plain": [
       "datetime.datetime(2024, 1, 5, 18, 28, 58, 134894)"
      ]
     },
     "execution_count": 36,
     "metadata": {},
     "output_type": "execute_result"
    }
   ],
   "source": [
    "now = datetime.now()\n",
    "\n",
    "now"
   ]
  },
  {
   "cell_type": "code",
   "execution_count": 28,
   "id": "c005720d-f14d-414a-af56-684b9600b580",
   "metadata": {
    "tags": []
   },
   "outputs": [
    {
     "data": {
      "text/plain": [
       "'2024-01-05 18:26:55.231174'"
      ]
     },
     "execution_count": 28,
     "metadata": {},
     "output_type": "execute_result"
    }
   ],
   "source": [
    "str(now)"
   ]
  },
  {
   "cell_type": "markdown",
   "id": "bb5d15b5-fec4-4962-8c0a-a897d5441be8",
   "metadata": {},
   "source": [
    "str => datetime"
   ]
  },
  {
   "cell_type": "code",
   "execution_count": 37,
   "id": "f9372c86-950a-40e2-ae7f-4e7b68ea50ac",
   "metadata": {
    "tags": []
   },
   "outputs": [
    {
     "data": {
      "text/plain": [
       "datetime.datetime(2024, 1, 5, 18, 28, 58, 134894)"
      ]
     },
     "execution_count": 37,
     "metadata": {},
     "output_type": "execute_result"
    }
   ],
   "source": [
    "\n",
    "\n",
    "previoustime = datetime.strptime(str(now).split(\".\")[0], \"%Y-%m-%d %H:%M:%S\")\n",
    "previoustime = datetime.strptime(str(now), \"%Y-%m-%d %H:%M:%S.%f\")\n",
    "\n",
    "previoustime"
   ]
  },
  {
   "cell_type": "code",
   "execution_count": 35,
   "id": "a57554f3-390a-4fb6-85bf-4f9c57cb83e4",
   "metadata": {
    "tags": []
   },
   "outputs": [
    {
     "name": "stdout",
     "output_type": "stream",
     "text": [
      "2024-01-05 18:26:55.231174 is earlier than 2024-01-05 18:28:47.277237\n"
     ]
    }
   ],
   "source": [
    "currenttime = datetime.now()\n",
    "\n",
    "\n"
   ]
  },
  {
   "cell_type": "code",
   "execution_count": 38,
   "id": "1eec9087-aa4f-4b18-be6d-fc003c633759",
   "metadata": {
    "tags": []
   },
   "outputs": [
    {
     "name": "stdout",
     "output_type": "stream",
     "text": [
      "2024-01-05 18:28:58.134894 is later than 2024-01-05 18:28:47.277237\n"
     ]
    }
   ],
   "source": [
    "if previoustime < currenttime:\n",
    "    \n",
    "    print(f\"{previoustime} is earlier than {currenttime}\")\n",
    "    \n",
    "else:\n",
    "    \n",
    "    print(f\"{previoustime} is later than {currenttime}\")"
   ]
  },
  {
   "cell_type": "code",
   "execution_count": null,
   "id": "749a59c9-cde8-4262-92b6-709884d7bf47",
   "metadata": {},
   "outputs": [],
   "source": []
  }
 ],
 "metadata": {
  "kernelspec": {
   "display_name": "Python 3 (ipykernel)",
   "language": "python",
   "name": "python3"
  },
  "language_info": {
   "codemirror_mode": {
    "name": "ipython",
    "version": 3
   },
   "file_extension": ".py",
   "mimetype": "text/x-python",
   "name": "python",
   "nbconvert_exporter": "python",
   "pygments_lexer": "ipython3",
   "version": "3.10.4"
  }
 },
 "nbformat": 4,
 "nbformat_minor": 5
}
