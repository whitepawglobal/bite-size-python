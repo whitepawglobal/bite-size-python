{
 "cells": [
  {
   "cell_type": "markdown",
   "id": "c390c8aa-b50b-4235-af65-a92bf83257b1",
   "metadata": {},
   "source": [
    "# note\n",
    "- yield is memory efficient\n",
    "\n",
    "\n",
    "\n",
    "### when to use yield instead of return \n",
    "- use yield when we want to iterate over a sequence, but don’t want to store the entire sequence in memory\n",
    "\n",
    "\n",
    "### references\n",
    "https://www.geeksforgeeks.org/use-yield-keyword-instead-return-keyword-python/"
   ]
  },
  {
   "cell_type": "code",
   "execution_count": 2,
   "id": "e9bc816c-da65-4029-ae39-318057f1acf1",
   "metadata": {
    "tags": []
   },
   "outputs": [
    {
     "name": "stdout",
     "output_type": "stream",
     "text": [
      "working on value 0\n",
      "0\n",
      "working on value 1\n",
      "1\n",
      "working on value 2\n",
      "4\n",
      "working on value 3\n",
      "9\n",
      "working on value 4\n",
      "16\n"
     ]
    }
   ],
   "source": [
    "def iteration() -> int:\n",
    "    \n",
    "    for i in range(5):\n",
    "        print(f\"working on value {i}\")\n",
    "        yield i * i \n",
    "        \n",
    "\n",
    "for value in iteration():\n",
    "    \n",
    "    print(value)"
   ]
  },
  {
   "cell_type": "markdown",
   "id": "032eb1c9-9513-44bf-80cc-01f25124404d",
   "metadata": {},
   "source": [
    "## Use case\n",
    "- read and process line of files, at each time. check file [yieldimp.py](yieldimp.py)\n",
    "- fibonacci [fibonacci.py](fibonacci.py)"
   ]
  },
  {
   "cell_type": "code",
   "execution_count": null,
   "id": "c5fcff00-da39-4b99-8e1b-f9b5d98552b3",
   "metadata": {},
   "outputs": [],
   "source": []
  }
 ],
 "metadata": {
  "kernelspec": {
   "display_name": "Python 3 (ipykernel)",
   "language": "python",
   "name": "python3"
  },
  "language_info": {
   "codemirror_mode": {
    "name": "ipython",
    "version": 3
   },
   "file_extension": ".py",
   "mimetype": "text/x-python",
   "name": "python",
   "nbconvert_exporter": "python",
   "pygments_lexer": "ipython3",
   "version": "3.10.4"
  }
 },
 "nbformat": 4,
 "nbformat_minor": 5
}
