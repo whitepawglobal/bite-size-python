{
 "cells": [
  {
   "cell_type": "code",
   "execution_count": 2,
   "id": "e25f8d7b-f2f9-4298-a01b-26bb66b92ac0",
   "metadata": {},
   "outputs": [
    {
     "name": "stdout",
     "output_type": "stream",
     "text": [
      "{'name': 'John', 'age': 30, 'city': 'New York'}\n",
      "<class 'dict'>\n"
     ]
    }
   ],
   "source": [
    "import json\n",
    "\n",
    "# Step 2: Define your JSON string\n",
    "json_string = '{\"name\": \"John\", \"age\": 30, \"city\": \"New York\"}'\n",
    "\n",
    "# Step 3: Parse the JSON string\n",
    "parsed_json = json.loads(json_string)\n",
    "\n",
    "# The parsed_json is now a dictionary\n",
    "print(parsed_json)\n",
    "print(type(parsed_json))"
   ]
  },
  {
   "cell_type": "markdown",
   "id": "ed587455-1c55-49ad-bb38-6372bcc7d3a2",
   "metadata": {},
   "source": [
    "## Realise how this string use \""
   ]
  },
  {
   "cell_type": "code",
   "execution_count": 5,
   "id": "32ed5416-b0eb-4cb8-a4f4-a9f1924d49e1",
   "metadata": {},
   "outputs": [
    {
     "data": {
      "text/plain": [
       "'{\"id\":5,\"name\":\"IT\",\"location\":\"San Francisco\"}'"
      ]
     },
     "execution_count": 5,
     "metadata": {},
     "output_type": "execute_result"
    }
   ],
   "source": [
    "another_string = '{\"id\":5,\"name\":\"IT\",\"location\":\"San Francisco\"}'\n",
    "\n",
    "another_string"
   ]
  },
  {
   "cell_type": "code",
   "execution_count": 6,
   "id": "fddf3447-72dc-461f-92e8-dff04617cfba",
   "metadata": {},
   "outputs": [
    {
     "name": "stdout",
     "output_type": "stream",
     "text": [
      "{\"id\":5,\"name\":\"IT\",\"location\":\"San Francisco\"}\n"
     ]
    }
   ],
   "source": [
    "another_string_replaced = another_string.replace(\"'\", \"\\\"\")\n",
    "\n",
    "print(another_string_replaced)\n",
    "parsed_json = json.loads(another_string_replaced)"
   ]
  },
  {
   "cell_type": "code",
   "execution_count": null,
   "id": "400efbb1-51fd-48ef-90ee-64d36b9ab043",
   "metadata": {},
   "outputs": [],
   "source": []
  }
 ],
 "metadata": {
  "kernelspec": {
   "display_name": "Python 3 (ipykernel)",
   "language": "python",
   "name": "python3"
  },
  "language_info": {
   "codemirror_mode": {
    "name": "ipython",
    "version": 3
   },
   "file_extension": ".py",
   "mimetype": "text/x-python",
   "name": "python",
   "nbconvert_exporter": "python",
   "pygments_lexer": "ipython3",
   "version": "3.10.13"
  }
 },
 "nbformat": 4,
 "nbformat_minor": 5
}
