{
 "cells": [
  {
   "cell_type": "markdown",
   "id": "b2780c4c-2d4a-4f3e-b273-ef325493e580",
   "metadata": {},
   "source": [
    "## get the index of minimum value in a list"
   ]
  },
  {
   "cell_type": "code",
   "execution_count": 3,
   "id": "d9d1db80-b66d-4763-b478-5965d55b78ba",
   "metadata": {
    "tags": []
   },
   "outputs": [
    {
     "data": {
      "text/plain": [
       "1"
      ]
     },
     "execution_count": 3,
     "metadata": {},
     "output_type": "execute_result"
    }
   ],
   "source": [
    "\n",
    "marks = [100, 20, 28, 58, 90]\n",
    "\n",
    "min_marks = min(marks)\n",
    "\n",
    "marks.index(min_marks)"
   ]
  },
  {
   "cell_type": "markdown",
   "id": "d7e84174-de54-4a27-9b45-22e45d015627",
   "metadata": {},
   "source": [
    "## does it works for floating value? YES"
   ]
  },
  {
   "cell_type": "code",
   "execution_count": 7,
   "id": "3bf4efdb-1bfd-4301-9f8f-a7573cf47618",
   "metadata": {
    "tags": []
   },
   "outputs": [
    {
     "data": {
      "text/plain": [
       "4"
      ]
     },
     "execution_count": 7,
     "metadata": {},
     "output_type": "execute_result"
    }
   ],
   "source": [
    "marks = [20.8, 0.5, 34, 13.4, 0.01, 0.01]\n",
    "\n",
    "min_marks = min(marks)\n",
    "\n",
    "marks.index(min_marks)"
   ]
  },
  {
   "cell_type": "code",
   "execution_count": 8,
   "id": "fb85bdab-f3fe-45b2-b37f-53872a0f4e48",
   "metadata": {
    "tags": []
   },
   "outputs": [
    {
     "data": {
      "text/plain": [
       "0"
      ]
     },
     "execution_count": 8,
     "metadata": {},
     "output_type": "execute_result"
    }
   ],
   "source": [
    "\n",
    "marks = [100, 20, 28, 58, 90]\n",
    "\n",
    "min_marks = max(marks)\n",
    "\n",
    "marks.index(min_marks)"
   ]
  },
  {
   "cell_type": "code",
   "execution_count": 9,
   "id": "e298d3a8-a5b8-414d-9d94-5cdfc89d1ee0",
   "metadata": {
    "tags": []
   },
   "outputs": [
    {
     "data": {
      "text/plain": [
       "2"
      ]
     },
     "execution_count": 9,
     "metadata": {},
     "output_type": "execute_result"
    }
   ],
   "source": [
    "marks = [20.8, 0.5, 34, 13.4, 0.01, 0.01]\n",
    "\n",
    "min_marks = max(marks)\n",
    "\n",
    "marks.index(min_marks)"
   ]
  },
  {
   "cell_type": "code",
   "execution_count": null,
   "id": "cc6c8069-faa8-4eeb-ba5e-8f5ec3451815",
   "metadata": {},
   "outputs": [],
   "source": []
  }
 ],
 "metadata": {
  "kernelspec": {
   "display_name": "Python 3 (ipykernel)",
   "language": "python",
   "name": "python3"
  },
  "language_info": {
   "codemirror_mode": {
    "name": "ipython",
    "version": 3
   },
   "file_extension": ".py",
   "mimetype": "text/x-python",
   "name": "python",
   "nbconvert_exporter": "python",
   "pygments_lexer": "ipython3",
   "version": "3.10.4"
  }
 },
 "nbformat": 4,
 "nbformat_minor": 5
}
