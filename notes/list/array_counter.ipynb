{
 "cells": [
  {
   "cell_type": "code",
   "execution_count": 2,
   "id": "df073ccd-1f51-44b8-bdfc-dc388a1be805",
   "metadata": {
    "tags": []
   },
   "outputs": [
    {
     "name": "stdout",
     "output_type": "stream",
     "text": [
      "1: 1\n",
      "2: 2\n",
      "3: 4\n"
     ]
    },
    {
     "data": {
      "text/plain": [
       "collections.Counter"
      ]
     },
     "execution_count": 2,
     "metadata": {},
     "output_type": "execute_result"
    }
   ],
   "source": [
    "from collections import Counter\n",
    "\n",
    "a = [1, 2, 2, 3, 3, 3, 3]\n",
    "\n",
    "# Use Counter to count occurrences\n",
    "count_dict = Counter(a)\n",
    "\n",
    "# Print the counts\n",
    "for element, count in count_dict.items():\n",
    "    print(f\"{element}: {count}\")\n",
    "\n",
    "    \n",
    "type(count_dict)"
   ]
  },
  {
   "cell_type": "code",
   "execution_count": 3,
   "id": "d6bce283-9e31-4b1e-82c6-39f69b8b8986",
   "metadata": {
    "tags": []
   },
   "outputs": [
    {
     "data": {
      "text/plain": [
       "Counter({'hell': 1, 'hel': 1, 'hello': 1, 'hall': 1})"
      ]
     },
     "execution_count": 3,
     "metadata": {},
     "output_type": "execute_result"
    }
   ],
   "source": [
    "from collections import Counter\n",
    "\n",
    "a = [\"hell\", \"hel\", \"hello\", \"hall\"]\n",
    "\n",
    "# Use Counter to count occurrences\n",
    "count_dict = Counter(a)\n",
    "\n",
    "count_dict"
   ]
  },
  {
   "cell_type": "code",
   "execution_count": 4,
   "id": "bf9f4747-5f4e-464b-b9d1-5d5d76927670",
   "metadata": {
    "tags": []
   },
   "outputs": [
    {
     "data": {
      "text/plain": [
       "1"
      ]
     },
     "execution_count": 4,
     "metadata": {},
     "output_type": "execute_result"
    }
   ],
   "source": [
    "count_dict[\"hell\"]"
   ]
  },
  {
   "cell_type": "code",
   "execution_count": null,
   "id": "223f8551-0a3d-4654-a575-d555e8d4e74e",
   "metadata": {},
   "outputs": [],
   "source": []
  }
 ],
 "metadata": {
  "kernelspec": {
   "display_name": "Python 3 (ipykernel)",
   "language": "python",
   "name": "python3"
  },
  "language_info": {
   "codemirror_mode": {
    "name": "ipython",
    "version": 3
   },
   "file_extension": ".py",
   "mimetype": "text/x-python",
   "name": "python",
   "nbconvert_exporter": "python",
   "pygments_lexer": "ipython3",
   "version": "3.10.4"
  }
 },
 "nbformat": 4,
 "nbformat_minor": 5
}
