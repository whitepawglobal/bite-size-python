{
 "cells": [
  {
   "cell_type": "code",
   "execution_count": 5,
   "id": "76cdf2d7-29dc-4e1a-9fb6-78d43292b6f2",
   "metadata": {
    "tags": []
   },
   "outputs": [
    {
     "name": "stdout",
     "output_type": "stream",
     "text": [
      "3\n",
      "2\n",
      "1\n"
     ]
    }
   ],
   "source": [
    "stack = list()\n",
    "\n",
    "values = [1,2,3]\n",
    "\n",
    "\n",
    "for value in values:\n",
    "    \n",
    "    stack.append(value)\n",
    "    \n",
    "#last in first out\n",
    "\n",
    "while len(stack) > 0:\n",
    "    \n",
    "    print(stack.pop())"
   ]
  },
  {
   "cell_type": "code",
   "execution_count": null,
   "id": "48a50ab5-36c0-4ba1-9eef-d0ed93543d64",
   "metadata": {},
   "outputs": [],
   "source": []
  }
 ],
 "metadata": {
  "kernelspec": {
   "display_name": "Python 3 (ipykernel)",
   "language": "python",
   "name": "python3"
  },
  "language_info": {
   "codemirror_mode": {
    "name": "ipython",
    "version": 3
   },
   "file_extension": ".py",
   "mimetype": "text/x-python",
   "name": "python",
   "nbconvert_exporter": "python",
   "pygments_lexer": "ipython3",
   "version": "3.10.4"
  }
 },
 "nbformat": 4,
 "nbformat_minor": 5
}
