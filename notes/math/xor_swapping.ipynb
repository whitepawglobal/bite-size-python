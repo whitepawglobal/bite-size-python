{
 "cells": [
  {
   "cell_type": "markdown",
   "id": "0be15169-9140-4e89-aff1-4ee1433816fa",
   "metadata": {},
   "source": [
    "## Swap two numbers with xor\n",
    "\n",
    "Space complexity: O(1)"
   ]
  },
  {
   "cell_type": "code",
   "execution_count": 3,
   "id": "39c4f28c-f2a3-497c-abf8-0f3b1d2a76ae",
   "metadata": {
    "tags": []
   },
   "outputs": [
    {
     "name": "stdout",
     "output_type": "stream",
     "text": [
      "100\n",
      "20\n"
     ]
    }
   ],
   "source": [
    "x = 20\n",
    "y = 100\n",
    "\n",
    "buffer = x ^ y\n",
    "\n",
    "x = x ^ buffer\n",
    "y = y ^ buffer\n",
    "\n",
    "\n",
    "print(x)\n",
    "print(y)"
   ]
  },
  {
   "cell_type": "code",
   "execution_count": null,
   "id": "372696e1-37e1-4341-a6cc-b5572bd7bb25",
   "metadata": {},
   "outputs": [],
   "source": []
  }
 ],
 "metadata": {
  "kernelspec": {
   "display_name": "Python 3 (ipykernel)",
   "language": "python",
   "name": "python3"
  },
  "language_info": {
   "codemirror_mode": {
    "name": "ipython",
    "version": 3
   },
   "file_extension": ".py",
   "mimetype": "text/x-python",
   "name": "python",
   "nbconvert_exporter": "python",
   "pygments_lexer": "ipython3",
   "version": "3.10.4"
  }
 },
 "nbformat": 4,
 "nbformat_minor": 5
}
