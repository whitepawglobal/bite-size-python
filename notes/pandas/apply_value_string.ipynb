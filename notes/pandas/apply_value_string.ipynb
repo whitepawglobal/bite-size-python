{
 "cells": [
  {
   "cell_type": "code",
   "execution_count": 6,
   "id": "c0baede2-175c-4fb7-98dc-7524fddcde38",
   "metadata": {
    "tags": []
   },
   "outputs": [
    {
     "data": {
      "text/html": [
       "<div><style>\n",
       ".dataframe > thead > tr > th,\n",
       ".dataframe > tbody > tr > td {\n",
       "  text-align: right;\n",
       "  white-space: pre-wrap;\n",
       "}\n",
       "</style>\n",
       "<small>shape: (3, 2)</small><table border=\"1\" class=\"dataframe\"><thead><tr><th>foo</th><th>bar</th></tr><tr><td>i64</td><td>str</td></tr></thead><tbody><tr><td>1</td><td>&quot;yes&quot;</td></tr><tr><td>2</td><td>&quot;no&quot;</td></tr><tr><td>3</td><td>&quot;YES&quot;</td></tr></tbody></table></div>"
      ],
      "text/plain": [
       "shape: (3, 2)\n",
       "┌─────┬─────┐\n",
       "│ foo ┆ bar │\n",
       "│ --- ┆ --- │\n",
       "│ i64 ┆ str │\n",
       "╞═════╪═════╡\n",
       "│ 1   ┆ yes │\n",
       "│ 2   ┆ no  │\n",
       "│ 3   ┆ YES │\n",
       "└─────┴─────┘"
      ]
     },
     "execution_count": 6,
     "metadata": {},
     "output_type": "execute_result"
    }
   ],
   "source": [
    "import polars as pl\n",
    "\n",
    "\n",
    "df = pl.DataFrame({\"foo\": [1, 2, 3], \"bar\": [\"yes\", \"no\", \"YES\"]})\n",
    "\n",
    "\n",
    "df.head()"
   ]
  },
  {
   "cell_type": "code",
   "execution_count": 10,
   "id": "18682d32-76b6-4473-a35b-4fa8b2345990",
   "metadata": {
    "tags": []
   },
   "outputs": [
    {
     "data": {
      "text/html": [
       "<div><style>\n",
       ".dataframe > thead > tr > th,\n",
       ".dataframe > tbody > tr > td {\n",
       "  text-align: right;\n",
       "  white-space: pre-wrap;\n",
       "}\n",
       "</style>\n",
       "<small>shape: (3, 3)</small><table border=\"1\" class=\"dataframe\"><thead><tr><th>foo</th><th>bar</th><th>bar_new</th></tr><tr><td>i64</td><td>str</td><td>str</td></tr></thead><tbody><tr><td>1</td><td>&quot;yes&quot;</td><td>&quot;YES&quot;</td></tr><tr><td>2</td><td>&quot;no&quot;</td><td>&quot;NO&quot;</td></tr><tr><td>3</td><td>&quot;YES&quot;</td><td>&quot;YES&quot;</td></tr></tbody></table></div>"
      ],
      "text/plain": [
       "shape: (3, 3)\n",
       "┌─────┬─────┬─────────┐\n",
       "│ foo ┆ bar ┆ bar_new │\n",
       "│ --- ┆ --- ┆ ---     │\n",
       "│ i64 ┆ str ┆ str     │\n",
       "╞═════╪═════╪═════════╡\n",
       "│ 1   ┆ yes ┆ YES     │\n",
       "│ 2   ┆ no  ┆ NO      │\n",
       "│ 3   ┆ YES ┆ YES     │\n",
       "└─────┴─────┴─────────┘"
      ]
     },
     "execution_count": 10,
     "metadata": {},
     "output_type": "execute_result"
    }
   ],
   "source": [
    "df.with_columns(  \n",
    "\n",
    "    pl.col(\"bar\").str.to_uppercase().alias(\"bar_new\")\n",
    "\n",
    ")"
   ]
  },
  {
   "cell_type": "markdown",
   "id": "4e39b9f8-9ec0-4885-8eb7-a5d41f0503ed",
   "metadata": {},
   "source": [
    "### remove alias to do in-place changes"
   ]
  },
  {
   "cell_type": "code",
   "execution_count": 11,
   "id": "8ca3d89c-5e4f-47e7-88c5-907441280794",
   "metadata": {
    "tags": []
   },
   "outputs": [
    {
     "data": {
      "text/html": [
       "<div><style>\n",
       ".dataframe > thead > tr > th,\n",
       ".dataframe > tbody > tr > td {\n",
       "  text-align: right;\n",
       "  white-space: pre-wrap;\n",
       "}\n",
       "</style>\n",
       "<small>shape: (3, 2)</small><table border=\"1\" class=\"dataframe\"><thead><tr><th>foo</th><th>bar</th></tr><tr><td>i64</td><td>str</td></tr></thead><tbody><tr><td>1</td><td>&quot;YES&quot;</td></tr><tr><td>2</td><td>&quot;NO&quot;</td></tr><tr><td>3</td><td>&quot;YES&quot;</td></tr></tbody></table></div>"
      ],
      "text/plain": [
       "shape: (3, 2)\n",
       "┌─────┬─────┐\n",
       "│ foo ┆ bar │\n",
       "│ --- ┆ --- │\n",
       "│ i64 ┆ str │\n",
       "╞═════╪═════╡\n",
       "│ 1   ┆ YES │\n",
       "│ 2   ┆ NO  │\n",
       "│ 3   ┆ YES │\n",
       "└─────┴─────┘"
      ]
     },
     "execution_count": 11,
     "metadata": {},
     "output_type": "execute_result"
    }
   ],
   "source": [
    "df.with_columns(  \n",
    "\n",
    "    pl.col(\"bar\").str.to_uppercase()\n",
    "\n",
    ")"
   ]
  },
  {
   "cell_type": "code",
   "execution_count": null,
   "id": "4ea962d9-e6a7-47a2-8b28-fe07c3d84602",
   "metadata": {},
   "outputs": [],
   "source": []
  }
 ],
 "metadata": {
  "kernelspec": {
   "display_name": "Python 3 (ipykernel)",
   "language": "python",
   "name": "python3"
  },
  "language_info": {
   "codemirror_mode": {
    "name": "ipython",
    "version": 3
   },
   "file_extension": ".py",
   "mimetype": "text/x-python",
   "name": "python",
   "nbconvert_exporter": "python",
   "pygments_lexer": "ipython3",
   "version": "3.10.4"
  }
 },
 "nbformat": 4,
 "nbformat_minor": 5
}
