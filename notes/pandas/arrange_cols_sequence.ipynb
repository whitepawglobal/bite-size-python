{
 "cells": [
  {
   "cell_type": "code",
   "execution_count": null,
   "id": "9fe54db5-14fd-41ee-a232-47a2758d78a7",
   "metadata": {},
   "outputs": [],
   "source": [
    "cols = df.columns.tolist()\n",
    "\n",
    "newcolssequence = list()\n",
    "newcolssequence.append(cols[0])\n",
    "newcolssequence.append(cols[-1])\n",
    "newcolssequence.extend(cols[1:-1])\n",
    "\n",
    "\n",
    "df = df[newcolssequence]"
   ]
  }
 ],
 "metadata": {
  "kernelspec": {
   "display_name": "Python 3 (ipykernel)",
   "language": "python",
   "name": "python3"
  },
  "language_info": {
   "codemirror_mode": {
    "name": "ipython",
    "version": 3
   },
   "file_extension": ".py",
   "mimetype": "text/x-python",
   "name": "python",
   "nbconvert_exporter": "python",
   "pygments_lexer": "ipython3",
   "version": "3.10.4"
  }
 },
 "nbformat": 4,
 "nbformat_minor": 5
}
