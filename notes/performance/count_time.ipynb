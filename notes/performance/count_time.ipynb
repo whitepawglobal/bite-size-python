{
 "cells": [
  {
   "cell_type": "markdown",
   "metadata": {},
   "source": [
    "### time module return time in seconds"
   ]
  },
  {
   "cell_type": "markdown",
   "metadata": {},
   "source": [
    "#### with time.time()"
   ]
  },
  {
   "cell_type": "code",
   "execution_count": 7,
   "metadata": {},
   "outputs": [
    {
     "name": "stdout",
     "output_type": "stream",
     "text": [
      "Time consumed in seconds: 0.0130s\n"
     ]
    }
   ],
   "source": [
    "import time\n",
    "import random\n",
    "\n",
    "start = time.time()\n",
    "\n",
    "for i in range(1000):\n",
    "\n",
    "    # Sample 10 numbers in between the range 10 to 1000\n",
    "    randomlist = random.sample(range(10, 1000), 10)\n",
    "    randomlist.sort()\n",
    "\n",
    "end = time.time()\n",
    "\n",
    "print(\"Time consumed in seconds: %.4fs\" % (end-start))"
   ]
  },
  {
   "cell_type": "markdown",
   "metadata": {},
   "source": [
    "#### with time.perf_counter()\n",
    "\n",
    "why use time.perf_counter() instaed of time.time()\n",
    "\n",
    "- tldr:more precies\n",
    "- it does not rely on the system clock and is specifically designed for performance measurements."
   ]
  },
  {
   "cell_type": "code",
   "execution_count": 8,
   "metadata": {
    "tags": []
   },
   "outputs": [
    {
     "name": "stdout",
     "output_type": "stream",
     "text": [
      "Time consumed in seconds: 0.0118s\n"
     ]
    }
   ],
   "source": [
    "import time\n",
    "import random\n",
    "\n",
    "start = time.perf_counter()\n",
    "\n",
    "for i in range(1000):\n",
    "\n",
    "    # Sample 10 numbers in between the range 10 to 1000\n",
    "    randomlist = random.sample(range(10, 1000), 10)\n",
    "    randomlist.sort()\n",
    "\n",
    "end = time.perf_counter()\n",
    "\n",
    "print(\"Time consumed in seconds: %.4fs\" % (end-start))"
   ]
  },
  {
   "cell_type": "code",
   "execution_count": null,
   "metadata": {},
   "outputs": [],
   "source": []
  }
 ],
 "metadata": {
  "kernelspec": {
   "display_name": "Python 3 (ipykernel)",
   "language": "python",
   "name": "python3"
  },
  "language_info": {
   "codemirror_mode": {
    "name": "ipython",
    "version": 3
   },
   "file_extension": ".py",
   "mimetype": "text/x-python",
   "name": "python",
   "nbconvert_exporter": "python",
   "pygments_lexer": "ipython3",
   "version": "3.10.4"
  },
  "vscode": {
   "interpreter": {
    "hash": "8556d705f1fb1a7a97a8cf1449d73bf9b743fda82251187d431e67d5172c9970"
   }
  }
 },
 "nbformat": 4,
 "nbformat_minor": 4
}
