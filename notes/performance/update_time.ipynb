{
 "cells": [
  {
   "cell_type": "code",
   "execution_count": 1,
   "id": "3ba661d0-0b52-4141-bc08-ccbeddc2dbac",
   "metadata": {
    "tags": []
   },
   "outputs": [],
   "source": [
    "from datetime import datetime, timedelta"
   ]
  },
  {
   "cell_type": "markdown",
   "id": "89fd051e-5c73-4885-ba2b-fae7f64c5e10",
   "metadata": {},
   "source": [
    "## Update Days"
   ]
  },
  {
   "cell_type": "code",
   "execution_count": 2,
   "id": "aed127d9-ebc8-43e1-8893-72e743eaaf82",
   "metadata": {
    "tags": []
   },
   "outputs": [
    {
     "name": "stdout",
     "output_type": "stream",
     "text": [
      "2024-01-05 10:48:54.711363\n",
      "2024-01-06 10:48:54.711363\n"
     ]
    }
   ],
   "source": [
    "now = datetime.now()\n",
    "later = now + timedelta(days=1)\n",
    "\n",
    "print(now)\n",
    "print(later)"
   ]
  },
  {
   "cell_type": "markdown",
   "id": "212dd3dc-a263-46ba-a89c-8b25edef1d8d",
   "metadata": {},
   "source": [
    "## Update Hours"
   ]
  },
  {
   "cell_type": "code",
   "execution_count": 3,
   "id": "d5147951-f058-4b74-864c-244e869ac5b8",
   "metadata": {
    "tags": []
   },
   "outputs": [
    {
     "name": "stdout",
     "output_type": "stream",
     "text": [
      "2024-01-05 10:49:22.279132\n",
      "2024-01-05 12:49:22.279132\n"
     ]
    }
   ],
   "source": [
    "now = datetime.now()\n",
    "later = now + timedelta(hours=2)\n",
    "\n",
    "print(now)\n",
    "print(later)"
   ]
  },
  {
   "cell_type": "code",
   "execution_count": null,
   "id": "25a9c291-205c-4c54-9363-1cae695b3551",
   "metadata": {},
   "outputs": [],
   "source": [
    "## Update Minutes"
   ]
  },
  {
   "cell_type": "code",
   "execution_count": 5,
   "id": "a8c939c9-3990-4794-b5ed-f2ce3b5b5474",
   "metadata": {
    "tags": []
   },
   "outputs": [
    {
     "name": "stdout",
     "output_type": "stream",
     "text": [
      "2024-01-05 10:49:58.315958\n",
      "2024-01-05 10:59:58.315958\n"
     ]
    }
   ],
   "source": [
    "now = datetime.now()\n",
    "later = now + timedelta(minutes=10)\n",
    "\n",
    "print(now)\n",
    "print(later)"
   ]
  },
  {
   "cell_type": "code",
   "execution_count": null,
   "id": "7cc446e2-dc13-44f1-b0e3-b7e0832bcb86",
   "metadata": {},
   "outputs": [],
   "source": []
  }
 ],
 "metadata": {
  "kernelspec": {
   "display_name": "Python 3 (ipykernel)",
   "language": "python",
   "name": "python3"
  },
  "language_info": {
   "codemirror_mode": {
    "name": "ipython",
    "version": 3
   },
   "file_extension": ".py",
   "mimetype": "text/x-python",
   "name": "python",
   "nbconvert_exporter": "python",
   "pygments_lexer": "ipython3",
   "version": "3.10.4"
  }
 },
 "nbformat": 4,
 "nbformat_minor": 5
}
