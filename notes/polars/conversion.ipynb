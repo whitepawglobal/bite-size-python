{
 "cells": [
  {
   "cell_type": "code",
   "execution_count": 1,
   "id": "320b67dd-9688-44c6-a3a2-cb056afa2008",
   "metadata": {
    "tags": []
   },
   "outputs": [
    {
     "name": "stdout",
     "output_type": "stream",
     "text": [
      "shape: (5, 4)\n",
      "┌──────────┬──────────────┬────────┬─────────────────────┐\n",
      "│ integers ┆ big_integers ┆ floats ┆ floats_with_decimal │\n",
      "│ ---      ┆ ---          ┆ ---    ┆ ---                 │\n",
      "│ i64      ┆ i64          ┆ f64    ┆ f64                 │\n",
      "╞══════════╪══════════════╪════════╪═════════════════════╡\n",
      "│ 1        ┆ 1            ┆ 4.0    ┆ 4.532               │\n",
      "│ 2        ┆ 10000002     ┆ 5.0    ┆ 5.5                 │\n",
      "│ 3        ┆ 3            ┆ 6.0    ┆ 6.5                 │\n",
      "│ 4        ┆ 10000004     ┆ 7.0    ┆ 7.5                 │\n",
      "│ 5        ┆ 10000005     ┆ 8.0    ┆ 8.5                 │\n",
      "└──────────┴──────────────┴────────┴─────────────────────┘\n"
     ]
    }
   ],
   "source": [
    "import polars as pl\n",
    "\n",
    "\n",
    "df = pl.DataFrame(\n",
    "    {\n",
    "        \"integers\": [1, 2, 3, 4, 5],\n",
    "        \"big_integers\": [1, 10000002, 3, 10000004, 10000005],\n",
    "        \"floats\": [4.0, 5.0, 6.0, 7.0, 8.0],\n",
    "        \"floats_with_decimal\": [4.532, 5.5, 6.5, 7.5, 8.5],\n",
    "    }\n",
    ")\n",
    "\n",
    "print(df)"
   ]
  },
  {
   "cell_type": "code",
   "execution_count": 2,
   "id": "10eb55a3-a073-4fcc-8eed-3aa64ced5086",
   "metadata": {
    "tags": []
   },
   "outputs": [
    {
     "name": "stdout",
     "output_type": "stream",
     "text": [
      "shape: (5, 3)\n",
      "┌────────────────────┬────────────────────┬─────────────────────────────────┐\n",
      "│ integers_as_floats ┆ floats_as_integers ┆ floats_with_decimal_as_integers │\n",
      "│ ---                ┆ ---                ┆ ---                             │\n",
      "│ f32                ┆ i32                ┆ i32                             │\n",
      "╞════════════════════╪════════════════════╪═════════════════════════════════╡\n",
      "│ 1.0                ┆ 4                  ┆ 4                               │\n",
      "│ 2.0                ┆ 5                  ┆ 5                               │\n",
      "│ 3.0                ┆ 6                  ┆ 6                               │\n",
      "│ 4.0                ┆ 7                  ┆ 7                               │\n",
      "│ 5.0                ┆ 8                  ┆ 8                               │\n",
      "└────────────────────┴────────────────────┴─────────────────────────────────┘\n"
     ]
    }
   ],
   "source": [
    "\n",
    "\n",
    "out = df.select(\n",
    "    pl.col(\"integers\").cast(pl.Float32).alias(\"integers_as_floats\"),\n",
    "    pl.col(\"floats\").cast(pl.Int32).alias(\"floats_as_integers\"),\n",
    "    pl.col(\"floats_with_decimal\")\n",
    "    .cast(pl.Int32)\n",
    "    .alias(\"floats_with_decimal_as_integers\"),\n",
    ")\n",
    "print(out)\n"
   ]
  },
  {
   "cell_type": "code",
   "execution_count": null,
   "id": "5c6fe8a8-8379-4ad0-8a92-3a8fed9037ae",
   "metadata": {},
   "outputs": [],
   "source": []
  }
 ],
 "metadata": {
  "kernelspec": {
   "display_name": "Python 3 (ipykernel)",
   "language": "python",
   "name": "python3"
  },
  "language_info": {
   "codemirror_mode": {
    "name": "ipython",
    "version": 3
   },
   "file_extension": ".py",
   "mimetype": "text/x-python",
   "name": "python",
   "nbconvert_exporter": "python",
   "pygments_lexer": "ipython3",
   "version": "3.10.4"
  }
 },
 "nbformat": 4,
 "nbformat_minor": 5
}
