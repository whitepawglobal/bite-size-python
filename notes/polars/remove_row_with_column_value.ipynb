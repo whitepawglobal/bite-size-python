{
 "cells": [
  {
   "cell_type": "code",
   "execution_count": 6,
   "id": "8be0a291-585d-45aa-a28f-5451908ebb6a",
   "metadata": {
    "tags": []
   },
   "outputs": [
    {
     "data": {
      "text/html": [
       "<div><style>\n",
       ".dataframe > thead > tr > th,\n",
       ".dataframe > tbody > tr > td {\n",
       "  text-align: right;\n",
       "  white-space: pre-wrap;\n",
       "}\n",
       "</style>\n",
       "<small>shape: (5, 2)</small><table border=\"1\" class=\"dataframe\"><thead><tr><th>a</th><th>b</th></tr><tr><td>i64</td><td>bool</td></tr></thead><tbody><tr><td>1</td><td>true</td></tr><tr><td>2</td><td>false</td></tr><tr><td>3</td><td>null</td></tr><tr><td>4</td><td>true</td></tr><tr><td>5</td><td>false</td></tr></tbody></table></div>"
      ],
      "text/plain": [
       "shape: (5, 2)\n",
       "┌─────┬───────┐\n",
       "│ a   ┆ b     │\n",
       "│ --- ┆ ---   │\n",
       "│ i64 ┆ bool  │\n",
       "╞═════╪═══════╡\n",
       "│ 1   ┆ true  │\n",
       "│ 2   ┆ false │\n",
       "│ 3   ┆ null  │\n",
       "│ 4   ┆ true  │\n",
       "│ 5   ┆ false │\n",
       "└─────┴───────┘"
      ]
     },
     "execution_count": 6,
     "metadata": {},
     "output_type": "execute_result"
    }
   ],
   "source": [
    "import polars as pl\n",
    "\n",
    "\n",
    "df = pl.DataFrame({\n",
    "    \"a\": [1, 2, 3, 4, 5],\n",
    "    \"b\": [True, False, None, True, False]\n",
    "})\n",
    "\n",
    "df\n",
    "\n",
    "\n"
   ]
  },
  {
   "cell_type": "code",
   "execution_count": 7,
   "id": "2fb9fca2-e24e-4eaf-b839-f1330bca4ff1",
   "metadata": {
    "tags": []
   },
   "outputs": [
    {
     "data": {
      "text/html": [
       "<div><style>\n",
       ".dataframe > thead > tr > th,\n",
       ".dataframe > tbody > tr > td {\n",
       "  text-align: right;\n",
       "  white-space: pre-wrap;\n",
       "}\n",
       "</style>\n",
       "<small>shape: (2, 2)</small><table border=\"1\" class=\"dataframe\"><thead><tr><th>a</th><th>b</th></tr><tr><td>i64</td><td>bool</td></tr></thead><tbody><tr><td>1</td><td>true</td></tr><tr><td>4</td><td>true</td></tr></tbody></table></div>"
      ],
      "text/plain": [
       "shape: (2, 2)\n",
       "┌─────┬──────┐\n",
       "│ a   ┆ b    │\n",
       "│ --- ┆ ---  │\n",
       "│ i64 ┆ bool │\n",
       "╞═════╪══════╡\n",
       "│ 1   ┆ true │\n",
       "│ 4   ┆ true │\n",
       "└─────┴──────┘"
      ]
     },
     "execution_count": 7,
     "metadata": {},
     "output_type": "execute_result"
    }
   ],
   "source": [
    "# filter on condition\n",
    "df_a = df.filter(pl.col(\"b\") == True)\n",
    "\n",
    "df_a"
   ]
  },
  {
   "cell_type": "code",
   "execution_count": 8,
   "id": "f6a449b8-3f43-4444-aba9-c44adc140d83",
   "metadata": {
    "tags": []
   },
   "outputs": [
    {
     "data": {
      "text/html": [
       "<div><style>\n",
       ".dataframe > thead > tr > th,\n",
       ".dataframe > tbody > tr > td {\n",
       "  text-align: right;\n",
       "  white-space: pre-wrap;\n",
       "}\n",
       "</style>\n",
       "<small>shape: (3, 2)</small><table border=\"1\" class=\"dataframe\"><thead><tr><th>a</th><th>b</th></tr><tr><td>i64</td><td>bool</td></tr></thead><tbody><tr><td>1</td><td>true</td></tr><tr><td>4</td><td>true</td></tr><tr><td>5</td><td>false</td></tr></tbody></table></div>"
      ],
      "text/plain": [
       "shape: (3, 2)\n",
       "┌─────┬───────┐\n",
       "│ a   ┆ b     │\n",
       "│ --- ┆ ---   │\n",
       "│ i64 ┆ bool  │\n",
       "╞═════╪═══════╡\n",
       "│ 1   ┆ true  │\n",
       "│ 4   ┆ true  │\n",
       "│ 5   ┆ false │\n",
       "└─────┴───────┘"
      ]
     },
     "execution_count": 8,
     "metadata": {},
     "output_type": "execute_result"
    }
   ],
   "source": [
    "integers_to_exclude = [2,3]\n",
    "\n",
    "df_a = df.filter(~pl.col(\"a\").is_in(integers_to_exclude))\n",
    "\n",
    "df_a"
   ]
  },
  {
   "cell_type": "code",
   "execution_count": null,
   "id": "8b588f9a-d4ef-43dd-9850-180f77082251",
   "metadata": {},
   "outputs": [],
   "source": []
  }
 ],
 "metadata": {
  "kernelspec": {
   "display_name": "Python 3 (ipykernel)",
   "language": "python",
   "name": "python3"
  },
  "language_info": {
   "codemirror_mode": {
    "name": "ipython",
    "version": 3
   },
   "file_extension": ".py",
   "mimetype": "text/x-python",
   "name": "python",
   "nbconvert_exporter": "python",
   "pygments_lexer": "ipython3",
   "version": "3.10.4"
  }
 },
 "nbformat": 4,
 "nbformat_minor": 5
}
