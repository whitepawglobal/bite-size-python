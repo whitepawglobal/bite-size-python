{
 "cells": [
  {
   "cell_type": "code",
   "execution_count": 1,
   "id": "351d560e-fc77-426f-bd65-ad1380b58e4c",
   "metadata": {
    "tags": []
   },
   "outputs": [],
   "source": [
    "from pydantic import BaseModel\n",
    "\n",
    "\n",
    "class UserProfile(BaseModel):\n",
    "    id : int\n",
    "    email : str\n",
    "    joined_date : str"
   ]
  },
  {
   "cell_type": "markdown",
   "id": "ab3bd10c-24ab-4f78-899a-c4c53403e400",
   "metadata": {},
   "source": [
    "### Declare with dictionary\n",
    "\n",
    "- `**dicttype` pass the content of data directly as key and value argument\n",
    "\n",
    "```\n",
    "**firstuserprofile means:\n",
    "\n",
    "Pass the keys and values of the second_user_data dict directly as key-value arguments, equivalent to: User(id=4, name=\"Mary\", joined=\"2018-11-30\")\n",
    "```"
   ]
  },
  {
   "cell_type": "code",
   "execution_count": 2,
   "id": "20a11fab-7f08-4f35-8177-11eb36798ca0",
   "metadata": {
    "tags": []
   },
   "outputs": [
    {
     "data": {
      "text/plain": [
       "UserProfile(id=123, email='johndoe@gmail.com', joined_date='March 20')"
      ]
     },
     "execution_count": 2,
     "metadata": {},
     "output_type": "execute_result"
    }
   ],
   "source": [
    "data = dict(id = 123, email = \"johndoe@gmail.com\", joined_date = \"March 20\")\n",
    "\n",
    "firstuserprofile = UserProfile(**data)\n",
    "\n",
    "firstuserprofile"
   ]
  },
  {
   "cell_type": "markdown",
   "id": "9dbc6874-17c9-4464-967a-ba9b3b27ac6e",
   "metadata": {},
   "source": [
    "### error will be invoked when wrong type has been given thanks to declared with pydantic basemodel"
   ]
  },
  {
   "cell_type": "code",
   "execution_count": 3,
   "id": "73365031-7c13-44c0-afba-6af78904218c",
   "metadata": {
    "tags": []
   },
   "outputs": [
    {
     "ename": "ValidationError",
     "evalue": "1 validation error for UserProfile\nemail\n  none is not an allowed value (type=type_error.none.not_allowed)",
     "output_type": "error",
     "traceback": [
      "\u001b[0;31m---------------------------------------------------------------------------\u001b[0m",
      "\u001b[0;31mValidationError\u001b[0m                           Traceback (most recent call last)",
      "Cell \u001b[0;32mIn[3], line 1\u001b[0m\n\u001b[0;32m----> 1\u001b[0m seconduserprofile \u001b[38;5;241m=\u001b[39m \u001b[43mUserProfile\u001b[49m\u001b[43m(\u001b[49m\u001b[38;5;28;43mid\u001b[39;49m\u001b[43m \u001b[49m\u001b[38;5;241;43m=\u001b[39;49m\u001b[43m \u001b[49m\u001b[38;5;241;43m123\u001b[39;49m\u001b[43m,\u001b[49m\u001b[43m \u001b[49m\u001b[43memail\u001b[49m\u001b[43m \u001b[49m\u001b[38;5;241;43m=\u001b[39;49m\u001b[43m \u001b[49m\u001b[38;5;28;43;01mNone\u001b[39;49;00m\u001b[43m,\u001b[49m\u001b[43m \u001b[49m\u001b[43mjoined_date\u001b[49m\u001b[43m \u001b[49m\u001b[38;5;241;43m=\u001b[39;49m\u001b[43m \u001b[49m\u001b[38;5;124;43m\"\u001b[39;49m\u001b[38;5;124;43mMarch 20\u001b[39;49m\u001b[38;5;124;43m\"\u001b[39;49m\u001b[43m)\u001b[49m\n",
      "File \u001b[0;32m/opt/homebrew/Caskroom/miniforge/base/envs/deeplabeldev/lib/python3.10/site-packages/pydantic/main.py:341\u001b[0m, in \u001b[0;36mpydantic.main.BaseModel.__init__\u001b[0;34m()\u001b[0m\n",
      "\u001b[0;31mValidationError\u001b[0m: 1 validation error for UserProfile\nemail\n  none is not an allowed value (type=type_error.none.not_allowed)"
     ]
    }
   ],
   "source": [
    "seconduserprofile = UserProfile(id = 123, email = None, joined_date = \"March 20\")"
   ]
  },
  {
   "cell_type": "markdown",
   "id": "47883a3c-ff77-474e-9220-13c65e453787",
   "metadata": {
    "tags": []
   },
   "source": [
    "### from python 3.10 onwards, can use | to accept different type"
   ]
  },
  {
   "cell_type": "code",
   "execution_count": 4,
   "id": "96901af8-3627-4c99-b54e-29e4a24ea2af",
   "metadata": {
    "tags": []
   },
   "outputs": [
    {
     "data": {
      "text/plain": [
       "UserProfile2(id=123, email=None, joined_date='March 20')"
      ]
     },
     "execution_count": 4,
     "metadata": {},
     "output_type": "execute_result"
    }
   ],
   "source": [
    "class UserProfile2(BaseModel):\n",
    "    id : int\n",
    "    email : str | None\n",
    "    joined_date : str\n",
    "    \n",
    "seconduserprofile = UserProfile2(id = 123, email = None, joined_date = \"March 20\")\n",
    "seconduserprofile"
   ]
  }
 ],
 "metadata": {
  "kernelspec": {
   "display_name": "Python 3 (ipykernel)",
   "language": "python",
   "name": "python3"
  },
  "language_info": {
   "codemirror_mode": {
    "name": "ipython",
    "version": 3
   },
   "file_extension": ".py",
   "mimetype": "text/x-python",
   "name": "python",
   "nbconvert_exporter": "python",
   "pygments_lexer": "ipython3",
   "version": "3.10.4"
  }
 },
 "nbformat": 4,
 "nbformat_minor": 5
}
