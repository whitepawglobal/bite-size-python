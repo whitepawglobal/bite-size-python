{
 "cells": [
  {
   "cell_type": "markdown",
   "id": "809ef192-cb5f-4a52-8357-c40ec37dbb46",
   "metadata": {},
   "source": [
    "### Weighted Sampling"
   ]
  },
  {
   "cell_type": "code",
   "execution_count": 14,
   "id": "4574e8a3-5984-40ce-ae88-e9c6f35b6ee9",
   "metadata": {
    "tags": []
   },
   "outputs": [
    {
     "data": {
      "text/plain": [
       "[100, 100]"
      ]
     },
     "execution_count": 14,
     "metadata": {},
     "output_type": "execute_result"
    }
   ],
   "source": [
    "import random \n",
    "\n",
    "array = random.choices(population=[1, 2, 3, 4, 100, 1000],\n",
    "\t\t     weights=[0.2, 0.2, 0.2, 0.2, 0.1, 0.1],\n",
    "               k=2)\n",
    "\n",
    "array"
   ]
  },
  {
   "cell_type": "code",
   "execution_count": 10,
   "id": "55a7e55c-c33b-4944-9bf0-ec0941d1a8f5",
   "metadata": {
    "tags": []
   },
   "outputs": [
    {
     "name": "stdout",
     "output_type": "stream",
     "text": [
      "100\n",
      "100\n",
      "2\n",
      "100\n",
      "100\n",
      "100\n",
      "100\n",
      "4\n",
      "100\n",
      "100\n"
     ]
    }
   ],
   "source": [
    "import random \n",
    "\n",
    "for _ in range(0, 10):\n",
    "\n",
    "    values = random.choices(population=[1, 2, 3, 4, 100],\n",
    "                 weights=[0.1, 0.1, 0.1, 0.2, 0.5],\n",
    "                   k=1)\n",
    "\n",
    "    print(values[0])"
   ]
  },
  {
   "cell_type": "code",
   "execution_count": null,
   "id": "c4836ec7-4aed-4a73-bd76-04f4757ad796",
   "metadata": {},
   "outputs": [],
   "source": []
  }
 ],
 "metadata": {
  "kernelspec": {
   "display_name": "Python 3 (ipykernel)",
   "language": "python",
   "name": "python3"
  },
  "language_info": {
   "codemirror_mode": {
    "name": "ipython",
    "version": 3
   },
   "file_extension": ".py",
   "mimetype": "text/x-python",
   "name": "python",
   "nbconvert_exporter": "python",
   "pygments_lexer": "ipython3",
   "version": "3.10.4"
  }
 },
 "nbformat": 4,
 "nbformat_minor": 5
}
