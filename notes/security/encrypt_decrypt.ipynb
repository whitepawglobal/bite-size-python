{
 "cells": [
  {
   "cell_type": "markdown",
   "id": "f416ceed-d93f-418f-87f5-e98df28fd748",
   "metadata": {},
   "source": [
    "## use case: \n",
    "encrypt string from config (yaml, etc) and decrypt in python script \n",
    "\n",
    "\n",
    "Resource: https://pypi.org/project/cryptography/\n",
    "\n",
    "`pip install cryptography`"
   ]
  },
  {
   "cell_type": "code",
   "execution_count": 42,
   "id": "9f54ff5b-81fe-4504-80b5-c364fb89769f",
   "metadata": {},
   "outputs": [],
   "source": [
    "from cryptography.fernet import Fernet\n",
    "\n",
    "def bytestr2str(bytekey: bytes) -> str:\n",
    "\n",
    "    return bytekey.decode('utf-8')"
   ]
  },
  {
   "cell_type": "code",
   "execution_count": 43,
   "id": "50d91bfa-fb8d-4ccd-9e93-a561e867f19f",
   "metadata": {},
   "outputs": [
    {
     "data": {
      "text/plain": [
       "'8PfTlMIGUZMnnFVAzZVKFiqby9oXfTVJqu3afByGCDI='"
      ]
     },
     "execution_count": 43,
     "metadata": {},
     "output_type": "execute_result"
    }
   ],
   "source": [
    "bytekey = Fernet.generate_key()\n",
    "\n",
    "strkey = bytestr2str(bytekey)   # \"dnn_GZAJbsE0A4qq1okR2lf-YW6nZEJuSB94xq8Fa-k=\"\n",
    "strkey"
   ]
  },
  {
   "cell_type": "code",
   "execution_count": 44,
   "id": "ba268a7a-dbac-42b1-ab40-b09228532508",
   "metadata": {},
   "outputs": [],
   "source": [
    "f = Fernet('MQtbffHBqxNknw4BOUGeM7GsqBbmxTBiNuyihstSwjs=')"
   ]
  },
  {
   "cell_type": "code",
   "execution_count": 45,
   "id": "1d15eff9-8c9a-4459-89fb-c1cdaf185795",
   "metadata": {},
   "outputs": [
    {
     "data": {
      "text/plain": [
       "b'gAAAAABo8idqV-F2_NTY-VN9fovyBxARlTGuXMwUHcedV0VP6EvvAAVunB4jEOMISstIw_POlOW4eX_BOrYF9PgwQNpStVHGNF9dti4-eHaXdI2vCDZ8G6p6Or9uwZ-A9TdUxjf_EzSB'"
      ]
     },
     "execution_count": 45,
     "metadata": {},
     "output_type": "execute_result"
    }
   ],
   "source": [
    "token = f.encrypt(b\"A really secret message. Not for prying eyes.\")\n",
    "\n",
    "token"
   ]
  },
  {
   "cell_type": "code",
   "execution_count": 46,
   "id": "f0e4ef96-d39d-45b1-894c-2079d847ccf6",
   "metadata": {},
   "outputs": [],
   "source": [
    "try:\n",
    "    f.decrypt(token)\n",
    "except Exception as e:\n",
    "\n",
    "    print(f\"Failed to decrypt the token\")"
   ]
  },
  {
   "cell_type": "code",
   "execution_count": null,
   "id": "58a8415a-fa8f-48fa-96ad-74846e8147fc",
   "metadata": {},
   "outputs": [],
   "source": []
  }
 ],
 "metadata": {
  "kernelspec": {
   "display_name": "Python 3 (ipykernel)",
   "language": "python",
   "name": "python3"
  },
  "language_info": {
   "codemirror_mode": {
    "name": "ipython",
    "version": 3
   },
   "file_extension": ".py",
   "mimetype": "text/x-python",
   "name": "python",
   "nbconvert_exporter": "python",
   "pygments_lexer": "ipython3",
   "version": "3.10.13"
  }
 },
 "nbformat": 4,
 "nbformat_minor": 5
}
