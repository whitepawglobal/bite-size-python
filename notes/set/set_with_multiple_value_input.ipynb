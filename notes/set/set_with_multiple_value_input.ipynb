{
 "cells": [
  {
   "cell_type": "markdown",
   "id": "39fc02c1-cdb5-4207-b693-b55075083e09",
   "metadata": {},
   "source": [
    "## set save value of muliple values "
   ]
  },
  {
   "cell_type": "code",
   "execution_count": 2,
   "id": "e9eb933d-d998-4e32-993c-ce85b5532587",
   "metadata": {
    "tags": []
   },
   "outputs": [
    {
     "data": {
      "text/plain": [
       "{(1, 2), (2, 2), (3, 2, 1)}"
      ]
     },
     "execution_count": 2,
     "metadata": {},
     "output_type": "execute_result"
    }
   ],
   "source": [
    "setsample = set()\n",
    "\n",
    "setsample.add((1,2))\n",
    "setsample.add((3,2, 1))\n",
    "setsample.add((1,2))\n",
    "setsample.add((2,2))\n",
    "\n",
    "setsample"
   ]
  },
  {
   "cell_type": "code",
   "execution_count": null,
   "id": "a767b6f1-5539-43f5-a2e2-6f4ee0144407",
   "metadata": {},
   "outputs": [],
   "source": [
    "## doesn't work with list input "
   ]
  },
  {
   "cell_type": "code",
   "execution_count": 3,
   "id": "76b2a784-7f79-4a7d-9fa1-1c448dffbb91",
   "metadata": {
    "tags": []
   },
   "outputs": [
    {
     "ename": "TypeError",
     "evalue": "unhashable type: 'list'",
     "output_type": "error",
     "traceback": [
      "\u001b[0;31m---------------------------------------------------------------------------\u001b[0m",
      "\u001b[0;31mTypeError\u001b[0m                                 Traceback (most recent call last)",
      "Cell \u001b[0;32mIn[3], line 3\u001b[0m\n\u001b[1;32m      1\u001b[0m setsample \u001b[38;5;241m=\u001b[39m \u001b[38;5;28mset\u001b[39m()\n\u001b[0;32m----> 3\u001b[0m \u001b[43msetsample\u001b[49m\u001b[38;5;241;43m.\u001b[39;49m\u001b[43madd\u001b[49m\u001b[43m(\u001b[49m\u001b[43m[\u001b[49m\u001b[38;5;241;43m1\u001b[39;49m\u001b[43m,\u001b[49m\u001b[38;5;241;43m2\u001b[39;49m\u001b[43m]\u001b[49m\u001b[43m)\u001b[49m\n\u001b[1;32m      5\u001b[0m setsample\n",
      "\u001b[0;31mTypeError\u001b[0m: unhashable type: 'list'"
     ]
    }
   ],
   "source": [
    "setsample = set()\n",
    "\n",
    "setsample.add([1,2])\n",
    "\n",
    "setsample"
   ]
  },
  {
   "cell_type": "code",
   "execution_count": null,
   "id": "c9d22dc2-b954-4a90-b926-c1fdf90a9fc0",
   "metadata": {},
   "outputs": [],
   "source": []
  }
 ],
 "metadata": {
  "kernelspec": {
   "display_name": "Python 3 (ipykernel)",
   "language": "python",
   "name": "python3"
  },
  "language_info": {
   "codemirror_mode": {
    "name": "ipython",
    "version": 3
   },
   "file_extension": ".py",
   "mimetype": "text/x-python",
   "name": "python",
   "nbconvert_exporter": "python",
   "pygments_lexer": "ipython3",
   "version": "3.10.4"
  }
 },
 "nbformat": 4,
 "nbformat_minor": 5
}
