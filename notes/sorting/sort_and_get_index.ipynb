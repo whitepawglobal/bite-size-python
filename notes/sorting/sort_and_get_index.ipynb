{
 "cells": [
  {
   "cell_type": "code",
   "execution_count": null,
   "id": "dc072859-6989-4707-80bc-4ad769587ff3",
   "metadata": {},
   "outputs": [],
   "source": [
    "## sort and get the index"
   ]
  },
  {
   "cell_type": "code",
   "execution_count": 2,
   "id": "3bcd325a-5445-43f8-b859-fd41e79c7682",
   "metadata": {
    "tags": []
   },
   "outputs": [
    {
     "data": {
      "text/plain": [
       "[3, 4, 0, 2, 1]"
      ]
     },
     "execution_count": 2,
     "metadata": {},
     "output_type": "execute_result"
    }
   ],
   "source": [
    "import numpy as np\n",
    "\n",
    "inputlist : list[int] = [10, 100, 20, 1, 2]\n",
    "\n",
    "index_sorted = list(np.argsort(np.array(inputlist)))\n",
    "\n",
    "index_sorted"
   ]
  },
  {
   "cell_type": "code",
   "execution_count": null,
   "id": "162ac3c2-74a3-4497-a0fb-6436e20b3c2b",
   "metadata": {},
   "outputs": [],
   "source": []
  }
 ],
 "metadata": {
  "kernelspec": {
   "display_name": "Python 3 (ipykernel)",
   "language": "python",
   "name": "python3"
  },
  "language_info": {
   "codemirror_mode": {
    "name": "ipython",
    "version": 3
   },
   "file_extension": ".py",
   "mimetype": "text/x-python",
   "name": "python",
   "nbconvert_exporter": "python",
   "pygments_lexer": "ipython3",
   "version": "3.10.4"
  }
 },
 "nbformat": 4,
 "nbformat_minor": 5
}
