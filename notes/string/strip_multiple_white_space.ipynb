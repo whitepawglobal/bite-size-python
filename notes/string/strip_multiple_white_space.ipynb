{
 "cells": [
  {
   "cell_type": "markdown",
   "id": "e2b89ddb-f945-4b54-bec3-af8520c27998",
   "metadata": {},
   "source": [
    "## strip multiple white space into 1 "
   ]
  },
  {
   "cell_type": "code",
   "execution_count": 2,
   "id": "3a142bc7-75d9-4f3c-8935-804429fb6ad1",
   "metadata": {
    "tags": []
   },
   "outputs": [
    {
     "data": {
      "text/plain": [
       "'hello world. abc def. ffff f f f'"
      ]
     },
     "execution_count": 2,
     "metadata": {},
     "output_type": "execute_result"
    }
   ],
   "source": [
    "import re\n",
    "\n",
    "my_str = \"    hello world.   abc def.  ffff f f  f\"\n",
    "_RE_COMBINE_WHITESPACE = re.compile(r\"\\s+\")\n",
    "\n",
    "my_str = _RE_COMBINE_WHITESPACE.sub(\" \", my_str).strip()\n",
    "\n",
    "\n",
    "my_str"
   ]
  },
  {
   "cell_type": "code",
   "execution_count": null,
   "id": "34eed7b9-58f1-47d6-8b54-6ac041c3288c",
   "metadata": {},
   "outputs": [],
   "source": []
  }
 ],
 "metadata": {
  "kernelspec": {
   "display_name": "Python 3 (ipykernel)",
   "language": "python",
   "name": "python3"
  },
  "language_info": {
   "codemirror_mode": {
    "name": "ipython",
    "version": 3
   },
   "file_extension": ".py",
   "mimetype": "text/x-python",
   "name": "python",
   "nbconvert_exporter": "python",
   "pygments_lexer": "ipython3",
   "version": "3.10.4"
  }
 },
 "nbformat": 4,
 "nbformat_minor": 5
}
