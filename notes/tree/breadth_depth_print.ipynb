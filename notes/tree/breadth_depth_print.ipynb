{
 "cells": [
  {
   "cell_type": "code",
   "execution_count": 41,
   "id": "746511ea-07d2-4b62-b661-b29965e1ecb0",
   "metadata": {
    "tags": []
   },
   "outputs": [],
   "source": [
    "# Definition for a binary tree node.\n",
    "class TreeNode:\n",
    "    \n",
    "    def __init__(self, val=0, left=None, right=None):\n",
    "        \n",
    "        self.val = val\n",
    "        self.left = left\n",
    "        self.right = right\n",
    "            \n",
    "\n",
    "def breadthfirst(r: TreeNode):\n",
    "    \n",
    "    queue = list()\n",
    "    \n",
    "    queue.append(r)\n",
    "    \n",
    "    while True:\n",
    "        if not len(queue):\n",
    "            break\n",
    "            \n",
    "        node = queue.pop(0)\n",
    "        \n",
    "        if node.left:\n",
    "            queue.append(node.left)\n",
    "        \n",
    "        if node.right:\n",
    "            queue.append(node.right)\n",
    "            \n",
    "\n",
    "        print(node.val)\n",
    "        \n",
    "        \n",
    "        \n",
    "def depthfirst(r: TreeNode):\n",
    "    \n",
    "    stack = list()\n",
    "    \n",
    "    stack.append(r)\n",
    "    \n",
    "    while True:\n",
    "        \n",
    "        if not len(stack):\n",
    "            break\n",
    "            \n",
    "        node = stack.pop(-1)\n",
    "        \n",
    "        \n",
    "        if node.right:\n",
    "            stack.append(node.right)\n",
    "            \n",
    "        if node.left:\n",
    "            stack.append(node.left)\n",
    "        \n",
    "            \n",
    "\n",
    "        print(node.val)\n",
    "    \n",
    "    \n",
    "def print_tree_node(r: TreeNode):  \n",
    "\n",
    "    print(\"---breadth first---\")\n",
    "    breadthfirst(r)\n",
    "\n",
    "    print(\"---depth first---\")\n",
    "    depthfirst(r)\n",
    "        "
   ]
  },
  {
   "cell_type": "markdown",
   "id": "3a7445e8-1576-4020-aa07-c5c1b2b43a1b",
   "metadata": {
    "tags": []
   },
   "source": [
    "<img src=\"metadata/tree.png\" width=\"500\">"
   ]
  },
  {
   "cell_type": "code",
   "execution_count": 42,
   "id": "7593ae38-5fce-4185-bc84-657bafd39b4a",
   "metadata": {
    "tags": []
   },
   "outputs": [
    {
     "name": "stdout",
     "output_type": "stream",
     "text": [
      "---breadth first---\n",
      "1\n",
      "---depth first---\n",
      "1\n",
      "---breadth first---\n",
      "1\n",
      "2\n",
      "3\n",
      "---depth first---\n",
      "1\n",
      "2\n",
      "3\n",
      "---breadth first---\n",
      "4\n",
      "2\n",
      "8\n",
      "1\n",
      "3\n",
      "6\n",
      "9\n",
      "5\n",
      "7\n",
      "---depth first---\n",
      "4\n",
      "2\n",
      "1\n",
      "3\n",
      "8\n",
      "6\n",
      "5\n",
      "7\n",
      "9\n"
     ]
    }
   ],
   "source": [
    "rootnode1 = TreeNode(1)\n",
    "rootnode2 = TreeNode(1, TreeNode(2), TreeNode(3))\n",
    "\n",
    "nodea= TreeNode(6, TreeNode(5), TreeNode(7))\n",
    "nodeb = TreeNode(8, nodea, TreeNode(9))\n",
    "nodec = TreeNode(2, TreeNode(1), TreeNode(3))\n",
    "rootnode3 = TreeNode(4, nodec, nodeb)\n",
    "\n",
    "\n",
    "print_tree_node(rootnode1)\n",
    "\n",
    "print_tree_node(rootnode2)\n",
    "\n",
    "print_tree_node(rootnode3)\n"
   ]
  },
  {
   "cell_type": "code",
   "execution_count": null,
   "id": "50028e50-8d12-4b57-93ff-e634ed269d75",
   "metadata": {},
   "outputs": [],
   "source": []
  }
 ],
 "metadata": {
  "kernelspec": {
   "display_name": "Python 3 (ipykernel)",
   "language": "python",
   "name": "python3"
  },
  "language_info": {
   "codemirror_mode": {
    "name": "ipython",
    "version": 3
   },
   "file_extension": ".py",
   "mimetype": "text/x-python",
   "name": "python",
   "nbconvert_exporter": "python",
   "pygments_lexer": "ipython3",
   "version": "3.10.4"
  }
 },
 "nbformat": 4,
 "nbformat_minor": 5
}
