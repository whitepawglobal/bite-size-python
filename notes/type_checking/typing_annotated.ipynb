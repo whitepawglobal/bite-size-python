{
 "cells": [
  {
   "cell_type": "markdown",
   "id": "d9a81f4d-2645-41c7-8fd2-bcca2ba93bce",
   "metadata": {},
   "source": [
    "### python 3.9 onwards\n",
    "\n",
    "- import with `from typing import Annotated`\n",
    "- first variable is actual type\n",
    "- second variable is metadata\n",
    "- Annotated by itself do nothing with the metadata Annotated, but when combine with FastAPI can become more powerful in controlling how the application to behave."
   ]
  },
  {
   "cell_type": "code",
   "execution_count": 1,
   "id": "f84d618d-e060-4ca3-9f56-c35d15cf4413",
   "metadata": {
    "tags": []
   },
   "outputs": [],
   "source": [
    "from typing import Annotated\n",
    "\n",
    "\n",
    "def say_hello(name: Annotated[str, \"this is just metadata\"]) -> str:\n",
    "    return f\"Hello {name}\""
   ]
  },
  {
   "cell_type": "code",
   "execution_count": 2,
   "id": "b3b95576-e72f-4a9f-88bb-91266133cf7d",
   "metadata": {
    "tags": []
   },
   "outputs": [
    {
     "data": {
      "text/plain": [
       "'Hello hello'"
      ]
     },
     "execution_count": 2,
     "metadata": {},
     "output_type": "execute_result"
    }
   ],
   "source": [
    "say_hello(\"hello\")"
   ]
  },
  {
   "cell_type": "code",
   "execution_count": null,
   "id": "63127c62-8730-45b0-84f9-6b2c91bc84af",
   "metadata": {},
   "outputs": [],
   "source": []
  }
 ],
 "metadata": {
  "kernelspec": {
   "display_name": "Python 3 (ipykernel)",
   "language": "python",
   "name": "python3"
  },
  "language_info": {
   "codemirror_mode": {
    "name": "ipython",
    "version": 3
   },
   "file_extension": ".py",
   "mimetype": "text/x-python",
   "name": "python",
   "nbconvert_exporter": "python",
   "pygments_lexer": "ipython3",
   "version": "3.10.4"
  }
 },
 "nbformat": 4,
 "nbformat_minor": 5
}
