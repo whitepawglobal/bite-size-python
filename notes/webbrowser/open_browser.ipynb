{
 "cells": [
  {
   "cell_type": "markdown",
   "id": "c3230f98-4759-4d70-9ab6-34874c4c996c",
   "metadata": {
    "tags": []
   },
   "source": [
    "## Use case\n",
    "- test if deployment to a web is working\n",
    "- in script to start the webbrowser"
   ]
  },
  {
   "cell_type": "code",
   "execution_count": 3,
   "id": "536bcdd4-9e19-422e-affb-b1c84bd6838a",
   "metadata": {
    "tags": []
   },
   "outputs": [],
   "source": [
    "import webbrowser"
   ]
  },
  {
   "cell_type": "code",
   "execution_count": 7,
   "id": "6df50b94-6a03-4f18-a98b-f35e06a5244b",
   "metadata": {
    "tags": []
   },
   "outputs": [
    {
     "data": {
      "text/plain": [
       "True"
      ]
     },
     "execution_count": 7,
     "metadata": {},
     "output_type": "execute_result"
    }
   ],
   "source": [
    "webbrowser.open('http://www.python.org') \n",
    "\n",
    "#or\n",
    "\n",
    "webbrowser.open_new('http://www.python.org')\n",
    "\n",
    "#or\n",
    "\n",
    "webbrowser.open_new_tab('http://www.python.org')\n",
    "\n"
   ]
  },
  {
   "cell_type": "markdown",
   "id": "a62488f7-d535-4721-aa25-4673f7f5cc11",
   "metadata": {},
   "source": [
    "## Open at a specific browser"
   ]
  },
  {
   "cell_type": "code",
   "execution_count": 10,
   "id": "6ad910ce-53da-4005-8f60-30cdc0f093ff",
   "metadata": {
    "tags": []
   },
   "outputs": [
    {
     "data": {
      "text/plain": [
       "True"
      ]
     },
     "execution_count": 10,
     "metadata": {},
     "output_type": "execute_result"
    }
   ],
   "source": [
    "\n",
    "c = webbrowser.get('chrome')\n",
    "c.open('http://www.python.org')\n",
    " \n",
    "c.open_new_tab('http://docs.python.org')"
   ]
  },
  {
   "cell_type": "markdown",
   "id": "a80f7514-5f3f-46ff-a0d6-3ae9dc4fe487",
   "metadata": {
    "tags": []
   },
   "source": [
    "## can be used as a command line too \n",
    "\n",
    "```\n",
    "python -m webbrowser -t \"https://www.python.org\"\n",
    "```"
   ]
  },
  {
   "cell_type": "code",
   "execution_count": null,
   "id": "4a46f259-213c-4d72-9a20-613033428f37",
   "metadata": {},
   "outputs": [],
   "source": []
  }
 ],
 "metadata": {
  "kernelspec": {
   "display_name": "Python 3 (ipykernel)",
   "language": "python",
   "name": "python3"
  },
  "language_info": {
   "codemirror_mode": {
    "name": "ipython",
    "version": 3
   },
   "file_extension": ".py",
   "mimetype": "text/x-python",
   "name": "python",
   "nbconvert_exporter": "python",
   "pygments_lexer": "ipython3",
   "version": "3.10.4"
  }
 },
 "nbformat": 4,
 "nbformat_minor": 5
}
