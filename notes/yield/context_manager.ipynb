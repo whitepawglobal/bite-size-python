{
 "cells": [
  {
   "cell_type": "markdown",
   "id": "b698965f-c3a4-4841-b602-dc3a27c92b6e",
   "metadata": {},
   "source": [
    "## context maneger are any of those python objects you can use with the statment `with`\n",
    "- Underneath, the `open(\"./somefile.txt\")` creates an object that is a called a \"Context Manager\".\n",
    "- When the `with` block finishes, it makes sure to close the file, even if there were exceptions."
   ]
  },
  {
   "cell_type": "code",
   "execution_count": null,
   "id": "8274d88a-0cb2-4331-bbb6-5407faea113e",
   "metadata": {},
   "outputs": [],
   "source": [
    "with open(\"./somefile.txt\") as f:\n",
    "    contents = f.read()\n",
    "    print(contents)"
   ]
  }
 ],
 "metadata": {
  "kernelspec": {
   "display_name": "Python 3 (ipykernel)",
   "language": "python",
   "name": "python3"
  },
  "language_info": {
   "codemirror_mode": {
    "name": "ipython",
    "version": 3
   },
   "file_extension": ".py",
   "mimetype": "text/x-python",
   "name": "python",
   "nbconvert_exporter": "python",
   "pygments_lexer": "ipython3",
   "version": "3.10.4"
  }
 },
 "nbformat": 4,
 "nbformat_minor": 5
}
