{
 "cells": [
  {
   "cell_type": "markdown",
   "id": "c47c32cd-f121-44cf-b491-498dc5382c2a",
   "metadata": {
    "tags": []
   },
   "source": [
    "# yield, generators, iterables\n",
    "\n",
    "## when to use yield (to return generators)\n",
    "- use yield when we want to iterate over a sequence, but don’t want to store the entire sequence in memory\n",
    "    - yield is memory efficient (since returned object can only run once)\n",
    "        - under the hood: returns a generator object to the one who calls the function which contains yield, instead of simply returning a value\n",
    "\n",
    "## References\n",
    "- https://stackoverflow.com/questions/231767/what-does-the-yield-keyword-do-in-python"
   ]
  },
  {
   "cell_type": "markdown",
   "id": "1d7316dd-5c49-47ed-9e45-55f5836cf4d7",
   "metadata": {
    "tags": []
   },
   "source": [
    "## iterables\n",
    "\n",
    "- mylist is an _iterable_\n",
    "- Everything you can use `for... in...` on is an iterable; lists, strings, files...\n",
    "- These iterables are handy because you can read them as much as you wish, but you store all the values in memory and this is not always what you want when you have a lot of values.\n",
    "\n"
   ]
  },
  {
   "cell_type": "code",
   "execution_count": 2,
   "id": "14c9fa02-b0b2-4426-9cfc-cd449028286d",
   "metadata": {
    "tags": []
   },
   "outputs": [
    {
     "name": "stdout",
     "output_type": "stream",
     "text": [
      "0\n",
      "1\n",
      "4\n"
     ]
    }
   ],
   "source": [
    "mylist = [x*x for x in range(3)]\n",
    "\n",
    "for i in mylist:\n",
    "    \n",
    "    print(i)"
   ]
  },
  {
   "cell_type": "markdown",
   "id": "42e1e2b2-d58b-4a8e-bca3-233a5fc40838",
   "metadata": {
    "tags": []
   },
   "source": [
    "## generators\n",
    "\n",
    "- Generators are iterators, a kind of iterable you can only iterate over once. \n",
    "- `Generators` do not store all the values in memory, they generate the values on the fly:"
   ]
  },
  {
   "cell_type": "code",
   "execution_count": 7,
   "id": "2a25d59d-ae8d-4159-9b7b-f75525cb2bcb",
   "metadata": {
    "tags": []
   },
   "outputs": [
    {
     "name": "stdout",
     "output_type": "stream",
     "text": [
      "<class 'generator'>\n",
      "0\n",
      "1\n",
      "4\n"
     ]
    }
   ],
   "source": [
    "mygenerator = (x*x for x in range(3))\n",
    "\n",
    "print(type(mygenerator))\n",
    "\n",
    "for i in mygenerator:\n",
    "    print(i)"
   ]
  },
  {
   "cell_type": "markdown",
   "id": "58e6990b-324e-427e-9f66-b08f164f8e33",
   "metadata": {},
   "source": [
    "- It is just the same except you used () instead of []. \n",
    "- BUT, you cannot perform for i in mygenerator a second time since generators can only be used once: they calculate 0, then forget about it and calculate 1, and end after calculating 4, one by one."
   ]
  },
  {
   "cell_type": "code",
   "execution_count": 5,
   "id": "e7b9f504-ed8a-4cd5-9460-dd6c4c61b191",
   "metadata": {
    "tags": []
   },
   "outputs": [],
   "source": [
    "for i in mygenerator:\n",
    "    print(i)"
   ]
  },
  {
   "cell_type": "markdown",
   "id": "61f6d691-48a6-4ba4-85c3-c0e32ff82474",
   "metadata": {
    "tags": []
   },
   "source": [
    "## yield\n",
    "- yield is a keyword that is used like return, except the function will return a generator.\n",
    "- it's handy when you know your function will return a huge set of values that you will only need to read once."
   ]
  },
  {
   "cell_type": "code",
   "execution_count": 8,
   "id": "ea96304e-d9df-4955-bf46-aae5bd013bd4",
   "metadata": {
    "tags": []
   },
   "outputs": [
    {
     "name": "stdout",
     "output_type": "stream",
     "text": [
      "<class 'generator'>\n",
      "0\n",
      "1\n",
      "4\n"
     ]
    }
   ],
   "source": [
    "def create_generator():\n",
    "    \n",
    "    mylist = range(3) # this is a generator\n",
    "    \n",
    "    for i in mylist:\n",
    "        \n",
    "        yield i * i\n",
    "        \n",
    "mygenerator = create_generator()\n",
    "print(type(mygenerator))\n",
    "\n",
    "for i in mygenerator: \n",
    "    \n",
    "    print(i)"
   ]
  },
  {
   "cell_type": "code",
   "execution_count": null,
   "id": "f22171d2-237f-40c9-a563-227daba31b9c",
   "metadata": {},
   "outputs": [],
   "source": []
  }
 ],
 "metadata": {
  "kernelspec": {
   "display_name": "Python 3 (ipykernel)",
   "language": "python",
   "name": "python3"
  },
  "language_info": {
   "codemirror_mode": {
    "name": "ipython",
    "version": 3
   },
   "file_extension": ".py",
   "mimetype": "text/x-python",
   "name": "python",
   "nbconvert_exporter": "python",
   "pygments_lexer": "ipython3",
   "version": "3.10.4"
  }
 },
 "nbformat": 4,
 "nbformat_minor": 5
}
